{
 "metadata": {
  "name": "",
  "signature": "sha256:6c64c1fbd75266dadfb87f4024c4c19ad63bf9905f485c3407d6678196d9a27d"
 },
 "nbformat": 3,
 "nbformat_minor": 0,
 "worksheets": [
  {
   "cells": [
    {
     "cell_type": "code",
     "collapsed": false,
     "input": [
      "import unicodedata\n",
      "liste=[]\n",
      "s = u\"\u0254\u0303w\u0303\u0254t\u0268\"\n",
      "comb=False\n",
      "prec=u\"\"\n",
      "for char in s:\n",
      "    if unicodedata.combining(char):\n",
      "        liste.append(prec+char)\n",
      "        prec=\"\"\n",
      "    else:\n",
      "        liste.append(prec)\n",
      "        prec=char\n",
      "liste.append(prec)\n",
      "print \" \".join(liste)"
     ],
     "language": "python",
     "metadata": {},
     "outputs": [
      {
       "output_type": "stream",
       "stream": "stdout",
       "text": [
        " \u0254\u0303  w\u0303  \u0254 t \u0268\n"
       ]
      }
     ],
     "prompt_number": 34
    },
    {
     "cell_type": "code",
     "collapsed": false,
     "input": [
      "import itertools as it\n",
      "liste=[1,2,3,4,5]\n",
      "list(it.product(liste,liste))"
     ],
     "language": "python",
     "metadata": {},
     "outputs": [
      {
       "metadata": {},
       "output_type": "pyout",
       "prompt_number": 6,
       "text": [
        "[(1, 1),\n",
        " (1, 2),\n",
        " (1, 3),\n",
        " (1, 4),\n",
        " (1, 5),\n",
        " (2, 1),\n",
        " (2, 2),\n",
        " (2, 3),\n",
        " (2, 4),\n",
        " (2, 5),\n",
        " (3, 1),\n",
        " (3, 2),\n",
        " (3, 3),\n",
        " (3, 4),\n",
        " (3, 5),\n",
        " (4, 1),\n",
        " (4, 2),\n",
        " (4, 3),\n",
        " (4, 4),\n",
        " (4, 5),\n",
        " (5, 1),\n",
        " (5, 2),\n",
        " (5, 3),\n",
        " (5, 4),\n",
        " (5, 5)]"
       ]
      }
     ],
     "prompt_number": 6
    },
    {
     "cell_type": "code",
     "collapsed": false,
     "input": [],
     "language": "python",
     "metadata": {},
     "outputs": []
    }
   ],
   "metadata": {}
  }
 ]
}