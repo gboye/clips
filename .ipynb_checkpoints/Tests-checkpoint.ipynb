{
 "cells": [
  {
   "cell_type": "code",
   "execution_count": 10,
   "metadata": {
    "collapsed": false
   },
   "outputs": [
    {
     "data": {
      "text/html": [
       "<div>\n",
       "<table border=\"1\" class=\"dataframe\">\n",
       "  <thead>\n",
       "    <tr>\n",
       "      <th></th>\n",
       "      <th colspan=\"2\" halign=\"left\">ortho</th>\n",
       "      <th colspan=\"2\" halign=\"left\">fréquence</th>\n",
       "    </tr>\n",
       "    <tr>\n",
       "      <th>case</th>\n",
       "      <th>inf</th>\n",
       "      <th>prs3</th>\n",
       "      <th>inf</th>\n",
       "      <th>prs3</th>\n",
       "    </tr>\n",
       "    <tr>\n",
       "      <th>lexeme</th>\n",
       "      <th></th>\n",
       "      <th></th>\n",
       "      <th></th>\n",
       "      <th></th>\n",
       "    </tr>\n",
       "  </thead>\n",
       "  <tbody>\n",
       "    <tr>\n",
       "      <th>asseoir</th>\n",
       "      <td>set([asseoir])</td>\n",
       "      <td>set([asseoit, assied])</td>\n",
       "      <td>set([20000])</td>\n",
       "      <td>set([5000, 7500])</td>\n",
       "    </tr>\n",
       "    <tr>\n",
       "      <th>manger</th>\n",
       "      <td>set([manger])</td>\n",
       "      <td>set([mange])</td>\n",
       "      <td>set([50000])</td>\n",
       "      <td>set([12000])</td>\n",
       "    </tr>\n",
       "  </tbody>\n",
       "</table>\n",
       "</div>"
      ],
      "text/plain": [
       "                  ortho                             fréquence  \\\n",
       "case                inf                    prs3           inf   \n",
       "lexeme                                                          \n",
       "asseoir  set([asseoir])  set([asseoit, assied])  set([20000])   \n",
       "manger    set([manger])            set([mange])  set([50000])   \n",
       "\n",
       "                            \n",
       "case                  prs3  \n",
       "lexeme                      \n",
       "asseoir  set([5000, 7500])  \n",
       "manger        set([12000])  "
      ]
     },
     "execution_count": 10,
     "metadata": {},
     "output_type": "execute_result"
    }
   ],
   "source": [
    "import pandas as pd\n",
    "#source={\"manger\":{\"prs3\":[\"mange\"],\"inf\":[\"manger\"]},\"asseoir\":{\"prs3\":[\"assoit\",\"assied\"],\"inf\":[\"asseoir\"]}}\n",
    "source=[[\"mange\",\"prs3\",\"manger\",12000],\n",
    "        [\"asseoir\",\"inf\",\"asseoir\",20000],\n",
    "        [\"manger\",\"inf\",\"manger\",50000],\n",
    "        [\"asseoit\",\"prs3\",\"asseoir\",5000],\n",
    "        [\"assied\",\"prs3\",\"asseoir\",7500]\n",
    "        ]\n",
    "table=pd.DataFrame(source,columns=[\"ortho\",\"case\",\"lexeme\",\"fréquence\"])\n",
    "pd.pivot_table(table,index=[\"lexeme\"],columns=[\"case\"],values=[\"ortho\",\"fréquence\"],aggfunc=lambda x: set(x))"
   ]
  },
  {
   "cell_type": "code",
   "execution_count": 26,
   "metadata": {
    "collapsed": false
   },
   "outputs": [
    {
     "name": "stdout",
     "output_type": "stream",
     "text": [
      "34.3630722761 2.3612023712\n",
      "2.75162916739 0.86804235625\n"
     ]
    }
   ],
   "source": [
    "import re,codecs,math\n",
    "textFile=\"./test.txt\"\n",
    "with codecs.open(textFile,\"r\",encoding=\"utf8\") as input:\n",
    "    text=input.readlines()\n",
    "    \n",
    "\n",
    "def countWords(text):\n",
    "    wordFreq={}\n",
    "    nbWords=0\n",
    "    for line in text:\n",
    "        chunks=line.split(\" \")\n",
    "        for chunk in chunks:\n",
    "            m=re.findall(u\"\\w+\",chunk,re.UNICODE)\n",
    "            if m:\n",
    "                for element in m:\n",
    "                    word=element.lower()\n",
    "                    if not word in wordFreq:\n",
    "                        wordFreq[word]=0\n",
    "                    wordFreq[word]+=1\n",
    "                    nbWords+=1\n",
    "    return (wordFreq,nbWords)\n",
    "\n",
    "def calculateEntropy(freqDict,total):\n",
    "    entropy=0\n",
    "    nbElements=0\n",
    "    for element in freqDict:\n",
    "        p=float(freqDict[element])/total\n",
    "        entropy-=p*math.log(p,2)\n",
    "        nbElements+=1\n",
    "    if nbElements==total:\n",
    "        return entropy\n",
    "    else:\n",
    "        return calculateEntropy(freqDict,nbElements)\n",
    "(wordFreq,nbWords)=countWords(text)\n",
    "entropy=calculateEntropy(wordFreq,nbWords)\n",
    "print entropy, entropy/math.log(nbWords,2)\n",
    "\n",
    "wordList = ['the', 'the', 'the', 'a', 'a', 'over', 'love', 'one', 'tree']    \n",
    "(wordFreq,nbWords)=countWords(wordList)\n",
    "entropy=calculateEntropy(wordFreq,nbWords)\n",
    "print entropy, entropy/math.log(nbWords,2)\n"
   ]
  },
  {
   "cell_type": "code",
   "execution_count": 12,
   "metadata": {
    "collapsed": false
   },
   "outputs": [
    {
     "name": "stdout",
     "output_type": "stream",
     "text": [
      "1\n",
      "2\n",
      "Fizz\n",
      "4\n",
      "Buzz\n",
      "Fizz\n",
      "7\n",
      "8\n",
      "Fizz\n",
      "Buzz\n",
      "11\n",
      "Fizz\n",
      "13\n",
      "14\n",
      "FizzBuzz\n",
      "16\n",
      "17\n",
      "Fizz\n",
      "19\n",
      "Buzz\n",
      "Fizz\n",
      "22\n",
      "23\n",
      "Fizz\n",
      "Buzz\n",
      "26\n",
      "Fizz\n",
      "28\n",
      "29\n",
      "FizzBuzz\n",
      "31\n",
      "32\n",
      "Fizz\n",
      "34\n",
      "Buzz\n",
      "Fizz\n",
      "37\n",
      "38\n",
      "Fizz\n",
      "Buzz\n",
      "41\n",
      "Fizz\n",
      "43\n",
      "44\n",
      "FizzBuzz\n",
      "46\n",
      "47\n",
      "Fizz\n",
      "49\n",
      "Buzz\n",
      "Fizz\n",
      "52\n",
      "53\n",
      "Fizz\n",
      "Buzz\n",
      "56\n",
      "Fizz\n",
      "58\n",
      "59\n",
      "FizzBuzz\n",
      "61\n",
      "62\n",
      "Fizz\n",
      "64\n",
      "Buzz\n",
      "Fizz\n",
      "67\n",
      "68\n",
      "Fizz\n",
      "Buzz\n",
      "71\n",
      "Fizz\n",
      "73\n",
      "74\n",
      "FizzBuzz\n",
      "76\n",
      "77\n",
      "Fizz\n",
      "79\n",
      "Buzz\n",
      "Fizz\n",
      "82\n",
      "83\n",
      "Fizz\n",
      "Buzz\n",
      "86\n",
      "Fizz\n",
      "88\n",
      "89\n",
      "FizzBuzz\n",
      "91\n",
      "92\n",
      "Fizz\n",
      "94\n",
      "Buzz\n",
      "Fizz\n",
      "97\n",
      "98\n",
      "Fizz\n",
      "Buzz\n"
     ]
    }
   ],
   "source": [
    "i=0;exec\"print i%3/2*'Fizz'+i%5/4*'Buzz'or-~i;i+=1;\"*100"
   ]
  },
  {
   "cell_type": "code",
   "execution_count": null,
   "metadata": {
    "collapsed": true
   },
   "outputs": [],
   "source": []
  },
  {
   "cell_type": "code",
   "execution_count": null,
   "metadata": {
    "collapsed": true
   },
   "outputs": [],
   "source": []
  },
  {
   "cell_type": "code",
   "execution_count": null,
   "metadata": {
    "collapsed": true
   },
   "outputs": [],
   "source": []
  },
  {
   "cell_type": "code",
   "execution_count": 13,
   "metadata": {
    "collapsed": false
   },
   "outputs": [
    {
     "data": {
      "text/plain": [
       "{(1, 2, 3, 4)}"
      ]
     },
     "execution_count": 13,
     "metadata": {},
     "output_type": "execute_result"
    }
   ],
   "source": [
    "set([(1,2,3,4),(1,2,3,4),(1,2,3,4),(1,2,3,4),(1,2,3,4)])"
   ]
  },
  {
   "cell_type": "code",
   "execution_count": 3,
   "metadata": {
    "collapsed": false
   },
   "outputs": [
    {
     "data": {
      "text/plain": [
       "(1, 2, 3, 4)"
      ]
     },
     "execution_count": 3,
     "metadata": {},
     "output_type": "execute_result"
    }
   ],
   "source": [
    "quad=[1,2,3,4]\n",
    "tuple(quad)\n"
   ]
  },
  {
   "cell_type": "code",
   "execution_count": 34,
   "metadata": {
    "collapsed": false
   },
   "outputs": [
    {
     "name": "stdout",
     "output_type": "stream",
     "text": [
      " ɔ̃  w̃  ɔ t ɨ\n"
     ]
    }
   ],
   "source": [
    "import unicodedata\n",
    "liste=[]\n",
    "s = u\"ɔ̃w̃ɔtɨ\"\n",
    "comb=False\n",
    "prec=u\"\"\n",
    "for char in s:\n",
    "    if unicodedata.combining(char):\n",
    "        liste.append(prec+char)\n",
    "        prec=\"\"\n",
    "    else:\n",
    "        liste.append(prec)\n",
    "        prec=char\n",
    "liste.append(prec)\n",
    "print \" \".join(liste)"
   ]
  },
  {
   "cell_type": "code",
   "execution_count": 6,
   "metadata": {
    "collapsed": false,
    "scrolled": true
   },
   "outputs": [
    {
     "data": {
      "text/plain": [
       "[(1, 1),\n",
       " (1, 2),\n",
       " (1, 3),\n",
       " (1, 4),\n",
       " (1, 5),\n",
       " (2, 1),\n",
       " (2, 2),\n",
       " (2, 3),\n",
       " (2, 4),\n",
       " (2, 5),\n",
       " (3, 1),\n",
       " (3, 2),\n",
       " (3, 3),\n",
       " (3, 4),\n",
       " (3, 5),\n",
       " (4, 1),\n",
       " (4, 2),\n",
       " (4, 3),\n",
       " (4, 4),\n",
       " (4, 5),\n",
       " (5, 1),\n",
       " (5, 2),\n",
       " (5, 3),\n",
       " (5, 4),\n",
       " (5, 5)]"
      ]
     },
     "execution_count": 6,
     "metadata": {},
     "output_type": "execute_result"
    }
   ],
   "source": [
    "import itertools as it\n",
    "liste=[1,2,3,4,5]\n",
    "list(it.product(liste,liste))"
   ]
  },
  {
   "cell_type": "code",
   "execution_count": 1,
   "metadata": {
    "collapsed": false
   },
   "outputs": [
    {
     "ename": "ImportError",
     "evalue": "No module named igraph",
     "output_type": "error",
     "traceback": [
      "\u001b[0;31m---------------------------------------------------------------------------\u001b[0m",
      "\u001b[0;31mImportError\u001b[0m                               Traceback (most recent call last)",
      "\u001b[0;32m<ipython-input-1-7812bcb10e96>\u001b[0m in \u001b[0;36m<module>\u001b[0;34m()\u001b[0m\n\u001b[0;32m----> 1\u001b[0;31m \u001b[0;32mimport\u001b[0m \u001b[0migraph\u001b[0m\u001b[0;34m\u001b[0m\u001b[0m\n\u001b[0m\u001b[1;32m      2\u001b[0m \u001b[0migraph\u001b[0m\u001b[0;34m.\u001b[0m\u001b[0mdraw\u001b[0m\u001b[0;34m(\u001b[0m\u001b[0;34m[\u001b[0m\u001b[0;34m(\u001b[0m\u001b[0;36m1\u001b[0m\u001b[0;34m,\u001b[0m \u001b[0;36m2\u001b[0m\u001b[0;34m)\u001b[0m\u001b[0;34m,\u001b[0m \u001b[0;34m(\u001b[0m\u001b[0;36m2\u001b[0m\u001b[0;34m,\u001b[0m \u001b[0;36m3\u001b[0m\u001b[0;34m)\u001b[0m\u001b[0;34m,\u001b[0m \u001b[0;34m(\u001b[0m\u001b[0;36m3\u001b[0m\u001b[0;34m,\u001b[0m \u001b[0;36m4\u001b[0m\u001b[0;34m)\u001b[0m\u001b[0;34m,\u001b[0m \u001b[0;34m(\u001b[0m\u001b[0;36m4\u001b[0m\u001b[0;34m,\u001b[0m \u001b[0;36m1\u001b[0m\u001b[0;34m)\u001b[0m\u001b[0;34m,\u001b[0m \u001b[0;34m(\u001b[0m\u001b[0;36m4\u001b[0m\u001b[0;34m,\u001b[0m \u001b[0;36m5\u001b[0m\u001b[0;34m)\u001b[0m\u001b[0;34m,\u001b[0m \u001b[0;34m(\u001b[0m\u001b[0;36m5\u001b[0m\u001b[0;34m,\u001b[0m \u001b[0;36m2\u001b[0m\u001b[0;34m)\u001b[0m\u001b[0;34m]\u001b[0m\u001b[0;34m)\u001b[0m\u001b[0;34m\u001b[0m\u001b[0m\n",
      "\u001b[0;31mImportError\u001b[0m: No module named igraph"
     ]
    }
   ],
   "source": [
    "import igraph\n",
    "igraph.draw([(1, 2), (2, 3), (3, 4), (4, 1), (4, 5), (5, 2)])\n"
   ]
  },
  {
   "cell_type": "code",
   "execution_count": 18,
   "metadata": {
    "collapsed": false
   },
   "outputs": [],
   "source": [
    "import matplotlib.pyplot as plt"
   ]
  },
  {
   "cell_type": "code",
   "execution_count": 21,
   "metadata": {
    "collapsed": false
   },
   "outputs": [],
   "source": [
    "%matplotlib inline"
   ]
  },
  {
   "cell_type": "code",
   "execution_count": 22,
   "metadata": {
    "collapsed": false
   },
   "outputs": [
    {
     "data": {
      "text/plain": [
       "[<matplotlib.lines.Line2D at 0x114c3a2d0>]"
      ]
     },
     "execution_count": 22,
     "metadata": {},
     "output_type": "execute_result"
    },
    {
     "data": {
      "image/png": "[encoded data removed]",
      "text/plain": [
       "<matplotlib.figure.Figure at 0x114b62150>"
      ]
     },
     "metadata": {},
     "output_type": "display_data"
    }
   ],
   "source": [
    "plt.plot(liste)"
   ]
  },
  {
   "cell_type": "code",
   "execution_count": 5,
   "metadata": {
    "collapsed": false
   },
   "outputs": [
    {
     "name": "stdout",
     "output_type": "stream",
     "text": [
      "9\n",
      "20\n",
      "11\n",
      "17\n",
      "19\n",
      "13\n"
     ]
    }
   ],
   "source": [
    "liste=[u\"_ _ _ α _ _ _ _ _\",\n",
    "       u\"_ _ _ _ _ _ _ β _ _ _ _ _ _ _ _ _ _ _ _\",\n",
    "       u\"_ γ _ _ _ _ _ _ _ _ _\",\n",
    "       u\"_ _ _ _ _ _ _ _ _ _ _ _ _ δ _ _ _\",\n",
    "       u\"_ _ _ _ _ _ _ _ _ _ _ _ _ _ ε _ _ _ _\",\n",
    "       u\"ζ _ _ _ _ _ _ _ _ _ _ _ _\"]\n",
    "\n",
    "for element in liste:\n",
    "    mot=element.replace(\" \",\"\")\n",
    "    print len(mot)\n"
   ]
  },
  {
   "cell_type": "code",
   "execution_count": 11,
   "metadata": {
    "collapsed": false
   },
   "outputs": [
    {
     "name": "stdout",
     "output_type": "stream",
     "text": [
      "20\n",
      "11\n",
      "11\n",
      "17\n",
      "19\n",
      "13\n"
     ]
    }
   ],
   "source": [
    "liste=[u\"être au creux de la vague\",\n",
    "       u\"extravagant\",\n",
    "       u\"_ γ _ _ _ _ _ _ _ _ _\",\n",
    "       u\"_ _ _ _ _ _ _ _ _ _ _ _ _ δ _ _ _\",\n",
    "       u\"_ _ _ _ _ _ _ _ _ _ _ _ _ _ ε _ _ _ _\",\n",
    "       u\"ζ _ _ _ _ _ _ _ _ _ _ _ _\"]\n",
    "\n",
    "for element in liste:\n",
    "    mot=element.replace(\" \",\"\")\n",
    "    print len(mot)\n"
   ]
  },
  {
   "cell_type": "code",
   "execution_count": 42,
   "metadata": {
    "collapsed": false
   },
   "outputs": [],
   "source": [
    "from lxml import etree\n",
    "xmlData=\"\"\"\n",
    "            <Turn>\n",
    "            <Sync />\n",
    "            texte1\n",
    "            <Event />\n",
    "            <disfluence>\n",
    "            blabla1\n",
    "            </disfluence>\n",
    "            <Event />\n",
    "            texte2\n",
    "            </Turn>\n",
    "        \"\"\"\n",
    "root=etree.fromstring(xmlData.replace(\"\\n\",\"\"))"
   ]
  },
  {
   "cell_type": "code",
   "execution_count": 53,
   "metadata": {
    "collapsed": false
   },
   "outputs": [
    {
     "name": "stdout",
     "output_type": "stream",
     "text": [
      "            \n",
      "            texte1            \n",
      "            \n",
      "            \n",
      "            texte2            \n"
     ]
    }
   ],
   "source": [
    "for element in root.xpath(\"//Turn/text()\"):\n",
    "    print element"
   ]
  },
  {
   "cell_type": "code",
   "execution_count": 72,
   "metadata": {
    "collapsed": false
   },
   "outputs": [],
   "source": [
    "xmlTest='''\n",
    "<Turn speaker=\"spk1 spk5\" startTime=\"97.746\" endTime=\"99.988\">\n",
    "<Sync time=\"97.746\">\n",
    "<Who nb=\"1\"/>\n",
    "deux trois ou quatre\n",
    "<Who nb=\"2\"/>\n",
    "\n",
    "<Event desc=\"conv\" type=\"noise\" extent=\"instantaneous\"/>\n",
    "\n",
    "</Sync>\n",
    "</Turn>\n",
    "<Turn speaker=\"spk6\" startTime=\"99.988\" endTime=\"102.521\">\n",
    "<Sync time=\"99.988\">\n",
    "\n",
    "<Event desc=\"rire en fond\" type=\"noise\" extent=\"instantaneous\"/>\n",
    "\n",
    "</Sync>\n",
    "</Turn>\n",
    "'''"
   ]
  },
  {
   "cell_type": "code",
   "execution_count": 76,
   "metadata": {
    "collapsed": false
   },
   "outputs": [
    {
     "name": "stdout",
     "output_type": "stream",
     "text": [
      "\n",
      "<Turn speaker=\"spk1 spk5\" startTime=\"97.746\" endTime=\"99.988\">\n",
      "<Sync time=\"97.746\">\n",
      "<Who nb=\"1\"/>\n",
      "deux trois ou quatre\n",
      "<Who nb=\"2\">\n",
      "\n",
      "<Event desc=\"conv\" type=\"noise\" extent=\"instantaneous\"/>\n",
      "\n",
      "</Who></Sync>\n",
      "</Turn>\n",
      "<Turn speaker=\"spk6\" startTime=\"99.988\" endTime=\"102.521\">\n",
      "<Sync time=\"99.988\">\n",
      "\n",
      "<Event desc=\"rire en fond\" type=\"noise\" extent=\"instantaneous\"/>\n",
      "\n",
      "</Sync>\n",
      "</Turn>\n",
      "\n"
     ]
    }
   ],
   "source": [
    "import re\n",
    "essai = re.sub(r'<Who nb=\"2\"/>(.*?)(</Sync>)',r'<Who nb=\"2\">\\1</Who>\\2',xmlTest,flags=re.DOTALL)\n",
    "#essai = re.search(re.escape('^(<Who nb=\"2\"/>)'),xmlTest,flags=re.MULTILINE)\n",
    "print essai"
   ]
  },
  {
   "cell_type": "code",
   "execution_count": 71,
   "metadata": {
    "collapsed": false
   },
   "outputs": [
    {
     "name": "stdout",
     "output_type": "stream",
     "text": [
      "a\n",
      "\u0001\n",
      "\n"
     ]
    }
   ],
   "source": [
    "test='''a\n",
    "b\n",
    "c\n",
    "d\n",
    "'''\n",
    "retest= re.sub(\"(b.*d)\",\"\\1\",test, flags=re.DOTALL)\n",
    "print retest\n"
   ]
  },
  {
   "cell_type": "code",
   "execution_count": 78,
   "metadata": {
    "collapsed": false
   },
   "outputs": [],
   "source": [
    "test=[\n",
    "\"b13135\",\n",
    "\"ee7275\",\n",
    "\"ca7074\",\n",
    "\"d1afb0\",\n",
    "\"561216\",\n",
    "\"8b3338\",\n",
    "\"997577\",\n",
    "\"9d4d5a\",\n",
    "\"ef123a\",\n",
    "\"cd1234\",\n",
    "\"b01231\",\n",
    "\"cb3155\",\n",
    "\"871132\",\n",
    "\"e24e79\",\n",
    "\"bc5176\",\n",
    "\"ee8db0\",\n",
    "\"d96e9b\",\n",
    "\"72334e\",\n",
    "\"edb1cf\",\n",
    "\"cd8eb0\",\n",
    "\"6e104a\",\n",
    "\"a71774\",\n",
    "\"ed8fce\",\n",
    "\"c12d93\",\n",
    "\"ad689b\",\n",
    "\"4e3139\",\n",
    "\"ce4fb9\",\n",
    "\"92498a\",\n",
    "\"4f0f4b\",\n",
    "\"741172\",\n",
    "\"753273\",\n",
    "\"c971c6\",\n",
    "\"eeb2ed\",\n",
    "\"d2afd1\",\n",
    "\"ed8eec\",\n",
    "\"d091d0\",\n",
    "\"efd3ef\",\n",
    "\"f8e8f8\",\n",
    "\"cf8fec\",\n",
    "\"501270\",\n",
    "\"8f50b5\",\n",
    "\"332057\",\n",
    "\"693e90\",\n",
    "\"9c69ce\",\n",
    "\"b18ed3\",\n",
    "\"503074\",\n",
    "\"ceb2ee\",\n",
    "\"655874\",\n",
    "\"b08ced\",\n",
    "\"321173\",\n",
    "\"120f1c\",\n",
    "\"6e5ea6\",\n",
    "\"5941c2\",\n",
    "\"9a96ab\",\n",
    "\"372fa8\",\n",
    "\"6a67d9\",\n",
    "\"b1b0ed\",\n",
    "\"8989ce\",\n",
    "\"b0b0d1\",\n",
    "\"e8e8f8\",\n",
    "\"0b0e74\",\n",
    "\"303270\",\n",
    "\"878aee\",\n",
    "\"0c1047\",\n",
    "\"0b25f0\",\n",
    "\"344cf0\",\n",
    "\"0b26d0\",\n",
    "\"333839\",\n",
    "\"0a25b0\",\n",
    "\"cfd4ee\",\n",
    "\"304ccb\",\n",
    "\"0a2a90\",\n",
    "\"364e89\",\n",
    "\"0a51ee\",\n",
    "\"3571f1\",\n",
    "\"0a51d0\",\n",
    "\"3a6ed0\",\n",
    "\"0b316f\",\n",
    "\"3e69b0\",\n",
    "\"88b2ef\",\n",
    "\"0a50b1\",\n",
    "\"0b70f0\",\n",
    "\"3690f2\",\n",
    "\"d8e8f8\",\n",
    "\"096fd0\",\n",
    "\"0b4f90\",\n",
    "\"5caaf0\",\n",
    "\"0a2f4e\",\n",
    "\"1d81d8\",\n",
    "\"448fd1\",\n",
    "\"b0d3ef\",\n",
    "\"0b8fef\",\n",
    "\"1d81c8\",\n",
    "\"88b2cf\",\n",
    "\"0888d8\",\n",
    "\"0971af\",\n",
    "\"1d98df\",\n",
    "\"0888c8\",\n",
    "\"1d82b8\",\n",
    "\"34b2f0\",\n",
    "\"6799b4\",\n",
    "\"c8e8f8\",\n",
    "\"0898d8\",\n",
    "\"366e88\",\n",
    "\"5cacd1\",\n",
    "\"91d2ef\",\n",
    "\"0b4f6b\",\n",
    "\"3f90b1\",\n",
    "\"0888b8\",\n",
    "\"0db0ed\",\n",
    "\"1d98c8\",\n",
    "\"0898c8\",\n",
    "\"0a6f91\",\n",
    "\"18a8d8\",\n",
    "\"1d80a2\",\n",
    "\"08a8d8\",\n",
    "\"71d1ee\",\n",
    "\"0888a8\",\n",
    "\"1d98b8\",\n",
    "\"2fb1d0\",\n",
    "\"08a8c8\",\n",
    "\"0898b8\",\n",
    "\"18b8d8\",\n",
    "\"18a8c8\",\n",
    "\"50d1ee\",\n",
    "\"08b8d8\",\n",
    "\"30d0ee\",\n",
    "\"0eceec\",\n",
    "\"0898a8\",\n",
    "\"1da8b8\",\n",
    "\"08c8d8\",\n",
    "\"08b8c8\",\n",
    "\"08a8b8\",\n",
    "\"18c8d8\",\n",
    "\"18b8c8\",\n",
    "\"1d98a2\",\n",
    "\"4ecbd2\",\n",
    "\"31cfd5\",\n",
    "\"70d0d3\",\n",
    "\"91eff2\",\n",
    "\"b1eff2\",\n",
    "\"678889\",\n",
    "\"098f91\",\n",
    "\"0fedee\",\n",
    "\"31edef\",\n",
    "\"51edf0\",\n",
    "\"71eef1\",\n",
    "\"90d1d2\",\n",
    "\"08d8d8\",\n",
    "\"08c8c8\",\n",
    "\"08b8b8\",\n",
    "\"08a8a8\",\n",
    "\"18d8d8\",\n",
    "\"1fc8c6\",\n",
    "\"1eb8b8\",\n",
    "\"c8f8f8\",\n",
    "\"b1d3d3\",\n",
    "\"c8e8e8\",\n",
    "\"d8f8f8\",\n",
    "\"d8e8e8\",\n",
    "\"e8f8f8\",\n",
    "\"1ea8a4\",\n",
    "\"40b6b3\",\n",
    "\"0b736e\",\n",
    "\"08d8c5\",\n",
    "\"0bc8b8\",\n",
    "\"3b948c\",\n",
    "\"08bca7\",\n",
    "\"0cead5\",\n",
    "\"20d9c4\",\n",
    "\"31ead4\",\n",
    "\"51ead5\",\n",
    "\"09ac92\",\n",
    "\"20bda4\",\n",
    "\"70ead4\",\n",
    "\"68c1b2\",\n",
    "\"0a4b3e\",\n",
    "\"cfd4d3\",\n",
    "\"91ead4\",\n",
    "\"b2ebd4\",\n",
    "\"c8f8e4\",\n",
    "\"d8f8e8\",\n",
    "\"a8c6b2\",\n",
    "\"d3ead6\",\n",
    "\"e8f8e8\",\n",
    "\"cfecb4\",\n",
    "\"e8f8d8\",\n",
    "\"97a97b\",\n",
    "\"e4f8c5\",\n",
    "\"d4eb8d\",\n",
    "\"f8f8c8\",\n",
    "\"e8e8c8\",\n",
    "\"f8f8d8\",\n",
    "\"e8e8d8\",\n",
    "\"f8f8e8\",\n",
    "\"d3ce8f\",\n",
    "\"f5ea8e\",\n",
    "\"f5ecb1\",\n",
    "\"d3cfb2\",\n",
    "\"d3b10e\",\n",
    "\"f4ce16\",\n",
    "\"d3b430\",\n",
    "\"f3d041\",\n",
    "\"d2b551\",\n",
    "\"9a7b28\",\n",
    "\"f3d06a\",\n",
    "\"f3af0d\",\n",
    "\"675833\",\n",
    "\"d2b571\",\n",
    "\"d28f0d\",\n",
    "\"f2b030\",\n",
    "\"f3d190\",\n",
    "\"f8e8c8\",\n",
    "\"f2b051\",\n",
    "\"f2900d\",\n",
    "\"d28f31\",\n",
    "\"d16f0e\",\n",
    "\"f29030\",\n",
    "\"f2b070\",\n",
    "\"f2d2b0\",\n",
    "\"f8e8d8\",\n",
    "\"d08f51\",\n",
    "\"d0af91\",\n",
    "\"f2700d\",\n",
    "\"f19150\",\n",
    "\"d06f31\",\n",
    "\"cf4f0d\",\n",
    "\"f17130\",\n",
    "\"f1b090\",\n",
    "\"cf8f71\",\n",
    "\"f2500d\",\n",
    "\"8b310f\",\n",
    "\"af4f2c\",\n",
    "\"f09170\",\n",
    "\"f0714f\",\n",
    "\"cd6e51\",\n",
    "\"b12f0f\",\n",
    "\"f0320b\",\n",
    "\"d02f0e\",\n",
    "\"ef5130\",\n",
    "\"d14e31\",\n",
    "\"f0d2cf\",\n",
    "\"f0100a\",\n",
    "\"ce100b\",\n",
    "\"f0b1af\",\n",
    "\"b10e0c\",\n",
    "\"8a0d0d\",\n",
    "\"ed3432\",\n",
    "\"ce322f\",\n",
    "\"ee5251\",\n",
    "\"c9504f\",\n",
    "\"ef918f\",\n",
    "\"080000\",\n",
    "\"f8e8e8\",\n",
    "\"f8f8f8\",\n",
    "\"e8e8e8\"\n",
    "]"
   ]
  },
  {
   "cell_type": "code",
   "execution_count": 81,
   "metadata": {
    "collapsed": false
   },
   "outputs": [],
   "source": [
    "valeurs={\"0\":0,\"1\":1,\"2\":2,\"3\":3,\"4\":4,\"5\":5,\"6\":6,\"7\":7,\"8\":8,\"9\":9,\"a\":10,\"b\":11,\"c\":12,\"d\":13,\"e\":14,\"f\":15}\n",
    "total=[0,0,0,0,0,0]\n",
    "for element in test:\n",
    "    for i in range(6):\n",
    "        total[i]+=valeurs[element[i]]"
   ]
  },
  {
   "cell_type": "code",
   "execution_count": 106,
   "metadata": {
    "collapsed": false,
    "scrolled": true
   },
   "outputs": [
    {
     "name": "stdout",
     "output_type": "stream",
     "text": [
      "75 32 73 c9 71 c6 ee b2 ed d2 af d1 ed 8e ec d0 91 d0 ef d3 ef f8 e8 f8 cf 8f ec 50 12 70 8f 50 b5 33 20 57 69 3e 90 9c 69 ce b1 8e d3 50 30 74 ce b2 ee 65 58 74 b0 8c ed 32 11 73 12 0f 1c 6e 5e a6 59 41 c2 9a 96 ab 37 2f a8 6a 67 d9 b1 b0 ed 89 89 ce b0 b0 d1 e8 e8 f8 0b 0e 74 30 32 70 87 8a ee 0c 10 47 0b 25 f0 34 4c f0 0b 26 d0 33 38 39 0a 25 b0 cf d4 ee 30 4c cb 0a 2a 90 36 4e 89 0a 51 ee 35 71 f1 0a 51 d0 3a 6e d0 0b 31 6f 3e 69 b0 88 b2 ef 0a 50 b1 0b 70 f0 36 90 f2 d8 e8 f8 09 6f d0 0b 4f 90 5c aa f0 0a 2f 4e 1d 81 d8 44 8f d1 b0 d3 ef 0b 8f ef 1d 81 c8 88 b2 cf 08 88 d8 09 71 af 1d 98 df 08 88 c8 1d 82 b8 34 b2 f0 67 99 b4 c8 e8 f8 08 98 d8 36 6e 88 5c ac d1 91 d2 ef 0b 4f 6b 3f 90 b1 08 88 b8 0d b0 ed 1d 98 c8 08 98 c8 0a 6f 91 18 a8 d8 1d 80 a2 08 a8 d8 71 d1 ee 08 88 a8 1d 98 b8 2f b1 d0 08 a8 c8 08 98 b8 18 b8 d8 18 a8 c8 50 d1 ee 08 b8 d8 30 d0 ee 0e ce ec 08 98 a8 1d a8 b8 08 c8 d8 08 b8 c8 08 a8 b8 18 c8 d8 18 b8 c8 1d 98 a2 4e cb d2 31 cf d5 70 d0 d3 91 ef f2 b1 ef f2 67 88 89 09 8f 91 0f ed ee 31 ed ef 51 ed f0 71 ee f1 90 d1 d2 08 d8 d8 08 c8 c8 08 b8 b8 08 a8 a8 18 d8 d8 1f c8 c6 1e b8 b8 c8 f8 f8 b1 d3 d3 c8 e8 e8 d8 f8 f8 d8 e8 e8 e8 f8 f8 1e a8 a4 40 b6 b3 0b 73 6e 08 d8 c5 0b c8 b8 3b 94 8c 08 bc a7 0c ea d5 20 d9 c4 31 ea d4 51 ea d5 09 ac 92 20 bd a4 70 ea d4 68 c1 b2 0a 4b 3e cf d4 d3 91 ea d4 b2 eb d4 c8 f8 e4 d8 f8 e8 a8 c6 b2 d3 ea d6 e8 f8 e8 cf ec b4 e8 f8 d8 97 a9 7b e4 f8 c5 d4 eb 8d f8 f8 c8 e8 e8 c8 f8 f8 d8 e8 e8 d8 f8 f8 e8 d3 ce 8f f5 ea 8e f5 ec b1 d3 cf b2 d3 b1 0e f4 ce 16 d3 b4 30 f3 d0 41 d2 b5 51 9a 7b 28 f3 d0 6a f3 af 0d 67 58 33 d2 b5 71 d2 8f 0d f2 b0 30 f3 d1 90 f8 e8 c8 f2 b0 51 f2 90 0d d2 8f 31 d1 6f 0e f2 90 30 f2 b0 70 f2 d2 b0 f8 e8 d8 d0 8f 51 d0 af 91 f2 70 0d f1 91 50 d0 6f 31 cf 4f 0d f1 71 30 f1 b0 90 cf 8f 71 f2 50 0d 8b 31 0f af 4f 2c f0 91 70 f0 71 4f cd 6e 51 b1 2f 0f f0 32 0b d0 2f 0e ef 51 30 d1 4e 31 f0 d2 cf f0 10 0a ce 10 0b f0 b1 af b1 0e 0c 8a 0d 0d ed 34 32 ce 32 2f ee 52 51 c9 50 4f ef 91 8f 08 00 00 f8 e8 e8 f8 f8 f8 e8 e8 e8\n"
     ]
    }
   ],
   "source": [
    "for element in [item for sublist in [[x[i:i+2] for i in range(0, len(x), 2)] for x in test[30:]] for item in sublist]:\n",
    "    print element,"
   ]
  },
  {
   "cell_type": "code",
   "execution_count": 98,
   "metadata": {
    "collapsed": false,
    "scrolled": true
   },
   "outputs": [
    {
     "data": {
      "text/plain": [
       "{'#000000': 'black',\n",
       " '#000080': 'navy',\n",
       " '#00008b': 'darkblue',\n",
       " '#0000cd': 'mediumblue',\n",
       " '#0000ff': 'blue',\n",
       " '#006400': 'darkgreen',\n",
       " '#008000': 'green',\n",
       " '#008080': 'teal',\n",
       " '#008b8b': 'darkcyan',\n",
       " '#00bfff': 'deepskyblue',\n",
       " '#00ced1': 'darkturquoise',\n",
       " '#00fa9a': 'mediumspringgreen',\n",
       " '#00ff00': 'lime',\n",
       " '#00ff7f': 'springgreen',\n",
       " '#00ffff': 'aqua',\n",
       " '#191970': 'midnightblue',\n",
       " '#1e90ff': 'dodgerblue',\n",
       " '#20b2aa': 'lightseagreen',\n",
       " '#228b22': 'forestgreen',\n",
       " '#2e8b57': 'seagreen',\n",
       " '#2f4f4f': 'darkslategray',\n",
       " '#32cd32': 'limegreen',\n",
       " '#3cb371': 'mediumseagreen',\n",
       " '#40e0d0': 'turquoise',\n",
       " '#4169e1': 'royalblue',\n",
       " '#4682b4': 'steelblue',\n",
       " '#483d8b': 'darkslateblue',\n",
       " '#48d1cc': 'mediumturquoise',\n",
       " '#4b0082': 'indigo',\n",
       " '#556b2f': 'darkolivegreen',\n",
       " '#5f9ea0': 'cadetblue',\n",
       " '#6495ed': 'cornflowerblue',\n",
       " '#66cdaa': 'mediumaquamarine',\n",
       " '#696969': 'dimgrey',\n",
       " '#6a5acd': 'slateblue',\n",
       " '#6b8e23': 'olivedrab',\n",
       " '#708090': 'slategray',\n",
       " '#778899': 'lightslategrey',\n",
       " '#7b68ee': 'mediumslateblue',\n",
       " '#7cfc00': 'lawngreen',\n",
       " '#7fff00': 'chartreuse',\n",
       " '#7fffd4': 'aquamarine',\n",
       " '#800000': 'maroon',\n",
       " '#800080': 'purple',\n",
       " '#808000': 'olive',\n",
       " '#808080': 'grey',\n",
       " '#87ceeb': 'skyblue',\n",
       " '#87cefa': 'lightskyblue',\n",
       " '#8a2be2': 'blueviolet',\n",
       " '#8b0000': 'darkred',\n",
       " '#8b008b': 'darkmagenta',\n",
       " '#8b4513': 'saddlebrown',\n",
       " '#8fbc8f': 'darkseagreen',\n",
       " '#90ee90': 'lightgreen',\n",
       " '#9370d8': 'mediumpurple',\n",
       " '#9400d3': 'darkviolet',\n",
       " '#98fb98': 'palegreen',\n",
       " '#9932cc': 'darkorchid',\n",
       " '#9acd32': 'yellowgreen',\n",
       " '#a0522d': 'sienna',\n",
       " '#a52a2a': 'brown',\n",
       " '#a9a9a9': 'darkgray',\n",
       " '#add8e6': 'lightblue',\n",
       " '#adff2f': 'greenyellow',\n",
       " '#afeeee': 'paleturquoise',\n",
       " '#b0c4de': 'lightsteelblue',\n",
       " '#b0e0e6': 'powderblue',\n",
       " '#b22222': 'firebrick',\n",
       " '#b8860b': 'darkgoldenrod',\n",
       " '#ba55d3': 'mediumorchid',\n",
       " '#bc8f8f': 'rosybrown',\n",
       " '#bdb76b': 'darkkhaki',\n",
       " '#c0c0c0': 'silver',\n",
       " '#c71585': 'mediumvioletred',\n",
       " '#cd5c5c': 'indianred',\n",
       " '#cd853f': 'peru',\n",
       " '#d2691e': 'chocolate',\n",
       " '#d2b48c': 'tan',\n",
       " '#d3d3d3': 'lightgray',\n",
       " '#d87093': 'palevioletred',\n",
       " '#d8bfd8': 'thistle',\n",
       " '#da70d6': 'orchid',\n",
       " '#daa520': 'goldenrod',\n",
       " '#dc143c': 'crimson',\n",
       " '#dcdcdc': 'gainsboro',\n",
       " '#dda0dd': 'plum',\n",
       " '#deb887': 'burlywood',\n",
       " '#e0ffff': 'lightcyan',\n",
       " '#e6e6fa': 'lavender',\n",
       " '#e9967a': 'darksalmon',\n",
       " '#ee82ee': 'violet',\n",
       " '#eee8aa': 'palegoldenrod',\n",
       " '#f08080': 'lightcoral',\n",
       " '#f0e68c': 'khaki',\n",
       " '#f0f8ff': 'aliceblue',\n",
       " '#f0fff0': 'honeydew',\n",
       " '#f0ffff': 'azure',\n",
       " '#f4a460': 'sandybrown',\n",
       " '#f5deb3': 'wheat',\n",
       " '#f5f5dc': 'beige',\n",
       " '#f5f5f5': 'whitesmoke',\n",
       " '#f5fffa': 'mintcream',\n",
       " '#f8f8ff': 'ghostwhite',\n",
       " '#fa8072': 'salmon',\n",
       " '#faebd7': 'antiquewhite',\n",
       " '#faf0e6': 'linen',\n",
       " '#fafad2': 'lightgoldenrodyellow',\n",
       " '#fdf5e6': 'oldlace',\n",
       " '#ff0000': 'red',\n",
       " '#ff00ff': 'magenta',\n",
       " '#ff1493': 'deeppink',\n",
       " '#ff4500': 'orangered',\n",
       " '#ff6347': 'tomato',\n",
       " '#ff69b4': 'hotpink',\n",
       " '#ff7f50': 'coral',\n",
       " '#ff8c00': 'darkorange',\n",
       " '#ffa07a': 'lightsalmon',\n",
       " '#ffa500': 'orange',\n",
       " '#ffb6c1': 'lightpink',\n",
       " '#ffc0cb': 'pink',\n",
       " '#ffd700': 'gold',\n",
       " '#ffdab9': 'peachpuff',\n",
       " '#ffdead': 'navajowhite',\n",
       " '#ffe4b5': 'moccasin',\n",
       " '#ffe4c4': 'bisque',\n",
       " '#ffe4e1': 'mistyrose',\n",
       " '#ffebcd': 'blanchedalmond',\n",
       " '#ffefd5': 'papayawhip',\n",
       " '#fff0f5': 'lavenderblush',\n",
       " '#fff5ee': 'seashell',\n",
       " '#fff8dc': 'cornsilk',\n",
       " '#fffacd': 'lemonchiffon',\n",
       " '#fffaf0': 'floralwhite',\n",
       " '#fffafa': 'snow',\n",
       " '#ffff00': 'yellow',\n",
       " '#ffffe0': 'lightyellow',\n",
       " '#fffff0': 'ivory',\n",
       " '#ffffff': 'white'}"
      ]
     },
     "execution_count": 98,
     "metadata": {},
     "output_type": "execute_result"
    }
   ],
   "source": [
    "webcolors.css3_hex_to_names"
   ]
  },
  {
   "cell_type": "code",
   "execution_count": 87,
   "metadata": {
    "collapsed": false,
    "scrolled": true
   },
   "outputs": [
    {
     "name": "stdout",
     "output_type": "stream",
     "text": [
      "080000\n",
      "0888a8\n",
      "0888b8\n",
      "0888c8\n",
      "0888d8\n",
      "0898a8\n",
      "0898b8\n",
      "0898c8\n",
      "0898d8\n",
      "08a8a8\n",
      "08a8b8\n",
      "08a8c8\n",
      "08a8d8\n",
      "08b8b8\n",
      "08b8c8\n",
      "08b8d8\n",
      "08bca7\n",
      "08c8c8\n",
      "08c8d8\n",
      "08d8c5\n",
      "08d8d8\n",
      "096fd0\n",
      "0971af\n",
      "098f91\n",
      "09ac92\n",
      "0a25b0\n",
      "0a2a90\n",
      "0a2f4e\n",
      "0a4b3e\n",
      "0a50b1\n",
      "0a51d0\n",
      "0a51ee\n",
      "0a6f91\n",
      "0b0e74\n",
      "0b25f0\n",
      "0b26d0\n",
      "0b316f\n",
      "0b4f6b\n",
      "0b4f90\n",
      "0b70f0\n",
      "0b736e\n",
      "0b8fef\n",
      "0bc8b8\n",
      "0c1047\n",
      "0cead5\n",
      "0db0ed\n",
      "0eceec\n",
      "0fedee\n",
      "120f1c\n",
      "18a8c8\n",
      "18a8d8\n",
      "18b8c8\n",
      "18b8d8\n",
      "18c8d8\n",
      "18d8d8\n",
      "1d80a2\n",
      "1d81c8\n",
      "1d81d8\n",
      "1d82b8\n",
      "1d98a2\n",
      "1d98b8\n",
      "1d98c8\n",
      "1d98df\n",
      "1da8b8\n",
      "1ea8a4\n",
      "1eb8b8\n",
      "1fc8c6\n",
      "20bda4\n",
      "20d9c4\n",
      "2fb1d0\n",
      "303270\n",
      "304ccb\n",
      "30d0ee\n",
      "31cfd5\n",
      "31ead4\n",
      "31edef\n",
      "321173\n",
      "332057\n",
      "333839\n",
      "344cf0\n",
      "34b2f0\n",
      "3571f1\n",
      "364e89\n",
      "366e88\n",
      "3690f2\n",
      "372fa8\n",
      "3a6ed0\n",
      "3b948c\n",
      "3e69b0\n",
      "3f90b1\n",
      "40b6b3\n",
      "448fd1\n",
      "4e3139\n",
      "4ecbd2\n",
      "4f0f4b\n",
      "501270\n",
      "503074\n",
      "50d1ee\n",
      "51ead5\n",
      "51edf0\n",
      "561216\n",
      "5941c2\n",
      "5caaf0\n",
      "5cacd1\n",
      "655874\n",
      "675833\n",
      "678889\n",
      "6799b4\n",
      "68c1b2\n",
      "693e90\n",
      "6a67d9\n",
      "6e104a\n",
      "6e5ea6\n",
      "70d0d3\n",
      "70ead4\n",
      "71d1ee\n",
      "71eef1\n",
      "72334e\n",
      "741172\n",
      "753273\n",
      "871132\n",
      "878aee\n",
      "88b2cf\n",
      "88b2ef\n",
      "8989ce\n",
      "8a0d0d\n",
      "8b310f\n",
      "8b3338\n",
      "8f50b5\n",
      "90d1d2\n",
      "91d2ef\n",
      "91ead4\n",
      "91eff2\n",
      "92498a\n",
      "97a97b\n",
      "997577\n",
      "9a7b28\n",
      "9a96ab\n",
      "9c69ce\n",
      "9d4d5a\n",
      "a71774\n",
      "a8c6b2\n",
      "ad689b\n",
      "af4f2c\n",
      "b01231\n",
      "b08ced\n",
      "b0b0d1\n",
      "b0d3ef\n",
      "b10e0c\n",
      "b12f0f\n",
      "b13135\n",
      "b18ed3\n",
      "b1b0ed\n",
      "b1d3d3\n",
      "b1eff2\n",
      "b2ebd4\n",
      "bc5176\n",
      "c12d93\n",
      "c8e8e8\n",
      "c8e8f8\n",
      "c8f8e4\n",
      "c8f8f8\n",
      "c9504f\n",
      "c971c6\n",
      "ca7074\n",
      "cb3155\n",
      "cd1234\n",
      "cd6e51\n",
      "cd8eb0\n",
      "ce100b\n",
      "ce322f\n",
      "ce4fb9\n",
      "ceb2ee\n",
      "cf4f0d\n",
      "cf8f71\n",
      "cf8fec\n",
      "cfd4d3\n",
      "cfd4ee\n",
      "cfecb4\n",
      "d02f0e\n",
      "d06f31\n",
      "d08f51\n",
      "d091d0\n",
      "d0af91\n",
      "d14e31\n",
      "d16f0e\n",
      "d1afb0\n",
      "d28f0d\n",
      "d28f31\n",
      "d2afd1\n",
      "d2b551\n",
      "d2b571\n",
      "d3b10e\n",
      "d3b430\n",
      "d3ce8f\n",
      "d3cfb2\n",
      "d3ead6\n",
      "d4eb8d\n",
      "d8e8e8\n",
      "d8e8f8\n",
      "d8f8e8\n",
      "d8f8f8\n",
      "d96e9b\n",
      "e24e79\n",
      "e4f8c5\n",
      "e8e8c8\n",
      "e8e8d8\n",
      "e8e8e8\n",
      "e8e8f8\n",
      "e8f8d8\n",
      "e8f8e8\n",
      "e8f8f8\n",
      "ed3432\n",
      "ed8eec\n",
      "ed8fce\n",
      "edb1cf\n",
      "ee5251\n",
      "ee7275\n",
      "ee8db0\n",
      "eeb2ed\n",
      "ef123a\n",
      "ef5130\n",
      "ef918f\n",
      "efd3ef\n",
      "f0100a\n",
      "f0320b\n",
      "f0714f\n",
      "f09170\n",
      "f0b1af\n",
      "f0d2cf\n",
      "f17130\n",
      "f19150\n",
      "f1b090\n",
      "f2500d\n",
      "f2700d\n",
      "f2900d\n",
      "f29030\n",
      "f2b030\n",
      "f2b051\n",
      "f2b070\n",
      "f2d2b0\n",
      "f3af0d\n",
      "f3d041\n",
      "f3d06a\n",
      "f3d190\n",
      "f4ce16\n",
      "f5ea8e\n",
      "f5ecb1\n",
      "f8e8c8\n",
      "f8e8d8\n",
      "f8e8e8\n",
      "f8e8f8\n",
      "f8f8c8\n",
      "f8f8d8\n",
      "f8f8e8\n",
      "f8f8f8\n"
     ]
    }
   ],
   "source": [
    "for element in sorted(test):\n",
    "    print element"
   ]
  },
  {
   "cell_type": "code",
   "execution_count": 1,
   "metadata": {
    "collapsed": false
   },
   "outputs": [
    {
     "name": "stdout",
     "output_type": "stream",
     "text": [
      "Enter password: ········\n",
      "Verify password: ········\n"
     ]
    },
    {
     "data": {
      "text/plain": [
       "'sha1:f7e5bb2a8019:a5e6692551812aaeed990a06c45a59f51d933cde'"
      ]
     },
     "execution_count": 1,
     "metadata": {},
     "output_type": "execute_result"
    }
   ],
   "source": [
    "from IPython.lib import passwd\n",
    "passwd()"
   ]
  },
  {
   "cell_type": "code",
   "execution_count": 10,
   "metadata": {
    "collapsed": true
   },
   "outputs": [],
   "source": [
    "import itertools\n",
    "def calculation(n):\n",
    "    result=(n[0]+13*n[1]/n[2]+n[3]+12*n[4]-n[5]-11+n[6]*n[7]/n[8]-10)\n",
    "    if result==66:\n",
    "        return n\n",
    "    else:\n",
    "        return []"
   ]
  },
  {
   "cell_type": "code",
   "execution_count": 11,
   "metadata": {
    "collapsed": false,
    "scrolled": true
   },
   "outputs": [
    {
     "name": "stdout",
     "output_type": "stream",
     "text": [
      "1 (3, 2, 1, 5, 4, 7, 8, 9, 6)\n",
      "2 (3, 2, 1, 5, 4, 7, 9, 8, 6)\n",
      "3 (5, 2, 1, 3, 4, 7, 8, 9, 6)\n",
      "4 (5, 2, 1, 3, 4, 7, 9, 8, 6)\n",
      "5 (5, 3, 1, 7, 2, 6, 8, 9, 4)\n",
      "6 (5, 3, 1, 7, 2, 6, 9, 8, 4)\n",
      "7 (5, 4, 1, 9, 2, 7, 3, 8, 6)\n",
      "8 (5, 4, 1, 9, 2, 7, 8, 3, 6)\n",
      "9 (5, 9, 3, 6, 2, 1, 7, 8, 4)\n",
      "10 (5, 9, 3, 6, 2, 1, 8, 7, 4)\n",
      "11 (6, 3, 1, 9, 2, 5, 7, 8, 4)\n",
      "12 (6, 3, 1, 9, 2, 5, 8, 7, 4)\n",
      "13 (6, 9, 3, 5, 2, 1, 7, 8, 4)\n",
      "14 (6, 9, 3, 5, 2, 1, 8, 7, 4)\n",
      "15 (7, 3, 1, 5, 2, 6, 8, 9, 4)\n",
      "16 (7, 3, 1, 5, 2, 6, 9, 8, 4)\n",
      "17 (9, 3, 1, 6, 2, 5, 7, 8, 4)\n",
      "18 (9, 3, 1, 6, 2, 5, 8, 7, 4)\n",
      "19 (9, 4, 1, 5, 2, 7, 3, 8, 6)\n",
      "20 (9, 4, 1, 5, 2, 7, 8, 3, 6)\n"
     ]
    }
   ],
   "source": [
    "num=1\n",
    "for n in itertools.permutations(xrange(1,10)):\n",
    "    if n[1]%n[2]==0 and n[6]*n[7]%n[8]==0:\n",
    "        order=calculation(n)\n",
    "        if order:\n",
    "            print num, order\n",
    "            num+=1"
   ]
  },
  {
   "cell_type": "code",
   "execution_count": null,
   "metadata": {
    "collapsed": true
   },
   "outputs": [],
   "source": []
  }
 ],
 "metadata": {
  "kernelspec": {
   "display_name": "Python 2",
   "language": "python",
   "name": "python2"
  },
  "language_info": {
   "codemirror_mode": {
    "name": "ipython",
    "version": 2
   },
   "file_extension": ".py",
   "mimetype": "text/x-python",
   "name": "python",
   "nbconvert_exporter": "python",
   "pygments_lexer": "ipython2",
   "version": "2.7.10"
  }
 },
 "nbformat": 4,
 "nbformat_minor": 0
}
