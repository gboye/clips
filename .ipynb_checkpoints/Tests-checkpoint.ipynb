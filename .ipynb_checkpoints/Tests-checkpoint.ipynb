{
 "metadata": {
  "name": "",
  "signature": "sha256:dfca82a2b097e2cb890dbefcf46ced1854a2cb8a21bcc78839cc8703a5675f5d"
 },
 "nbformat": 3,
 "nbformat_minor": 0,
 "worksheets": []
}