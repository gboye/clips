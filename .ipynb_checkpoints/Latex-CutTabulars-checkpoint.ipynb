{
 "cells": [
  {
   "cell_type": "code",
   "execution_count": 5,
   "metadata": {},
   "outputs": [],
   "source": [
    "import pyperclip,re"
   ]
  },
  {
   "cell_type": "code",
   "execution_count": 2,
   "metadata": {},
   "outputs": [],
   "source": [
    "tabulars=pyperclip.paste()"
   ]
  },
  {
   "cell_type": "code",
   "execution_count": 9,
   "metadata": {},
   "outputs": [],
   "source": [
    "result=[]\n",
    "for line in tabulars.split(\"\\n\"):\n",
    "    m=re.match(ur\"^([^&]*&[^&]*&[^&]*&[^&]*)&.*(\\\\\\\\)$\",line)\n",
    "    if m:\n",
    "        result.append(m.group(1)+m.group(2))\n",
    "    else:\n",
    "        result.append(line)\n",
    "pyperclip.copy(\"\\n\".join(result))"
   ]
  }
 ],
 "metadata": {
  "kernelspec": {
   "display_name": "Python (py27)",
   "language": "python",
   "name": "py27"
  },
  "language_info": {
   "codemirror_mode": {
    "name": "ipython",
    "version": 2
   },
   "file_extension": ".py",
   "mimetype": "text/x-python",
   "name": "python",
   "nbconvert_exporter": "python",
   "pygments_lexer": "ipython2",
   "version": "2.7.16"
  }
 },
 "nbformat": 4,
 "nbformat_minor": 2
}
