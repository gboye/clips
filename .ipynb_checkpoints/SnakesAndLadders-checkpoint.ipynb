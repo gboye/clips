{
 "cells": [
  {
   "cell_type": "code",
   "execution_count": 70,
   "metadata": {},
   "outputs": [],
   "source": [
    "import random,numpy\n",
    "verbose=False"
   ]
  },
  {
   "cell_type": "code",
   "execution_count": 71,
   "metadata": {},
   "outputs": [],
   "source": [
    "def setup_game():\n",
    "    players=0\n",
    "    while True:\n",
    "        try:\n",
    "            print(\"How many players are in the game?\")\n",
    "            players = int(input())\n",
    "            if players > 10 or players < 1:\n",
    "                print(\"Must be less than 11 and greater than 0\")\n",
    "            else:\n",
    "                break\n",
    "        except ValueError:\n",
    "            print(\"Must be a number\")\n",
    "\n",
    "    names = {}\n",
    "    for i in range(1,players+1):\n",
    "        while True:\n",
    "            name = raw_input(\"What is the name of Player {}? \".format(i))\n",
    "            if not name in names:\n",
    "                names[name] = 0\n",
    "                break\n",
    "            else:\n",
    "                print('Cannot have duplicate names')\n",
    "    return names"
   ]
  },
  {
   "cell_type": "code",
   "execution_count": 72,
   "metadata": {},
   "outputs": [],
   "source": [
    "def move_player(player, current_pos):\n",
    "#     snake_squares = {16: 4, 33: 20, 48: 24, 62: 56, 78: 69, 94: 16}\n",
    "#     ladder_squares = {3: 12, 7: 23, 20: 56, 47: 53, 60: 72, 80: 94}\n",
    "    snake_squares = {21:3,35:9,24:7,50:11,53:15,60:23,89:48,93:25,97:65,99:58,75:44}\n",
    "    ladder_squares = {4:16,12:33,18:22,26:37,42:61,49:51,55:74,82:98,85:95,88:92}\n",
    "\n",
    "    throw = random.randint(1,6)\n",
    "    next_pos = current_pos + throw\n",
    "    if verbose: print(\"{0} rolled a {1} and is now on {2}\".format(player, throw, next_pos))\n",
    "\n",
    "    if next_pos in snake_squares:\n",
    "        if verbose: print(\"{0} got bitten by a snake and is now on square {1}\".format(player,snake_squares[next_pos]))\n",
    "        next_pos = snake_squares[next_pos]\n",
    "    elif next_pos in ladder_squares:\n",
    "        if verbose: print(\"{0} climbed a ladder and is now on square {1}\".format(player,ladder_squares[next_pos]))\n",
    "        next_pos = ladder_squares[next_pos]\n",
    "    return next_pos"
   ]
  },
  {
   "cell_type": "code",
   "execution_count": 74,
   "metadata": {},
   "outputs": [
    {
     "name": "stdout",
     "output_type": "stream",
     "text": [
      "How many players are in the game?\n",
      "3\n",
      "What is the name of Player 1? a\n",
      "What is the name of Player 2? z\n",
      "What is the name of Player 3? e\n",
      "Nombre de tours joués : moyenne 29.3, écart type 14.8\n"
     ]
    },
    {
     "data": {
      "text/plain": [
       "{'a': 3351, 'e': 3327, 'z': 3322}"
      ]
     },
     "execution_count": 74,
     "metadata": {},
     "output_type": "execute_result"
    }
   ],
   "source": [
    "def game(players):\n",
    "    if verbose: print(\"{}, Welcome To Snakes And Ladders\".format(\" \".join(players)))\n",
    "    if verbose: raw_input(\"Press Enter\")\n",
    "    turn=0\n",
    "    while True:\n",
    "\n",
    "        # Foreach player\n",
    "        for player, current_pos in players.items():\n",
    "            if verbose: print player,current_pos\n",
    "\n",
    "            # Move player\n",
    "            players[player] = move_player(player, current_pos)\n",
    "\n",
    "            # Check win\n",
    "            if players[player] >= 100:\n",
    "                if verbose: print turn, players\n",
    "                return player,turn+1\n",
    "        turn+=1\n",
    "        if verbose: print turn,players\n",
    "\n",
    "if __name__ == \"__main__\":\n",
    "    players = setup_game()\n",
    "    gameTurns=[]\n",
    "    gameWinners=[]\n",
    "    for numGame in range(10000):\n",
    "        players={k:0 for k,v in players.items()}\n",
    "        winner,turns = game(players)\n",
    "        if verbose: print(\"{0} won the game in {1} turns\".format(winner,turns))\n",
    "        gameTurns.append(turns)\n",
    "        gameWinners.append(winner)\n",
    "print u\"Nombre de tours joués : moyenne {0:1.1f}, écart type {1:1.1f}\".format(numpy.mean(gameTurns),numpy.std(gameTurns))\n",
    "dict((x,gameWinners.count(x)) for x in set(gameWinners))"
   ]
  }
 ],
 "metadata": {
  "kernelspec": {
   "display_name": "Python 2",
   "language": "python",
   "name": "python2"
  },
  "language_info": {
   "codemirror_mode": {
    "name": "ipython",
    "version": 2
   },
   "file_extension": ".py",
   "mimetype": "text/x-python",
   "name": "python",
   "nbconvert_exporter": "python",
   "pygments_lexer": "ipython2",
   "version": "2.7.15"
  }
 },
 "nbformat": 4,
 "nbformat_minor": 2
}
