{
 "cells": [
  {
   "cell_type": "code",
   "execution_count": 2,
   "metadata": {},
   "outputs": [
    {
     "name": "stdout",
     "output_type": "stream",
     "text": [
      " &  &  &  &  &  &  &  &  &   \\\\\n",
      "A & B & C & D & E & F & G & H & I & J  \\\\\n",
      "- & + & + & - & - & - & + & - & - & -  \\\\\n",
      "+ & + & + & + & + & + & + & + & - & -  \\\\\n",
      "+ & - & - & - & - & - & + & - & + & +  \\\\\n",
      "\n"
     ]
    }
   ],
   "source": [
    "#LaTeX table transpose\n",
    "#Peter Raffensperger\n",
    "#9 Jan 2012\n",
    "\n",
    "import numpy\n",
    "\n",
    "x = r\"\"\"\n",
    "&A & - & + & + \\\\\n",
    "&B & + & + & - \\\\\n",
    "&C & + & + & - \\\\\n",
    "&D & - & + & - \\\\\n",
    "&E & - & + & - \\\\\n",
    "&F & - & + & - \\\\\n",
    "&G & + & + & + \\\\\n",
    "&H & - & + & - \\\\\n",
    "&I & - & - & + \\\\\n",
    "&J & - & - & + \\\\\n",
    "\"\"\"\n",
    "\n",
    "x = x.replace(r'\\hline', '')\n",
    "x = x.replace(r'\\toprule', '')\n",
    "x = x.replace(r'\\midrule', '')\n",
    "x = x.replace(r'\\bottomrule', '')\n",
    "tableRows = x.split(r'\\\\')\n",
    "table = None\n",
    "for i, t in enumerate(tableRows):\n",
    "\tif t != '\\n':\n",
    "\t\tif table is None:\n",
    "\t\t\ttable = numpy.array(t.split('&'))\n",
    "\t\telse:\n",
    "\t\t\ttable = numpy.vstack((table, numpy.array(t.split('&'))))\n",
    "\n",
    "tableTrans = table.T.tolist()\n",
    "\n",
    "tNew = ''\n",
    "for row in tableTrans:\n",
    "\tfor col in row:\n",
    "\t\ttNew += col.strip() + ' & '\n",
    "\ttNew = tNew[:-2] + r' \\\\' + '\\n'\n",
    "print tNew"
   ]
  },
  {
   "cell_type": "code",
   "execution_count": 25,
   "metadata": {
    "collapsed": true
   },
   "outputs": [],
   "source": [
    "table=ur\"\"\"\n",
    "\\begin{tabular}{cllll}\n",
    "Sync_{\\nex[1]} & \\feature{ind}{prs}{1}{sg} & \\emph{set} & \\emph{talk} & \\emph{am} \\\\\n",
    "\\midrule\n",
    "\\multirow{2}{*}{Sync_{\\nex}} & \\feature{ind}{prs}{2}{sg}, \\feature{ind}{prs}{1}{pl}, \\feature{ind}{prs}{2}{pl}, & \\multirow{2}{*}{\\emph{set}} & \\multirow{2}{*}{\\emph{talk}} & \\multirow{2}{*}{\\emph{are}} \\\\\n",
    "& \\feature{ind}{prs}{3}{pl} & \\\\\n",
    "\\midrule\n",
    "Sync_{\\nex} & \\feature{ind}{prs}{3}{sg}& \\emph{sets} & \\emph{talks} & \\emph{is} \\\\\n",
    "\\midrule\n",
    "Sync_{\\nex} & \\feature{ind}{pst}{1}{sg}, \\feature{ind}{pst}{3}{sg}& \\emph{set} & \\emph{talked} & \\emph{was} \\\\\n",
    "\\midrule\n",
    "\\multirow{4}{*}{Sync_{\\nex}} & \\feature{ind}{pst}{2}{sg}, \\feature{ind}{pst}{1}{pl}, \\feature{ind}{pst}{2}{pl}, & \\multirow{4}{*}{\\emph{set}} & \\multirow{4}{*}{\\emph{talked}} & \\multirow{4}{*}{\\emph{were}} \\\\\n",
    "&\\feature{ind}{pst}{3}{pl},\\feature{subj}{pst}{1}{sg}, \\feature{subj}{pst}{2}{sg}, & \\\\\n",
    "&\\feature{subj}{pst}{3}{sg}, \\feature{subj}{pst}{1}{pl}, \\feature{ind}{pst}{2}{pl}, & \\\\\n",
    "&\\feature{subj}{pst}{3}{pl} & \\\\\n",
    "\\midrule\n",
    "\\multirow{3}{*}{Sync_{\\nex}} & \\feature{subj}{prs}{1}{sg}, \\feature{subj}{prs}{2}{sg}, \\feature{subj}{prs}{3}{sg}, & \\multirow{3}{*}{\\emph{set}} & \\multirow{3}{*}{\\emph{talk}} & \\multirow{3}{*}{\\emph{be}} \\\\\n",
    "&\\feature{subj}{prs}{1}{pl}, \\feature{ind}{pst}{2}{pl}, \\feature{subj}{prs}{3}{pl},  &  \\\\\n",
    "& \\feature{inf}{}{}{} & \\\\\n",
    "\\midrule\n",
    "Sync_{\\nex} & \\feature{part}{prs}{}{} & \\emph{setting} & \\emph{talking} & \\emph{being} \\\\\n",
    "\\midrule\n",
    "Sync_{\\nex} & \\feature{part}{pst}{}{}& \\emph{set} & \\emph{talked} & \\emph{been} \\\\\n",
    "\\bottomrule\n",
    "\\end{tabular}\\\\[6pt]\n",
    "\"\"\""
   ]
  },
  {
   "cell_type": "code",
   "execution_count": 37,
   "metadata": {},
   "outputs": [
    {
     "name": "stdout",
     "output_type": "stream",
     "text": [
      "\n",
      "\\begin{tabular}{cllll}\n",
      "Sync_{\\nex[1]}  &  \\feature{ind}{prs}{1}{sg}  &  \\emph{am}  &  \\emph{talk}  &  \\emph{set}  \\\\\n",
      "\\midrule\n",
      "\\multirow{2}{*}{Sync_{\\nex}}  &  \\feature{ind}{prs}{2}{sg}, \\feature{ind}{prs}{1}{pl}, \\feature{ind}{prs}{2}{pl},  &  \\multirow{2}{*}{\\emph{are}}  &  \\multirow{2}{*}{\\emph{talk}}  &  \\multirow{2}{*}{\\emph{set}}  \\\\\n",
      "& \\feature{ind}{prs}{3}{pl} & \\\\\n",
      "\\midrule\n",
      "Sync_{\\nex}  &  \\feature{ind}{prs}{3}{sg} &  \\emph{is}  &  \\emph{talks}  &  \\emph{sets}  \\\\\n",
      "\\midrule\n",
      "Sync_{\\nex}  &  \\feature{ind}{pst}{1}{sg}, \\feature{ind}{pst}{3}{sg} &  \\emph{was}  &  \\emph{talked}  &  \\emph{set}  \\\\\n",
      "\\midrule\n",
      "\\multirow{4}{*}{Sync_{\\nex}}  &  \\feature{ind}{pst}{2}{sg}, \\feature{ind}{pst}{1}{pl}, \\feature{ind}{pst}{2}{pl},  &  \\multirow{4}{*}{\\emph{were}}  &  \\multirow{4}{*}{\\emph{talked}}  &  \\multirow{4}{*}{\\emph{set}}  \\\\\n",
      "&\\feature{ind}{pst}{3}{pl},\\feature{subj}{pst}{1}{sg}, \\feature{subj}{pst}{2}{sg}, & \\\\\n",
      "&\\feature{subj}{pst}{3}{sg}, \\feature{subj}{pst}{1}{pl}, \\feature{ind}{pst}{2}{pl}, & \\\\\n",
      "&\\feature{subj}{pst}{3}{pl} & \\\\\n",
      "\\midrule\n",
      "\\multirow{3}{*}{Sync_{\\nex}}  &  \\feature{subj}{prs}{1}{sg}, \\feature{subj}{prs}{2}{sg}, \\feature{subj}{prs}{3}{sg},  &  \\multirow{3}{*}{\\emph{be}}  &  \\multirow{3}{*}{\\emph{talk}}  &  \\multirow{3}{*}{\\emph{set}}  \\\\\n",
      "&\\feature{subj}{prs}{1}{pl}, \\feature{ind}{pst}{2}{pl}, \\feature{subj}{prs}{3}{pl},  &  \\\\\n",
      "& \\feature{inf}{}{}{} & \\\\\n",
      "\\midrule\n",
      "Sync_{\\nex}  &  \\feature{part}{prs}{}{}  &  \\emph{being}  &  \\emph{talking}  &  \\emph{setting}  \\\\\n",
      "\\midrule\n",
      "Sync_{\\nex}  &  \\feature{part}{pst}{}{} &  \\emph{been}  &  \\emph{talked}  &  \\emph{set}  \\\\\n",
      "\\bottomrule\n",
      "\\end{tabular}\\\\[6pt]\n",
      "\n"
     ]
    }
   ],
   "source": [
    "order=[0,1,4,3,2]\n",
    "lines=table.split(\"\\n\")\n",
    "for line in lines:\n",
    "    items=line.rstrip(\"\\\\\").split(\"&\")\n",
    "    if len(items)>=len(order):\n",
    "        print \" & \".join([y for x,y in sorted(zip(order,items))] )+\" \\\\\\\\\"\n",
    "    else:\n",
    "        print line"
   ]
  },
  {
   "cell_type": "code",
   "execution_count": null,
   "metadata": {
    "collapsed": true
   },
   "outputs": [],
   "source": []
  }
 ],
 "metadata": {
  "kernelspec": {
   "display_name": "Python 2",
   "language": "python",
   "name": "python2"
  },
  "language_info": {
   "codemirror_mode": {
    "name": "ipython",
    "version": 2
   },
   "file_extension": ".py",
   "mimetype": "text/x-python",
   "name": "python",
   "nbconvert_exporter": "python",
   "pygments_lexer": "ipython2",
   "version": "2.7.11"
  }
 },
 "nbformat": 4,
 "nbformat_minor": 1
}
