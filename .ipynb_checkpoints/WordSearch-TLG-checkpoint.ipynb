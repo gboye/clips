{
 "cells": [
  {
   "cell_type": "code",
   "execution_count": 1,
   "id": "38ea7546-887f-4f8d-8691-7122dc699d4e",
   "metadata": {},
   "outputs": [],
   "source": [
    "from unidecode import unidecode"
   ]
  },
  {
   "cell_type": "code",
   "execution_count": 2,
   "id": "b812fb2e-357f-4def-91db-fe9e477fa897",
   "metadata": {},
   "outputs": [],
   "source": [
    "words=\"sébastien thierry madee marguerite stéphane jeanine cédric marie caro mélanie\"\n",
    "words+=\" jean-pierre mickaël sohad thomas fath nicole nathalie cécile anissa sophie\"\n",
    "words+=\" kiky alain nanou lina geneviève renée jeannot fernand yannick yvette caroline roger\"\n",
    "words+=\" audrey christian franck georges andré marie-jo madeleine victor paul lucas\"\n",
    "words+=\" arlette jacques christelle franz pierre dominique patrick fredo denis\"\n",
    "words+=\" claudius florian jessi laurent jean-louis louis quentin carole bruno\"\n",
    "words+=\" léo gabriel daniel karim brigitte olivier arnaud françoise isabelle\"\n",
    "words+=\" pascal jean-victor mathilde christine\""
   ]
  },
  {
   "cell_type": "code",
   "execution_count": 26,
   "id": "85d26b83-afa1-46fc-8243-8428e2a5614c",
   "metadata": {},
   "outputs": [],
   "source": [
    "publications={}\n",
    "publications[301]=\"jessi\" \n",
    "publications[308]=\"sophie yvette\" \n",
    "publications[309]=\"claudius\" \n",
    "publications[310]=\"alain jeannot franck gabriel\" \n",
    "publications[313]=\"florian pierre lucas mélanie\"\n",
    "publications[314]=\"léo\" \n",
    "publications[315]=\"mickaël cédric caro thomas lina\" \n",
    "publications[316]=\"karim madeleine victor marguerite\" \n",
    "publications[317]=\"paul roger andré\" \n",
    "publications[318]=\"fredo caroline christelle\"\n",
    "publications[319]=\"anissa\" \n",
    "publications[321]=\"sohad jacques\" \n",
    "publications[322]=\"louis georges yannick renée geneviève nicole jean-pierre\" \n",
    "publications[324]=\"franz fernand nanou marie-jo christian\"\n",
    "publications[326]=\"daniel madee stéphane jeanine marie fath kiky patrick\" \n",
    "publications[328]=\"denis arlette cécile\"\n",
    "publications[331]=\"laurent\" \n",
    "publications[402]=\"olivier brigitte françoise\" \n",
    "publications[403]=\"carole bruno arnaud sébastien thierry\" \n",
    "publications[404]=\"pascal jean-victor isabelle nathalie\"\n",
    "publications[408]=\"quentin\" \n",
    "publications[411]=\"mathilde dominique\" \n",
    "publications[413]=\"jean-louis\" \n",
    "publications[424]=\"audrey\"\n",
    "publications[504]=\"christine\"\n",
    "\n",
    "for k,v in publications.items():\n",
    "    publications[k]=unidecode(v).upper().split(\" \")\n",
    "\n",
    "TLG={}\n",
    "i=0\n",
    "for n in sorted(publications.keys()):\n",
    "    if i==0:\n",
    "        TLG[0]=(publications[n],n)\n",
    "    else:\n",
    "        TLG[i]=(TLG[i-1][0]+publications[n],n)\n",
    "    i+=1\n",
    "# print (TLG)"
   ]
  },
  {
   "cell_type": "code",
   "execution_count": 4,
   "id": "584952e2-44cf-4e81-b736-a0286049fbb7",
   "metadata": {},
   "outputs": [
    {
     "name": "stdout",
     "output_type": "stream",
     "text": [
      "504\n"
     ]
    }
   ],
   "source": [
    "n=24\n",
    "words=TLG[n][0]\n",
    "print (TLG[n][1])"
   ]
  },
  {
   "cell_type": "code",
   "execution_count": 5,
   "id": "0b385bec-d750-4b31-9088-ea84e166fbc8",
   "metadata": {},
   "outputs": [
    {
     "name": "stdout",
     "output_type": "stream",
     "text": [
      "ALAIN, ANDRE, ANISSA, ARLETTE, ARNAUD, AUDREY, BRIGITTE, BRUNO, CARO, CAROLE, CAROLINE, CECILE, CEDRIC, CHRISTELLE, CHRISTIAN, CHRISTINE, CLAUDIUS, DANIEL, DENIS, DOMINIQUE, FATH, FERNAND, FLORIAN, FRANCK, FRANCOISE, FRANZ, FREDO, GABRIEL, GENEVIEVE, GEORGES, ISABELLE, JACQUES, JEAN-LOUIS, JEAN-PIERRE, JEAN-VICTOR, JEANINE, JEANNOT, JESSI, KARIM, KIKY, LAURENT, LEO, LINA, LOUIS, LUCAS, MADEE, MADELEINE, MARGUERITE, MARIE, MARIE-JO, MATHILDE, MELANIE, MICKAEL, NANOU, NATHALIE, NICOLE, OLIVIER, PASCAL, PATRICK, PAUL, PIERRE, QUENTIN, RENEE, ROGER, SEBASTIEN, SOHAD, SOPHIE, STEPHANE, THIERRY, THOMAS, VICTOR, YANNICK, YVETTE\n"
     ]
    }
   ],
   "source": [
    "print (\", \".join(sorted(words)))"
   ]
  },
  {
   "cell_type": "code",
   "execution_count": 6,
   "id": "6599d90f-966d-459f-ba23-f436b9d2608a",
   "metadata": {},
   "outputs": [
    {
     "name": "stdout",
     "output_type": "stream",
     "text": [
      "{0: ([], ['SOPHIE', 'YVETTE', 'JESSI'], 309), 1: (['SOPHIE', 'YVETTE', 'JESSI'], ['GABRIEL'], 313), 2: (['SOPHIE', 'YVETTE', 'JESSI', 'GABRIEL'], ['THOMAS', 'ALAIN', 'MICKAEL', 'MELANIE', 'CEDRIC'], 316), 3: (['SOPHIE', 'YVETTE', 'JESSI', 'GABRIEL', 'THOMAS', 'ALAIN', 'MICKAEL', 'MELANIE', 'CEDRIC'], ['GEORGES', 'YANNICK', 'RENEE', 'GENEVIEVE', 'FERNAND', 'NANOU', 'MARIE-JO', 'JACQUES', 'FRANZ', 'LUCAS', 'PIERRE', 'KARIM'], 325), 4: (['SOPHIE', 'YVETTE', 'JESSI', 'GABRIEL', 'THOMAS', 'ALAIN', 'MICKAEL', 'MELANIE', 'CEDRIC', 'GEORGES', 'YANNICK', 'RENEE', 'GENEVIEVE', 'FERNAND', 'NANOU', 'MARIE-JO', 'JACQUES', 'FRANZ', 'LUCAS', 'PIERRE', 'KARIM'], ['LAURENT', 'FLORIAN', 'LEO'], 401), 5: (['SOPHIE', 'YVETTE', 'JESSI', 'GABRIEL', 'THOMAS', 'ALAIN', 'MICKAEL', 'MELANIE', 'CEDRIC', 'GEORGES', 'YANNICK', 'RENEE', 'GENEVIEVE', 'FERNAND', 'NANOU', 'MARIE-JO', 'JACQUES', 'FRANZ', 'LUCAS', 'PIERRE', 'KARIM', 'LAURENT', 'FLORIAN', 'LEO'], ['OLIVIER', 'BRIGITTE'], 403), 6: (['SOPHIE', 'YVETTE', 'JESSI', 'GABRIEL', 'THOMAS', 'ALAIN', 'MICKAEL', 'MELANIE', 'CEDRIC', 'GEORGES', 'YANNICK', 'RENEE', 'GENEVIEVE', 'FERNAND', 'NANOU', 'MARIE-JO', 'JACQUES', 'FRANZ', 'LUCAS', 'PIERRE', 'KARIM', 'LAURENT', 'FLORIAN', 'LEO', 'OLIVIER', 'BRIGITTE'], ['JEAN-LOUIS', 'KIKY', 'FATH', 'MARIE', 'CAROLINE', 'ANDRE', 'CHRISTELLE', 'CLAUDIUS', 'QUENTIN'], 429), 7: (['SOPHIE', 'YVETTE', 'JESSI', 'GABRIEL', 'THOMAS', 'ALAIN', 'MICKAEL', 'MELANIE', 'CEDRIC', 'GEORGES', 'YANNICK', 'RENEE', 'GENEVIEVE', 'FERNAND', 'NANOU', 'MARIE-JO', 'JACQUES', 'FRANZ', 'LUCAS', 'PIERRE', 'KARIM', 'LAURENT', 'FLORIAN', 'LEO', 'OLIVIER', 'BRIGITTE', 'JEAN-LOUIS', 'KIKY', 'FATH', 'MARIE', 'CAROLINE', 'ANDRE', 'CHRISTELLE', 'CLAUDIUS', 'QUENTIN'], ['SOHAD', 'ANISSA', 'JEANNOT', 'ROGER', 'AUDREY', 'CHRISTIAN', 'FRANCK', 'SEBASTIEN'], 507)}\n"
     ]
    }
   ],
   "source": [
    "trouvees={}\n",
    "trouvees[309]=\"sophie yvette jessi\"\n",
    "trouvees[313]=\"gabriel\"\n",
    "trouvees[316]=\"thomas alain mickaël mélanie cédric\"\n",
    "trouvees[325]=\"georges yannick renée geneviève fernand nanou marie-jo jacques franz lucas pierre karim\"\n",
    "trouvees[401]=\"laurent florian léo\"\n",
    "trouvees[403]=\"olivier brigitte\"\n",
    "trouvees[429]=\"jean-louis kiky fath marie caroline andré christelle claudius quentin\"\n",
    "trouvees[507]=\"sohad anissa jeannot roger audrey christian franck sébastien\"\n",
    "\n",
    "for k,v in trouvees.items():\n",
    "    trouvees[k]=unidecode(v).upper().split(\" \")\n",
    "\n",
    "GAMBOY={}\n",
    "i=0\n",
    "for n in sorted(trouvees.keys()):\n",
    "    if i==0:\n",
    "        GAMBOY[0]=([],trouvees[n],n)\n",
    "    else:\n",
    "        GAMBOY[i]=(GAMBOY[i-1][0]+GAMBOY[i-1][1],trouvees[n],n)\n",
    "    i+=1\n",
    "print (GAMBOY)"
   ]
  },
  {
   "cell_type": "code",
   "execution_count": 7,
   "id": "5152934c-4a70-4d43-9d7d-a7ba212cb306",
   "metadata": {},
   "outputs": [
    {
     "name": "stdout",
     "output_type": "stream",
     "text": [
      "507\n"
     ]
    }
   ],
   "source": [
    "g=7\n",
    "oldFounds=GAMBOY[g][0]\n",
    "newFinds=GAMBOY[g][1]\n",
    "print (GAMBOY[g][2])"
   ]
  },
  {
   "cell_type": "code",
   "execution_count": 8,
   "id": "db00af91-e2ba-4ea0-9e23-4d9e52bf702d",
   "metadata": {},
   "outputs": [],
   "source": [
    "reste=list(set(words)-set(oldFounds+newFinds))"
   ]
  },
  {
   "cell_type": "code",
   "execution_count": 9,
   "id": "6f33de22-866a-4ffa-825f-fcc06bb38796",
   "metadata": {},
   "outputs": [
    {
     "name": "stdout",
     "output_type": "stream",
     "text": [
      "Found\n",
      "ALAIN, ANDRE, BRIGITTE, CAROLINE, CEDRIC, CHRISTELLE, CLAUDIUS, FATH, FERNAND, FLORIAN, FRANZ, GABRIEL, GENEVIEVE, GEORGES, JACQUES, JEAN-LOUIS, JESSI, KARIM, KIKY, LAURENT, LEO, LUCAS, MARIE, MARIE-JO, MELANIE, MICKAEL, NANOU, OLIVIER, PIERRE, QUENTIN, RENEE, SOPHIE, THOMAS, YANNICK, YVETTE\n",
      "\n",
      "New Finds\n",
      "ANISSA, AUDREY, CHRISTIAN, FRANCK, JEANNOT, ROGER, SEBASTIEN, SOHAD\n",
      "\n",
      "Reste\n",
      "ARLETTE, ARNAUD, BRUNO, CARO, CAROLE, CECILE, CHRISTINE, DANIEL, DENIS, DOMINIQUE, FRANCOISE, FREDO, ISABELLE, JEAN-PIERRE, JEAN-VICTOR, JEANINE, LINA, LOUIS, MADEE, MADELEINE, MARGUERITE, MATHILDE, NATHALIE, NICOLE, PASCAL, PATRICK, PAUL, STEPHANE, THIERRY, VICTOR\n"
     ]
    }
   ],
   "source": [
    "print (\"Found\")\n",
    "print (\", \".join(sorted(oldFounds)))\n",
    "print ()\n",
    "print (\"New Finds\")\n",
    "print (\", \".join(sorted(newFinds)))\n",
    "print ()\n",
    "print (\"Reste\")\n",
    "print (\", \".join(sorted(reste)))"
   ]
  },
  {
   "cell_type": "code",
   "execution_count": 10,
   "id": "26d9fd34-a418-4bf5-9b16-b5d547bd2edb",
   "metadata": {},
   "outputs": [
    {
     "data": {
      "text/plain": [
       "(True, 'Fitted the words in 366 attempt(s)')"
      ]
     },
     "execution_count": 10,
     "metadata": {},
     "output_type": "execute_result"
    }
   ],
   "source": [
    "from wordsearch import WordSearch\n",
    "size=25\n",
    "wordsearch = WordSearch(\n",
    "                size,size,words,mask=\"circle\",\n",
    "                output_filestem=\"TintinLaGazelle-Circle{}\".format(size),\n",
    "                allow_backwards_words=True,\n",
    "                )\n",
    "wordsearch.make(nattempts=500)"
   ]
  },
  {
   "cell_type": "code",
   "execution_count": 11,
   "id": "8b657851-afee-4478-9420-6fd12270c67e",
   "metadata": {},
   "outputs": [
    {
     "name": "stdout",
     "output_type": "stream",
     "text": [
      "                  A E C Q W E K                  \n",
      "              S N N A H E D T A P E              \n",
      "          L E I I R Y R N M T R A N E Y          \n",
      "        V U L N O J L I A E I I S I I I K        \n",
      "      A Q J A J Y G S S H T G M C L Y A H I      \n",
      "    J C N E E A E E O T P T I Q A O Y R L P K    \n",
      "    A E J D N A B A R I E E R R L R M S R A O    \n",
      "  J Q S A N R A N O N A T V B E G A B R I E L S  \n",
      "  V H E I N S E T - A N S Y R N D C C E D R I C  \n",
      "R L S C I T - C D S V A O R Q E L L E T S I R H C\n",
      "E E K A I L I L S L C I E T E E N A I R O L F B T\n",
      "G A Y E M V A I O U I I C V O L E L L E B A S I Q\n",
      "O K N E A O N H L U P H G T E I N A L E M P A U L\n",
      "R C O G R A H A T - I D T E O I S O L I V I E R Q\n",
      "Q I U N G D U T N A E S A A O R V E L O C I N U T\n",
      "K M E G U R U A M C N D G H M R R E G J O D E R F\n",
      "  C U R E R E A A L I O S A O E G N N - A N Y F  \n",
      "  F I N R J B R D D T M U R K S U E Z E T M E H  \n",
      "    T R I E O M E A S I I L C I C O S I G R K    \n",
      "    H J T L I N L N I N D E A O E K N R N J W    \n",
      "      T E A I P E I R I U T R C C Z N A R F      \n",
      "        A S P U I E H Q A T N N I J N M N        \n",
      "          F S T N L C U L E A A L D W I          \n",
      "              I E H P E C R U R E K              \n",
      "                  Z G U F T D F                  \n",
      "JEAN-PIERRE\n",
      "JEAN-VICTOR\n",
      "MARGUERITE\n",
      "CHRISTELLE\n",
      "JEAN-LOUIS\n",
      "MADELEINE\n",
      "GENEVIEVE\n",
      "CHRISTIAN\n",
      "FRANCOISE\n",
      "SEBASTIEN\n",
      "DOMINIQUE\n",
      "CHRISTINE\n",
      "CLAUDIUS\n",
      "CAROLINE\n",
      "MARIE-JO\n",
      "STEPHANE\n",
      "BRIGITTE\n",
      "ISABELLE\n",
      "NATHALIE\n",
      "MATHILDE\n",
      "JEANNOT\n",
      "GABRIEL\n",
      "FLORIAN\n",
      "MELANIE\n",
      "MICKAEL\n",
      "JACQUES\n",
      "GEORGES\n",
      "YANNICK\n",
      "FERNAND\n",
      "JEANINE\n",
      "PATRICK\n",
      "ARLETTE\n",
      "LAURENT\n",
      "OLIVIER\n",
      "THIERRY\n",
      "QUENTIN\n",
      "SOPHIE\n",
      "YVETTE\n",
      "FRANCK\n",
      "PIERRE\n",
      "CEDRIC\n",
      "THOMAS\n",
      "VICTOR\n",
      "ANISSA\n",
      "NICOLE\n",
      "DANIEL\n",
      "CECILE\n",
      "CAROLE\n",
      "ARNAUD\n",
      "PASCAL\n",
      "AUDREY\n",
      "JESSI\n",
      "ALAIN\n",
      "LUCAS\n",
      "KARIM\n",
      "ROGER\n",
      "ANDRE\n",
      "FREDO\n",
      "SOHAD\n",
      "LOUIS\n",
      "RENEE\n",
      "FRANZ\n",
      "NANOU\n",
      "MADEE\n",
      "MARIE\n",
      "DENIS\n",
      "BRUNO\n",
      "CARO\n",
      "LINA\n",
      "PAUL\n",
      "FATH\n",
      "KIKY\n",
      "LEO\n"
     ]
    }
   ],
   "source": [
    "print(wordsearch.wordsearch_text)"
   ]
  },
  {
   "cell_type": "code",
   "execution_count": 12,
   "id": "f5a850f9-a026-4de4-b9b0-73292fd9fb71",
   "metadata": {},
   "outputs": [
    {
     "data": {
      "text/plain": [
       "None"
      ]
     },
     "metadata": {},
     "output_type": "display_data"
    }
   ],
   "source": [
    "display(wordsearch.write_wordsearch_and_solution_svg())"
   ]
  },
  {
   "cell_type": "code",
   "execution_count": null,
   "id": "56fe94f7-c0f3-4261-9cd2-ad2644da2c66",
   "metadata": {},
   "outputs": [],
   "source": [
    "motsMeles=\"\"\"                  S A M O H T E                  \n",
    "              E N I N A E J G D V X              \n",
    "          L E K N I A L A O L I V I E R          \n",
    "        U N C A E N A H P E T S P N C S I        \n",
    "      A E I E R M Q D M A R I E - J O T A N      \n",
    "    P R N I R I E E R R E I P - N A E J O C J    \n",
    "    N N N G R M S F L L A C S A P Z E I D R U    \n",
    "  M A R G U E R I T E A T G H M R S N N S K E L  \n",
    "  Y I N E D I E O D T L N Y C R S L A A C B T S  \n",
    "A O T D T G P L C J T I F I T I I N E I R N T R A\n",
    "R D S A M M O O N E E N R S E H R S R T A F I Y U\n",
    "N E I H P O S R A L V A A U I E I T T T T B G J D\n",
    "A R R O T M X A R O Y L N N F U A E H E R E I A R\n",
    "U F H S U N L C F C E B C - O P O A R U L D R C E\n",
    "D G C M A D E L E I N E K L V U L L N R Y L B Q Y\n",
    "M U E E J D E R R N K G - N A I R O L F Y C E U S\n",
    "  A L O U O S B U I Q N G E E C C G A M A D E E  \n",
    "  T T E R Q A U K A A I L A I A E T E R Q S B S  \n",
    "    O H A G I Y I E L I L R S N H L O U C A E    \n",
    "    I N I K E N J D C S D E E S L L E R S R O    \n",
    "      Q N L C S I E U E I V I E I N F T D R      \n",
    "        I A D I C M C A I N B N T N I N A        \n",
    "          U E E M U O E L A E I A E A C          \n",
    "              J G P V D S C N D N D              \n",
    "                  E H I P K U F                  \"\"\""
   ]
  },
  {
   "cell_type": "code",
   "execution_count": 13,
   "id": "6fa5baaa-825a-4235-ae0e-7bf022b01331",
   "metadata": {},
   "outputs": [],
   "source": [
    "motsMeles=\"\"\"                  A E C Q W E K                  \n",
    "              S N N A H E D T A P E              \n",
    "          L E I I R Y R N M T R A N E Y          \n",
    "        V U L N O J L I A E I I S I I I K        \n",
    "      A Q J A J Y G S S H T G M C L Y A H I      \n",
    "    J C N E E A E E O T P T I Q A O Y R L P K    \n",
    "    A E J D N A B A R I E E R R L R M S R A O    \n",
    "  J Q S A N R A N O N A T V B E G A B R I E L S  \n",
    "  V H E I N S E T - A N S Y R N D C C E D R I C  \n",
    "R L S C I T - C D S V A O R Q E L L E T S I R H C\n",
    "E E K A I L I L S L C I E T E E N A I R O L F B T\n",
    "G A Y E M V A I O U I I C V O L E L L E B A S I Q\n",
    "O K N E A O N H L U P H G T E I N A L E M P A U L\n",
    "R C O G R A H A T - I D T E O I S O L I V I E R Q\n",
    "Q I U N G D U T N A E S A A O R V E L O C I N U T\n",
    "K M E G U R U A M C N D G H M R R E G J O D E R F\n",
    "  C U R E R E A A L I O S A O E G N N - A N Y F  \n",
    "  F I N R J B R D D T M U R K S U E Z E T M E H  \n",
    "    T R I E O M E A S I I L C I C O S I G R K    \n",
    "    H J T L I N L N I N D E A O E K N R N J W    \n",
    "      T E A I P E I R I U T R C C Z N A R F      \n",
    "        A S P U I E H Q A T N N I J N M N        \n",
    "          F S T N L C U L E A A L D W I          \n",
    "              I E H P E C R U R E K              \n",
    "                  Z G U F T D F                  \"\"\""
   ]
  },
  {
   "cell_type": "code",
   "execution_count": 14,
   "id": "b83f1a38-d949-4355-a1ce-c9ba37f4c268",
   "metadata": {},
   "outputs": [],
   "source": [
    "lignesBrutes=motsMeles.split(\"\\n\")\n",
    "lignesMelees=[]\n",
    "for l in lignesBrutes:\n",
    "    ligne=\"\"\n",
    "    for i,c in enumerate(l):\n",
    "        if i%2==0:\n",
    "            ligne+=c\n",
    "    lignesMelees.append(ligne)\n",
    "# lignesMelees"
   ]
  },
  {
   "cell_type": "code",
   "execution_count": 21,
   "id": "74b4d656-14bc-4772-8caf-8b018486bea1",
   "metadata": {},
   "outputs": [],
   "source": [
    "colonnesMelees=[\"\"]*len(lignesMelees)\n",
    "for l in lignesMelees:\n",
    "    for i,c in enumerate(l):\n",
    "        colonnesMelees[i]+=c\n",
    "# colonnesMelees"
   ]
  },
  {
   "cell_type": "code",
   "execution_count": 20,
   "id": "5653f554-786c-4b63-91bb-a2c7bf2231d2",
   "metadata": {},
   "outputs": [],
   "source": [
    "diags1=[\"\"]*size*2\n",
    "for l in range(size):\n",
    "    for c in range(size):\n",
    "        diags1[l+c]+=lignesMelees[l][c]\n",
    "diags1=[s.strip() for s in diags1 if s.strip()!=\"\"]\n",
    "# diags1"
   ]
  },
  {
   "cell_type": "code",
   "execution_count": 17,
   "id": "0a600aec-016d-4ae3-b318-72d0b43d4367",
   "metadata": {},
   "outputs": [],
   "source": [
    "diags2=[\"\"]*size*2\n",
    "for l in range(size):\n",
    "    for c in range(size):\n",
    "        diags2[l-c]+=lignesMelees[l][c]\n",
    "diags2=[s.strip() for s in diags2 if s.strip()!=\"\"]\n",
    "# diags2"
   ]
  },
  {
   "cell_type": "code",
   "execution_count": 18,
   "id": "5329c0d4-f9e4-4f6c-83fd-cef83147c3cb",
   "metadata": {},
   "outputs": [],
   "source": [
    "def chercheMot(mot,lignes,element):\n",
    "    motCherche=mot.upper()\n",
    "    motInverse=motCherche[::-1]\n",
    "    for nL,ligne in enumerate(lignes):\n",
    "        if motCherche in ligne:\n",
    "            print (element,nL+1,motCherche,ligne)\n",
    "        elif motInverse in ligne:\n",
    "            print (element,nL+1,motInverse,ligne)\n",
    "    return"
   ]
  },
  {
   "cell_type": "code",
   "execution_count": 25,
   "id": "a38817ac-7c26-4198-ad18-cca5414d66ae",
   "metadata": {},
   "outputs": [
    {
     "name": "stdout",
     "output_type": "stream",
     "text": [
      "FRANCOISE\n",
      "colonnes 16 ESIOCNARF KARIMQRENEELIIRRESIOCNARF\n",
      "ARLETTE\n",
      "colonnes 14 ARLETTE WDMETTEVYRTVTEAHARLETTERT\n",
      "MADELEINE\n",
      "colonnes 9 MADELEINE  NIOYEBNTDSOLTNMADELEINE \n",
      "PAUL\n",
      "lignes 13 PAUL OKNEAONHLUPHGTEINALEMPAUL\n",
      "PATRICK\n",
      "diags2 16 KCIRTAP KCIRTAPTEZ\n",
      "DANIEL\n",
      "colonnes 10 DANIEL ANRJGEAO-SLUU-ACLDANIELHZ\n",
      "THIERRY\n",
      "diags2 22 YRREIHT EAAIYRREIHT\n",
      "MATHILDE\n",
      "diags2 2 EDLIHTAM ANDREDLIHTAMEUONAN\n",
      "VICTOR\n",
      "diags1 10 ROTCIV ATEHTROTCIVAGUM\n",
      "diags2 35 VICTOR VJEAN-VICTORRNZINF\n",
      "ARNAUD\n",
      "colonnes 15 ARNAUD ETTIGIRBRQEOEOOMOKCARNAUD\n",
      "ISABELLE\n",
      "lignes 12 ELLEBASI GAYEMVAIOUIICVOLELLEBASIQ\n",
      "LOUIS\n",
      "diags2 4 LOUIS JEAN-LOUISGAKIEZNI\n",
      "CAROLE\n",
      "diags1 18 CAROLE HRMADEEVGDECAROLE\n",
      "NATHALIE\n",
      "diags2 6 EILAHTAN QEILAHTANOULACID\n",
      "CECILE\n",
      "colonnes 17 CECILE  PASCALGDLNENSVRGUCECILE \n",
      "CARO\n",
      "colonnes 18 ORAC  ENILORACLALAOEENEOKZJDK \n",
      "diags1 5 CARO CAROJEDAESEG\n",
      "diags1 18 CARO HRMADEEVGDECAROLE\n",
      "CHRISTINE\n",
      "colonnes 11 ENITSIRHC EAYLSORNAVCIPIENITSIRHCPG\n",
      "LINA\n",
      "diags1 3 ANIL ANILJNEQVR\n",
      "STEPHANE\n",
      "colonnes 13 ENAHPETS QENAHPETSOECGTAGSUIDUALCF\n",
      "NICOLE\n",
      "lignes 15 ELOCIN QIUNGDUTNAESAAORVELOCINUT\n",
      "DOMINIQUE\n",
      "colonnes 12 DOMINIQUE CHRISTIANAIIHDSDOMINIQUEU\n",
      "JEANINE\n",
      "diags1 4 ENINAEJ ENINAEJSHLE\n",
      "JEAN-PIERRE\n",
      "diags1 16 ERREIP-NAEJ IYOLERREIP-NAEJIJ\n",
      "DENIS\n",
      "diags1 20 DENIS PRRCLNLEEADIDENIS\n",
      "FREDO\n",
      "lignes 16 ODERF KMEGURUAMCNDGHMRREGJODERF\n",
      "JEAN-VICTOR\n",
      "diags2 35 JEAN-VICTOR VJEAN-VICTORRNZINF\n",
      "BRUNO\n",
      "diags2 12 ONURB GKONURBMLIHUCT\n",
      "PASCAL\n",
      "colonnes 17 PASCAL  PASCALGDLNENSVRGUCECILE \n",
      "MARGUERITE\n",
      "colonnes 5 MARGUERITE    VQNJAIIIMARGUERITEA   \n",
      "MADEE\n",
      "diags1 18 MADEE HRMADEEVGDECAROLE\n"
     ]
    }
   ],
   "source": [
    "for motCherche in reste:\n",
    "    print (motCherche)\n",
    "    chercheMot(motCherche,lignesMelees,\"lignes\")\n",
    "    chercheMot(motCherche,colonnesMelees,\"colonnes\")\n",
    "    chercheMot(motCherche,diags1,\"diags1\")\n",
    "    chercheMot(motCherche,diags2,\"diags2\")"
   ]
  },
  {
   "cell_type": "code",
   "execution_count": null,
   "id": "4c46e7a9-783e-46d6-94d9-813e373efb32",
   "metadata": {},
   "outputs": [],
   "source": []
  }
 ],
 "metadata": {
  "kernelspec": {
   "display_name": "Python 3 (ipykernel)",
   "language": "python",
   "name": "python3"
  },
  "language_info": {
   "codemirror_mode": {
    "name": "ipython",
    "version": 3
   },
   "file_extension": ".py",
   "mimetype": "text/x-python",
   "name": "python",
   "nbconvert_exporter": "python",
   "pygments_lexer": "ipython3",
   "version": "3.9.15"
  }
 },
 "nbformat": 4,
 "nbformat_minor": 5
}
