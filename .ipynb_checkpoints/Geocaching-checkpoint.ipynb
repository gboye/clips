{
 "cells": [
  {
   "cell_type": "code",
   "execution_count": 10,
   "metadata": {},
   "outputs": [
    {
     "name": "stdout",
     "output_type": "stream",
     "text": [
      "23\n",
      "2\n",
      "8\n",
      "8\n",
      "6\n",
      "19\n",
      "66 0\n",
      "8202\n"
     ]
    }
   ],
   "source": [
    "liste=[\"1958\",\"11\",\"152\",\"2150\",\"2004\",\"1927\"]\n",
    "total=0\n",
    "totalListe=0\n",
    "for element in liste:\n",
    "    if element!=\"XXX\":\n",
    "        somme=sum([int(i) for i in list(element)])\n",
    "        total+=somme\n",
    "        totalListe+=int(element)\n",
    "        print somme\n",
    "print total, 66-total\n",
    "print totalListe"
   ]
  },
  {
   "cell_type": "code",
   "execution_count": 1,
   "metadata": {
    "collapsed": true
   },
   "outputs": [],
   "source": [
    "import string"
   ]
  },
  {
   "cell_type": "code",
   "execution_count": 9,
   "metadata": {
    "collapsed": true
   },
   "outputs": [],
   "source": [
    "plaques=[\"acn 621\",\"nbb 453\",\"uaw 806\",\"edi 319\"]"
   ]
  },
  {
   "cell_type": "code",
   "execution_count": 12,
   "metadata": {},
   "outputs": [
    {
     "name": "stdout",
     "output_type": "stream",
     "text": [
      "g e o r g e c a c h e r\n"
     ]
    }
   ],
   "source": [
    "for plaque in plaques:\n",
    "    (chaine,numeros)=plaque.split(\" \")\n",
    "    nums = [int(n) for n in numeros]\n",
    "    for n,lettre in enumerate(chaine):\n",
    "#        print n, lettre\n",
    "        nLettre=(int(nums[n])+string.ascii_lowercase.index(lettre))%26\n",
    "        print string.ascii_lowercase[nLettre],"
   ]
  }
 ],
 "metadata": {
  "kernelspec": {
   "display_name": "Python 2",
   "language": "python",
   "name": "python2"
  },
  "language_info": {
   "codemirror_mode": {
    "name": "ipython",
    "version": 2
   },
   "file_extension": ".py",
   "mimetype": "text/x-python",
   "name": "python",
   "nbconvert_exporter": "python",
   "pygments_lexer": "ipython2",
   "version": "2.7.11"
  }
 },
 "nbformat": 4,
 "nbformat_minor": 1
}
