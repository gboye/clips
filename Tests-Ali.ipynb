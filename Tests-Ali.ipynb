{
 "cells": [
  {
   "cell_type": "code",
   "execution_count": 1,
   "id": "cc6e9875-cab6-4234-8549-6b1fb688e05e",
   "metadata": {},
   "outputs": [],
   "source": [
    "import pandas as pd"
   ]
  },
  {
   "cell_type": "code",
   "execution_count": 6,
   "id": "27a50a92-f186-4eb0-b357-8693a96daebe",
   "metadata": {},
   "outputs": [
    {
     "data": {
      "text/html": [
       "<div>\n",
       "<style scoped>\n",
       "    .dataframe tbody tr th:only-of-type {\n",
       "        vertical-align: middle;\n",
       "    }\n",
       "\n",
       "    .dataframe tbody tr th {\n",
       "        vertical-align: top;\n",
       "    }\n",
       "\n",
       "    .dataframe thead th {\n",
       "        text-align: right;\n",
       "    }\n",
       "</style>\n",
       "<table border=\"1\" class=\"dataframe\">\n",
       "  <thead>\n",
       "    <tr style=\"text-align: right;\">\n",
       "      <th></th>\n",
       "      <th>Phrase</th>\n",
       "      <th>Langue</th>\n",
       "    </tr>\n",
       "  </thead>\n",
       "  <tbody>\n",
       "    <tr>\n",
       "      <th>0</th>\n",
       "      <td>هذا انسان الله يبارك باين فحل وخدام ربي يعاونك...</td>\n",
       "      <td>ALG</td>\n",
       "    </tr>\n",
       "    <tr>\n",
       "      <th>1</th>\n",
       "      <td>هو غضب عليها وخرج كي خرج لقاه جارو زوج المرأة ...</td>\n",
       "      <td>ALG</td>\n",
       "    </tr>\n",
       "    <tr>\n",
       "      <th>2</th>\n",
       "      <td>الحدود قافلينها علينا وقاعات الشطيح والرديح جا...</td>\n",
       "      <td>ALG</td>\n",
       "    </tr>\n",
       "    <tr>\n",
       "      <th>3</th>\n",
       "      <td>وكي رجع لدار قال لبنت عمي عبي حوايجك وروحي ترو...</td>\n",
       "      <td>ALG</td>\n",
       "    </tr>\n",
       "    <tr>\n",
       "      <th>4</th>\n",
       "      <td>جيت نهدرلكم على موضوع \"عمل النساء \" ملاحضة: أن...</td>\n",
       "      <td>ALG</td>\n",
       "    </tr>\n",
       "    <tr>\n",
       "      <th>...</th>\n",
       "      <td>...</td>\n",
       "      <td>...</td>\n",
       "    </tr>\n",
       "    <tr>\n",
       "      <th>7789</th>\n",
       "      <td>جور القط ولا عدل الفار</td>\n",
       "      <td>SYR</td>\n",
       "    </tr>\n",
       "    <tr>\n",
       "      <th>7790</th>\n",
       "      <td>جوزت بنتي لأرتاح من بلاها رجعت لعندي وأربعة وراها</td>\n",
       "      <td>SYR</td>\n",
       "    </tr>\n",
       "    <tr>\n",
       "      <th>7791</th>\n",
       "      <td>جوزوا طنة لرّنة وشرطوا عليها شروط، لابقة هالمس...</td>\n",
       "      <td>SYR</td>\n",
       "    </tr>\n",
       "    <tr>\n",
       "      <th>7792</th>\n",
       "      <td>جوزي بيحبني قوية أهلي بيحبوني غنية وجيراني بيح...</td>\n",
       "      <td>SYR</td>\n",
       "    </tr>\n",
       "    <tr>\n",
       "      <th>7793</th>\n",
       "      <td>جوع قطك يصيد فارك وشبع كلبك يحرسك</td>\n",
       "      <td>SYR</td>\n",
       "    </tr>\n",
       "  </tbody>\n",
       "</table>\n",
       "<p>7794 rows × 2 columns</p>\n",
       "</div>"
      ],
      "text/plain": [
       "                                                 Phrase Langue\n",
       "0     هذا انسان الله يبارك باين فحل وخدام ربي يعاونك...    ALG\n",
       "1     هو غضب عليها وخرج كي خرج لقاه جارو زوج المرأة ...    ALG\n",
       "2     الحدود قافلينها علينا وقاعات الشطيح والرديح جا...    ALG\n",
       "3     وكي رجع لدار قال لبنت عمي عبي حوايجك وروحي ترو...    ALG\n",
       "4     جيت نهدرلكم على موضوع \"عمل النساء \" ملاحضة: أن...    ALG\n",
       "...                                                 ...    ...\n",
       "7789                             جور القط ولا عدل الفار    SYR\n",
       "7790  جوزت بنتي لأرتاح من بلاها رجعت لعندي وأربعة وراها    SYR\n",
       "7791  جوزوا طنة لرّنة وشرطوا عليها شروط، لابقة هالمس...    SYR\n",
       "7792  جوزي بيحبني قوية أهلي بيحبوني غنية وجيراني بيح...    SYR\n",
       "7793                  جوع قطك يصيد فارك وشبع كلبك يحرسك    SYR\n",
       "\n",
       "[7794 rows x 2 columns]"
      ]
     },
     "execution_count": 6,
     "metadata": {},
     "output_type": "execute_result"
    }
   ],
   "source": [
    "pd.read_excel(\"/Users/gilles/Downloads/corpus4.xlsx\")"
   ]
  }
 ],
 "metadata": {
  "kernelspec": {
   "display_name": "Python 3 (ipykernel)",
   "language": "python",
   "name": "python3"
  },
  "language_info": {
   "codemirror_mode": {
    "name": "ipython",
    "version": 3
   },
   "file_extension": ".py",
   "mimetype": "text/x-python",
   "name": "python",
   "nbconvert_exporter": "python",
   "pygments_lexer": "ipython3",
   "version": "3.9.15"
  }
 },
 "nbformat": 4,
 "nbformat_minor": 5
}
