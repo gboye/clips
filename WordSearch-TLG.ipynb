{
 "cells": [
  {
   "cell_type": "code",
   "execution_count": 1,
   "id": "38ea7546-887f-4f8d-8691-7122dc699d4e",
   "metadata": {},
   "outputs": [],
   "source": [
    "from unidecode import unidecode"
   ]
  },
  {
   "cell_type": "raw",
   "id": "e9ebfb93-f86b-4501-b029-77b137ad5a63",
   "metadata": {},
   "source": [
    "words=\"sébastien thierry madee marguerite stéphane jeanine cédric marie caro mélanie\"\n",
    "words+=\" jean-pierre mickaël sohad thomas fath nicole nathalie cécile anissa sophie\"\n",
    "words+=\" kiky alain nanou lina geneviève renée jeannot fernand yannick yvette caroline roger\"\n",
    "words+=\" audrey christian franck georges andré marie-jo madeleine victor paul lucas\"\n",
    "words+=\" arlette jacques christelle franz pierre dominique patrick fredo denis\"\n",
    "words+=\" claudius florian jessi laurent jean-louis louis quentin carole bruno\"\n",
    "words+=\" léo gabriel daniel karim brigitte olivier arnaud françoise isabelle\"\n",
    "words+=\" pascal jean-victor mathilde christine\""
   ]
  },
  {
   "cell_type": "code",
   "execution_count": 2,
   "id": "85d26b83-afa1-46fc-8243-8428e2a5614c",
   "metadata": {},
   "outputs": [],
   "source": [
    "publications={}\n",
    "publications[301]=\"jessi\" \n",
    "publications[308]=\"sophie yvette\" \n",
    "publications[309]=\"claudius\" \n",
    "publications[310]=\"alain jeannot franck gabriel\" \n",
    "publications[313]=\"florian pierre lucas mélanie\"\n",
    "publications[314]=\"léo\" \n",
    "publications[315]=\"mickaël cédric caro thomas lina\" \n",
    "publications[316]=\"karim madeleine victor marguerite\" \n",
    "publications[317]=\"paul roger andré\" \n",
    "publications[318]=\"fredo caroline christelle\"\n",
    "publications[319]=\"anissa\" \n",
    "publications[321]=\"sohad jacques\" \n",
    "publications[322]=\"louis georges yannick renée geneviève nicole jean-pierre\" \n",
    "publications[324]=\"franz fernand nanou marie-jo christian\"\n",
    "publications[326]=\"daniel madee stéphane jeanine marie fath kiky patrick\" \n",
    "publications[328]=\"denis arlette cécile\"\n",
    "publications[331]=\"laurent\" \n",
    "publications[402]=\"olivier brigitte françoise\" \n",
    "publications[403]=\"carole bruno arnaud sébastien thierry\" \n",
    "publications[404]=\"pascal jean-victor isabelle nathalie\"\n",
    "publications[408]=\"quentin\" \n",
    "publications[411]=\"mathilde dominique\" \n",
    "publications[413]=\"jean-louis\" \n",
    "publications[424]=\"audrey\"\n",
    "publications[505]=\"christine\"\n",
    "publications[923]=\"patsy\"\n",
    "\n",
    "for k,v in publications.items():\n",
    "    publications[k]=unidecode(v).upper().split(\" \")\n",
    "\n",
    "TLG={}\n",
    "i=0\n",
    "for n in sorted(publications.keys()):\n",
    "    if i==0:\n",
    "        TLG[0]=(publications[n],n)\n",
    "    else:\n",
    "        TLG[i]=(TLG[i-1][0]+publications[n],n)\n",
    "    i+=1\n",
    "# print (TLG)"
   ]
  },
  {
   "cell_type": "code",
   "execution_count": 29,
   "id": "584952e2-44cf-4e81-b736-a0286049fbb7",
   "metadata": {},
   "outputs": [
    {
     "name": "stdout",
     "output_type": "stream",
     "text": [
      "923\n"
     ]
    }
   ],
   "source": [
    "n=25\n",
    "words=TLG[n][0]\n",
    "print (TLG[n][1])"
   ]
  },
  {
   "cell_type": "code",
   "execution_count": 30,
   "id": "0b385bec-d750-4b31-9088-ea84e166fbc8",
   "metadata": {},
   "outputs": [
    {
     "name": "stdout",
     "output_type": "stream",
     "text": [
      "ALAIN, ANDRE, ANISSA, ARLETTE, ARNAUD, AUDREY, BRIGITTE, BRUNO, CARO, CAROLE, CAROLINE, CECILE, CEDRIC, CHRISTELLE, CHRISTIAN, CHRISTINE, CLAUDIUS, DANIEL, DENIS, DOMINIQUE, FATH, FERNAND, FLORIAN, FRANCK, FRANCOISE, FRANZ, FREDO, GABRIEL, GENEVIEVE, GEORGES, ISABELLE, JACQUES, JEAN-LOUIS, JEAN-PIERRE, JEAN-VICTOR, JEANINE, JEANNOT, JESSI, KARIM, KIKY, LAURENT, LEO, LINA, LOUIS, LUCAS, MADEE, MADELEINE, MARGUERITE, MARIE, MARIE-JO, MATHILDE, MELANIE, MICKAEL, NANOU, NATHALIE, NICOLE, OLIVIER, PASCAL, PATRICK, PATSY, PAUL, PIERRE, QUENTIN, RENEE, ROGER, SEBASTIEN, SOHAD, SOPHIE, STEPHANE, THIERRY, THOMAS, VICTOR, YANNICK, YVETTE\n"
     ]
    }
   ],
   "source": [
    "print (\", \".join(sorted(words)))"
   ]
  },
  {
   "cell_type": "code",
   "execution_count": 31,
   "id": "6599d90f-966d-459f-ba23-f436b9d2608a",
   "metadata": {},
   "outputs": [],
   "source": [
    "trouvees={}\n",
    "trouvees[309]=\"sophie yvette jessi\"\n",
    "trouvees[313]=\"gabriel\"\n",
    "trouvees[316]=\"thomas alain mickaël mélanie cédric\"\n",
    "trouvees[325]=\"georges yannick renée geneviève fernand nanou marie-jo jacques franz lucas pierre karim\"\n",
    "trouvees[401]=\"laurent florian léo\"\n",
    "trouvees[403]=\"olivier brigitte\"\n",
    "trouvees[429]=\"jean-louis kiky fath marie caroline andré christelle claudius quentin\"\n",
    "trouvees[507]=\"sohad anissa jeannot roger audrey christian franck sébastien\"\n",
    "trouvees[625]=\"patrick paul victor madeleine denis\"\n",
    "trouvees[1022]=\"madee thierry jeanine\"\n",
    "trouvees[1029]=\"nathalie nicole jean-pierre cécile caro\"\n",
    "trouvees[1106]=\"pascal françoise louis\"\n",
    "trouvees[1107]=\"daniel\"\n",
    "trouvees[1216]=\"jean-victor isabelle mathilde\"\n",
    "\n",
    "\n",
    "\n",
    "for k,v in trouvees.items():\n",
    "    trouvees[k]=unidecode(v).upper().split(\" \")\n",
    "\n",
    "GAMBOY={}\n",
    "i=0\n",
    "for n in sorted(trouvees.keys()):\n",
    "    if i==0:\n",
    "        GAMBOY[0]=([],trouvees[n],n)\n",
    "    else:\n",
    "        GAMBOY[i]=(GAMBOY[i-1][0]+GAMBOY[i-1][1],trouvees[n],n)\n",
    "    i+=1\n",
    "# print (GAMBOY)"
   ]
  },
  {
   "cell_type": "code",
   "execution_count": 56,
   "id": "5152934c-4a70-4d43-9d7d-a7ba212cb306",
   "metadata": {},
   "outputs": [],
   "source": [
    "g=13\n",
    "oldFounds=GAMBOY[g][0]\n",
    "newFinds=GAMBOY[g][1]\n",
    "reste=list(set(words)-set(oldFounds+newFinds))\n",
    "# print (GAMBOY[g][2])"
   ]
  },
  {
   "cell_type": "code",
   "execution_count": 57,
   "id": "6f33de22-866a-4ffa-825f-fcc06bb38796",
   "metadata": {},
   "outputs": [
    {
     "name": "stdout",
     "output_type": "stream",
     "text": [
      "1216\n",
      "Found\n",
      "ALAIN, ANDRE, ANISSA, AUDREY, BRIGITTE, CARO, CAROLINE, CECILE, CEDRIC, CHRISTELLE, CHRISTIAN, CLAUDIUS, DANIEL, DENIS, FATH, FERNAND, FLORIAN, FRANCK, FRANCOISE, FRANZ, GABRIEL, GENEVIEVE, GEORGES, JACQUES, JEAN-LOUIS, JEAN-PIERRE, JEANINE, JEANNOT, JESSI, KARIM, KIKY, LAURENT, LEO, LOUIS, LUCAS, MADEE, MADELEINE, MARIE, MARIE-JO, MELANIE, MICKAEL, NANOU, NATHALIE, NICOLE, OLIVIER, PASCAL, PATRICK, PAUL, PIERRE, QUENTIN, RENEE, ROGER, SEBASTIEN, SOHAD, SOPHIE, THIERRY, THOMAS, VICTOR, YANNICK, YVETTE\n",
      "\n",
      "New Finds\n",
      "ISABELLE, JEAN-VICTOR, MATHILDE\n",
      "\n",
      "Reste\n",
      "ARLETTE, ARNAUD, BRUNO, CAROLE, CHRISTINE, DOMINIQUE, FREDO, LINA, MARGUERITE, PATSY, STEPHANE\n"
     ]
    }
   ],
   "source": [
    "print (GAMBOY[g][2])\n",
    "print (\"Found\")\n",
    "print (\", \".join(sorted(oldFounds)))\n",
    "print ()\n",
    "print (\"New Finds\")\n",
    "print (\", \".join(sorted(newFinds)))\n",
    "print ()\n",
    "print (\"Reste\")\n",
    "print (\", \".join(sorted(reste)))"
   ]
  },
  {
   "cell_type": "code",
   "execution_count": 36,
   "id": "26d9fd34-a418-4bf5-9b16-b5d547bd2edb",
   "metadata": {},
   "outputs": [
    {
     "data": {
      "text/plain": [
       "(True, 'Fitted the words in 232 attempt(s)')"
      ]
     },
     "execution_count": 36,
     "metadata": {},
     "output_type": "execute_result"
    }
   ],
   "source": [
    "from wordsearch import WordSearch\n",
    "size=25\n",
    "wordsearch = WordSearch(\n",
    "                size,size,words,mask=\"circle\",\n",
    "                output_filestem=\"TintinLaGazelle-Circle{}\".format(size),\n",
    "                allow_backwards_words=True,\n",
    "                )\n",
    "wordsearch.make(nattempts=500)"
   ]
  },
  {
   "cell_type": "code",
   "execution_count": 37,
   "id": "8b657851-afee-4478-9420-6fd12270c67e",
   "metadata": {},
   "outputs": [
    {
     "name": "stdout",
     "output_type": "stream",
     "text": [
      "                  S A M O H T E                  \n",
      "              I J B R I G I T T E C              \n",
      "          H S E U Q C A J I G Y Q M E C          \n",
      "        L S A S O O N U R B R O S N H C R        \n",
      "      N E N E I N A L E M R J E I R Q J I P      \n",
      "    P J I N F O A X U R E - G T I U E T O L Z    \n",
      "    U N R A H C N G E I E R S S L A C S A P E    \n",
      "  K E I B T L N R G H I O I T R N O L I V I E R  \n",
      "  C O T A H K A O T R E R I J - C L A U D I U S  \n",
      "B N D N G A M R A A G H A R P E E T O N N A E J P\n",
      "L A E E L L E F M R C N K I E N A W T N E R U A L\n",
      "W R R U R I U C A R O L E A I N Z N A R F N B S Y\n",
      "E F F Q W E Q N Z T O R B L R E E E - F D A H O S\n",
      "J E A N - V I C T O R T O G D I V E L L W U A P T\n",
      "F E E C M L N N C E L R C N E T M G M O O D S H A\n",
      "Q F L D A N I E L H A U A I Y S Y E A R C U S I P\n",
      "  S S L A R M B M C R N C E V A E N D I L I I E  \n",
      "  E T M E M O Y R I R I R A N B R E E A O T N S  \n",
      "    T E A B D U K E C D S N S E R V L N U K A    \n",
      "    K T P T A Y F C U K I T C S E I E Y I C L    \n",
      "      I E H H S V A I C A I E R I E I H S U      \n",
      "        K L A I I E K R R E D L P V N W A        \n",
      "          Y R N L N T D T N L L L E E P          \n",
      "              A E D E T A A E N K E              \n",
      "                  C E D E O P V                  \n",
      "JEAN-PIERRE\n",
      "JEAN-VICTOR\n",
      "MARGUERITE\n",
      "CHRISTELLE\n",
      "JEAN-LOUIS\n",
      "MADELEINE\n",
      "GENEVIEVE\n",
      "CHRISTIAN\n",
      "FRANCOISE\n",
      "SEBASTIEN\n",
      "DOMINIQUE\n",
      "CHRISTINE\n",
      "CLAUDIUS\n",
      "CAROLINE\n",
      "MARIE-JO\n",
      "STEPHANE\n",
      "BRIGITTE\n",
      "ISABELLE\n",
      "NATHALIE\n",
      "MATHILDE\n",
      "JEANNOT\n",
      "GABRIEL\n",
      "FLORIAN\n",
      "MELANIE\n",
      "MICKAEL\n",
      "JACQUES\n",
      "GEORGES\n",
      "YANNICK\n",
      "FERNAND\n",
      "JEANINE\n",
      "PATRICK\n",
      "ARLETTE\n",
      "LAURENT\n",
      "OLIVIER\n",
      "THIERRY\n",
      "QUENTIN\n",
      "SOPHIE\n",
      "YVETTE\n",
      "FRANCK\n",
      "PIERRE\n",
      "CEDRIC\n",
      "THOMAS\n",
      "VICTOR\n",
      "ANISSA\n",
      "NICOLE\n",
      "DANIEL\n",
      "CECILE\n",
      "CAROLE\n",
      "ARNAUD\n",
      "PASCAL\n",
      "AUDREY\n",
      "JESSI\n",
      "ALAIN\n",
      "LUCAS\n",
      "KARIM\n",
      "ROGER\n",
      "ANDRE\n",
      "FREDO\n",
      "SOHAD\n",
      "LOUIS\n",
      "RENEE\n",
      "FRANZ\n",
      "NANOU\n",
      "MADEE\n",
      "MARIE\n",
      "DENIS\n",
      "BRUNO\n",
      "PATSY\n",
      "CARO\n",
      "LINA\n",
      "PAUL\n",
      "FATH\n",
      "KIKY\n",
      "LEO\n"
     ]
    }
   ],
   "source": [
    "print(wordsearch.wordsearch_text)"
   ]
  },
  {
   "cell_type": "code",
   "execution_count": 14,
   "id": "f5a850f9-a026-4de4-b9b0-73292fd9fb71",
   "metadata": {},
   "outputs": [
    {
     "data": {
      "text/plain": [
       "None"
      ]
     },
     "metadata": {},
     "output_type": "display_data"
    }
   ],
   "source": [
    "display(wordsearch.write_wordsearch_and_solution_svg())"
   ]
  },
  {
   "cell_type": "code",
   "execution_count": 43,
   "id": "56fe94f7-c0f3-4261-9cd2-ad2644da2c66",
   "metadata": {},
   "outputs": [],
   "source": [
    "motsMeles=\"\"\"                  S A M O H T E                  \n",
    "              I J B R I G I T T E C              \n",
    "          H S E U Q C A J I G Y Q M E C          \n",
    "        L S A S O O N U R B R O S N H C R        \n",
    "      N E N E I N A L E M R J E I R Q J I P      \n",
    "    P J I N F O A X U R E - G T I U E T O L Z    \n",
    "    U N R A H C N G E I E R S S L A C S A P E    \n",
    "  K E I B T L N R G H I O I T R N O L I V I E R  \n",
    "  C O T A H K A O T R E R I J - C L A U D I U S  \n",
    "B N D N G A M R A A G H A R P E E T O N N A E J P\n",
    "L A E E L L E F M R C N K I E N A W T N E R U A L\n",
    "W R R U R I U C A R O L E A I N Z N A R F N B S Y\n",
    "E F F Q W E Q N Z T O R B L R E E E - F D A H O S\n",
    "J E A N - V I C T O R T O G D I V E L L W U A P T\n",
    "F E E C M L N N C E L R C N E T M G M O O D S H A\n",
    "Q F L D A N I E L H A U A I Y S Y E A R C U S I P\n",
    "  S S L A R M B M C R N C E V A E N D I L I I E  \n",
    "  E T M E M O Y R I R I R A N B R E E A O T N S  \n",
    "    T E A B D U K E C D S N S E R V L N U K A    \n",
    "    K T P T A Y F C U K I T C S E I E Y I C L    \n",
    "      I E H H S V A I C A I E R I E I H S U      \n",
    "        K L A I I E K R R E D L P V N W A        \n",
    "          Y R N L N T D T N L L L E E P          \n",
    "              A E D E T A A E N K E              \n",
    "                  C E D E O P V                  \"\"\""
   ]
  },
  {
   "cell_type": "code",
   "execution_count": 15,
   "id": "6fa5baaa-825a-4235-ae0e-7bf022b01331",
   "metadata": {},
   "outputs": [],
   "source": [
    "motsMeles=\"\"\"                  O L I V I E R                  \n",
    "              W L C K Y A N N I C K              \n",
    "          P J E F H O C R O G E R C H Y          \n",
    "        H S I E Y R R E I H T K M W L T K        \n",
    "      N A N O U S I B E L R S O H A D A A I      \n",
    "    F R A N C O I S E N E T T I G I R B U F K    \n",
    "    D D K A R I M T I I E A Y A Z F V I M D J    \n",
    "  G O E I H P O S I H E R V V B P R P S E A I J  \n",
    "  J M S A M O H T N J L T N E R U A L A C - R U  \n",
    "G I I A U D R E Y E E E R Q T I B N L Q S L J I S\n",
    "E P N E R J A M N T T D A K T E V Z U Z G C E O E\n",
    "O I I I C G C I T I S A R N E R R E I P - N A E J\n",
    "R E Q L A T U E P T L M M E - J S D N G M D N L L\n",
    "G R U A R O Y E E C N O L G E L N I N E N E - I I\n",
    "E R E H O N E P R I H L R A A I O F N A G L V C N\n",
    "S E M T L N H D A I E R N A T B L U N E N L I E A\n",
    "  I A A E A U L L T T I I N C O R R I E D E C C  \n",
    "  L D N N E A R S I N E E S R S E I I S U B T Q  \n",
    "    E E I J O I B E H U R I T F I T E F A A O    \n",
    "    E A L C R F E I Q T A O S I S U C L N S R    \n",
    "      Y K H O N R N O N A A T A A I O I R I      \n",
    "        C C E L U A P D C M B C R N S L A        \n",
    "          R I S E L N U E E U D I S C W          \n",
    "              M T E L C S R E U A V              \n",
    "                  M K T K C F I                  \"\"\""
   ]
  },
  {
   "cell_type": "code",
   "execution_count": 44,
   "id": "b83f1a38-d949-4355-a1ce-c9ba37f4c268",
   "metadata": {},
   "outputs": [],
   "source": [
    "lignesBrutes=motsMeles.split(\"\\n\")\n",
    "lignesMelees=[]\n",
    "for l in lignesBrutes:\n",
    "    ligne=\"\"\n",
    "    for i,c in enumerate(l):\n",
    "        if i%2==0:\n",
    "            ligne+=c\n",
    "    lignesMelees.append(ligne)\n",
    "# lignesMelees"
   ]
  },
  {
   "cell_type": "code",
   "execution_count": 45,
   "id": "74b4d656-14bc-4772-8caf-8b018486bea1",
   "metadata": {},
   "outputs": [],
   "source": [
    "colonnesMelees=[\"\"]*len(lignesMelees)\n",
    "for l in lignesMelees:\n",
    "    for i,c in enumerate(l):\n",
    "        colonnesMelees[i]+=c\n",
    "# colonnesMelees"
   ]
  },
  {
   "cell_type": "code",
   "execution_count": 46,
   "id": "5653f554-786c-4b63-91bb-a2c7bf2231d2",
   "metadata": {},
   "outputs": [],
   "source": [
    "diags1=[\"\"]*size*2\n",
    "for l in range(size):\n",
    "    for c in range(size):\n",
    "        diags1[l+c]+=lignesMelees[l][c]\n",
    "diags1=[s.strip() for s in diags1 if s.strip()!=\"\"]\n",
    "# diags1"
   ]
  },
  {
   "cell_type": "code",
   "execution_count": 47,
   "id": "0a600aec-016d-4ae3-b318-72d0b43d4367",
   "metadata": {},
   "outputs": [],
   "source": [
    "diags2=[\"\"]*size*2\n",
    "for l in range(size):\n",
    "    for c in range(size):\n",
    "        diags2[l-c]+=lignesMelees[l][c]\n",
    "diags2=[s.strip() for s in diags2 if s.strip()!=\"\"]\n",
    "# diags2"
   ]
  },
  {
   "cell_type": "code",
   "execution_count": 48,
   "id": "5329c0d4-f9e4-4f6c-83fd-cef83147c3cb",
   "metadata": {},
   "outputs": [],
   "source": [
    "def chercheMot(mot,lignes,element):\n",
    "    motCherche=mot.upper()\n",
    "    motInverse=motCherche[::-1]\n",
    "    for nL,ligne in enumerate(lignes):\n",
    "        if motCherche in ligne:\n",
    "            print (element,nL+1,motCherche,ligne)\n",
    "        elif motInverse in ligne:\n",
    "            print (element,nL+1,motInverse,ligne)\n",
    "    return"
   ]
  },
  {
   "cell_type": "code",
   "execution_count": 51,
   "id": "a38817ac-7c26-4198-ad18-cca5414d66ae",
   "metadata": {},
   "outputs": [
    {
     "name": "stdout",
     "output_type": "stream",
     "text": [
      "SOPHIE\n",
      "colonnes 24 SOPHIE        RSJASOPHIES       \n",
      "YVETTE\n",
      "diags2 13 YVETTE EEEDAMDYVETTE\n",
      "JESSI\n",
      "diags1 2 ISSEJ ISSEJUK\n",
      "GABRIEL\n",
      "colonnes 5 LEIRBAG    LEIRBAGLRW-MAAEAPEK   \n",
      "THOMAS\n",
      "lignes 1 SAMOHT          SAMOHTE         \n",
      "ALAIN\n",
      "diags2 2 NIALA NIALAARORONYARVEHA\n",
      "MICKAEL\n",
      "diags2 9 MICKAEL NEUWVNEMICKAELN\n",
      "MELANIE\n",
      "lignes 5 EINALEM    NENEINALEMRJEIRQJIP   \n",
      "CEDRIC\n",
      "diags1 27 CIRDEC PABAWOANRECIRDEC\n",
      "GEORGES\n",
      "diags1 13 SEGROEG MSEGROEGRANILALT\n",
      "YANNICK\n",
      "diags1 25 YANNICK SERFFLGYANNICKNE\n",
      "RENEE\n",
      "diags2 32 RENEE SSNXEIRRENEEMRLTA\n",
      "GENEVIEVE\n",
      "colonnes 18 GENEVIEVE  CMNRUAOLTWNEEGENEVIEVEE \n",
      "FERNAND\n",
      "diags1 21 DNANREF ZPVUOWZEDNANREFSAY\n",
      "NANOU\n",
      "colonnes 9 UONAN  JUONANROAMAZTCLMRKFVILE \n",
      "MARIE-JO\n",
      "diags1 12 OJ-EIRAM CQOJ-EIRAMCQVMDSE\n",
      "JACQUES\n",
      "lignes 3 SEUQCAJ      HSEUQCAJIGYQMEC     \n",
      "FRANZ\n",
      "lignes 12 ZNARF WRRURIUCAROLEAINZNARFNBSY\n",
      "LUCAS\n",
      "diags2 5 LUCAS UIAAECZOLUCASSIVE\n",
      "PIERRE\n",
      "colonnes 17 ERREIP  EQSIILNCEAZEVMYERREIPLK \n",
      "diags1 17 PIERRE RJEAN-PIERRELBOBPI\n",
      "KARIM\n",
      "diags2 34 KARIM SEONGRHKARIMEDAUC\n",
      "LAURENT\n",
      "lignes 11 TNERUAL LAEELLEFMRCNKIENAWTNERUAL\n",
      "FLORIAN\n",
      "colonnes 20 FLORIAN   CCJTSIUNNRFLORIANYHWP  \n",
      "LEO\n",
      "diags1 31 LEO THSIONEEPLEO\n",
      "OLIVIER\n",
      "lignes 8 OLIVIER  KEIBTLNRGHIOITRNOLIVIER \n",
      "BRIGITTE\n",
      "lignes 2 BRIGITTE        IJBRIGITTEC       \n",
      "JEAN-LOUIS\n",
      "diags2 30 JEAN-LOUIS IUOLREIJEAN-LOUIS\n",
      "KIKY\n",
      "diags2 18 KIKY KIKY\n",
      "FATH\n",
      "diags1 11 HTAF EYRREIHTAFUE-CLS\n",
      "MARIE\n",
      "diags1 12 EIRAM CQOJ-EIRAMCQVMDSE\n",
      "CAROLINE\n",
      "diags1 19 ENILORAC POSLLENILORACRUAHK\n",
      "ANDRE\n",
      "diags1 29 ERDNA YOADCIEVERDNAD\n",
      "CHRISTELLE\n",
      "diags2 7 CHRISTELLE KONLIQCCHRISTELLE\n",
      "CLAUDIUS\n",
      "lignes 9 CLAUDIUS  COTAHKAOTRERIJ-CLAUDIUS \n",
      "QUENTIN\n",
      "colonnes 4 NITNEUQ     NJNITNEUQNCDLMETI    \n",
      "SOHAD\n",
      "lignes 13 DAHOS EFFQWEQNZTORBLREEE-FDAHOS\n",
      "ANISSA\n",
      "colonnes 23 ASSINA      ZEEUEUBHASSINAL     \n",
      "JEANNOT\n",
      "lignes 10 TONNAEJ BNDNGAMRAAGHARPEETONNAEJP\n",
      "ROGER\n",
      "diags1 10 REGOR TGBMREGOREIWNEF\n",
      "AUDREY\n",
      "diags1 23 YERDUA EINNAEVTYERDUAIN\n",
      "CHRISTIAN\n",
      "diags1 15 CHRISTIAN CHRISTIANOTTNIREEK\n",
      "FRANCK\n",
      "colonnes 2 KCNARF        KCNARFEEFSE       \n",
      "SEBASTIEN\n",
      "colonnes 16 NEITSABES ETYOETSR-ENNEITSABESRLLNV\n",
      "PATRICK\n",
      "diags2 11 KCIRTAP LRFNMNMYKCIRTAP\n",
      "PAUL\n",
      "diags1 35 LUAP LUAP\n",
      "VICTOR\n",
      "lignes 14 VICTOR JEAN-VICTORTOGDIVELLWUAPT\n",
      "diags2 3 ROTCIV JRTKRMROTCIVBRIIW\n",
      "MADELEINE\n",
      "colonnes 19 MADELEINE   EHQECLAOTA-LMADELEINE  \n",
      "DENIS\n",
      "diags2 14 SINED JELLEBASINED\n",
      "MADEE\n",
      "diags2 13 EEDAM EEEDAMDYVETTE\n",
      "THIERRY\n",
      "diags1 11 YRREIHT EYRREIHTAFUE-CLS\n",
      "JEANINE\n",
      "diags1 3 JEANINE SJEANINECB\n"
     ]
    }
   ],
   "source": [
    "for motCherche in oldFounds:\n",
    "    print (motCherche)\n",
    "    chercheMot(motCherche,lignesMelees,\"lignes\")\n",
    "    chercheMot(motCherche,colonnesMelees,\"colonnes\")\n",
    "    chercheMot(motCherche,diags1,\"diags1\")\n",
    "    chercheMot(motCherche,diags2,\"diags2\")"
   ]
  },
  {
   "cell_type": "code",
   "execution_count": null,
   "id": "4c46e7a9-783e-46d6-94d9-813e373efb32",
   "metadata": {},
   "outputs": [],
   "source": []
  }
 ],
 "metadata": {
  "kernelspec": {
   "display_name": "Python 3 (ipykernel)",
   "language": "python",
   "name": "python3"
  },
  "language_info": {
   "codemirror_mode": {
    "name": "ipython",
    "version": 3
   },
   "file_extension": ".py",
   "mimetype": "text/x-python",
   "name": "python",
   "nbconvert_exporter": "python",
   "pygments_lexer": "ipython3",
   "version": "3.9.18"
  }
 },
 "nbformat": 4,
 "nbformat_minor": 5
}
