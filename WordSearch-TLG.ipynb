{
 "cells": [
  {
   "cell_type": "code",
   "execution_count": 1,
   "id": "38ea7546-887f-4f8d-8691-7122dc699d4e",
   "metadata": {},
   "outputs": [],
   "source": [
    "from unidecode import unidecode"
   ]
  },
  {
   "cell_type": "raw",
   "id": "e9ebfb93-f86b-4501-b029-77b137ad5a63",
   "metadata": {},
   "source": [
    "words=\"sébastien thierry madee marguerite stéphane jeanine cédric marie caro mélanie\"\n",
    "words+=\" jean-pierre mickaël sohad thomas fath nicole nathalie cécile anissa sophie\"\n",
    "words+=\" kiky alain nanou lina geneviève renée jeannot fernand yannick yvette caroline roger\"\n",
    "words+=\" audrey christian franck georges andré marie-jo madeleine victor paul lucas\"\n",
    "words+=\" arlette jacques christelle franz pierre dominique patrick fredo denis\"\n",
    "words+=\" claudius florian jessi laurent jean-louis louis quentin carole bruno\"\n",
    "words+=\" léo gabriel daniel karim brigitte olivier arnaud françoise isabelle\"\n",
    "words+=\" pascal jean-victor mathilde christine\""
   ]
  },
  {
   "cell_type": "code",
   "execution_count": 2,
   "id": "85d26b83-afa1-46fc-8243-8428e2a5614c",
   "metadata": {},
   "outputs": [],
   "source": [
    "publications={}\n",
    "publications[301]=\"jessi\" \n",
    "publications[308]=\"sophie yvette\" \n",
    "publications[309]=\"claudius\" \n",
    "publications[310]=\"alain jeannot franck gabriel\" \n",
    "publications[313]=\"florian pierre lucas mélanie\"\n",
    "publications[314]=\"léo\" \n",
    "publications[315]=\"mickaël cédric caro thomas lina\" \n",
    "publications[316]=\"karim madeleine victor marguerite\" \n",
    "publications[317]=\"paul roger andré\" \n",
    "publications[318]=\"fredo caroline christelle\"\n",
    "publications[319]=\"anissa\" \n",
    "publications[321]=\"sohad jacques\" \n",
    "publications[322]=\"louis georges yannick renée geneviève nicole jean-pierre\" \n",
    "publications[324]=\"franz fernand nanou marie-jo christian\"\n",
    "publications[326]=\"daniel madee stéphane jeanine marie fath kiky patrick\" \n",
    "publications[328]=\"denis arlette cécile\"\n",
    "publications[331]=\"laurent\" \n",
    "publications[402]=\"olivier brigitte françoise\" \n",
    "publications[403]=\"carole bruno arnaud sébastien thierry\" \n",
    "publications[404]=\"pascal jean-victor isabelle nathalie\"\n",
    "publications[408]=\"quentin\" \n",
    "publications[411]=\"mathilde dominique\" \n",
    "publications[413]=\"jean-louis\" \n",
    "publications[424]=\"audrey\"\n",
    "publications[505]=\"christine\"\n",
    "publications[923]=\"patsy\"\n",
    "publications[240213]=\"nicolas\"\n",
    "publications[240316]=\"rachel\"\n",
    "publications[240317]=\"myriam sonia\"\n",
    "publications[240320]=\"sebti\"\n",
    "\n",
    "for k,v in publications.items():\n",
    "    publications[k]=unidecode(v).upper().split(\" \")\n",
    "\n",
    "TLG={}\n",
    "i=0\n",
    "for n in sorted(publications.keys()):\n",
    "    if i==0:\n",
    "        TLG[0]=(publications[n],n)\n",
    "    else:\n",
    "        TLG[i]=(TLG[i-1][0]+publications[n],n)\n",
    "    i+=1\n",
    "# print (TLG)"
   ]
  },
  {
   "cell_type": "code",
   "execution_count": 50,
   "id": "584952e2-44cf-4e81-b736-a0286049fbb7",
   "metadata": {},
   "outputs": [
    {
     "name": "stdout",
     "output_type": "stream",
     "text": [
      "923\n"
     ]
    }
   ],
   "source": [
    "n=25\n",
    "words=TLG[n][0]\n",
    "print (TLG[n][1])"
   ]
  },
  {
   "cell_type": "code",
   "execution_count": 51,
   "id": "0b385bec-d750-4b31-9088-ea84e166fbc8",
   "metadata": {},
   "outputs": [
    {
     "name": "stdout",
     "output_type": "stream",
     "text": [
      "ALAIN, ANDRE, ANISSA, ARLETTE, ARNAUD, AUDREY, BRIGITTE, BRUNO, CARO, CAROLE, CAROLINE, CECILE, CEDRIC, CHRISTELLE, CHRISTIAN, CHRISTINE, CLAUDIUS, DANIEL, DENIS, DOMINIQUE, FATH, FERNAND, FLORIAN, FRANCK, FRANCOISE, FRANZ, FREDO, GABRIEL, GENEVIEVE, GEORGES, ISABELLE, JACQUES, JEAN-LOUIS, JEAN-PIERRE, JEAN-VICTOR, JEANINE, JEANNOT, JESSI, KARIM, KIKY, LAURENT, LEO, LINA, LOUIS, LUCAS, MADEE, MADELEINE, MARGUERITE, MARIE, MARIE-JO, MATHILDE, MELANIE, MICKAEL, NANOU, NATHALIE, NICOLE, OLIVIER, PASCAL, PATRICK, PATSY, PAUL, PIERRE, QUENTIN, RENEE, ROGER, SEBASTIEN, SOHAD, SOPHIE, STEPHANE, THIERRY, THOMAS, VICTOR, YANNICK, YVETTE\n"
     ]
    }
   ],
   "source": [
    "print (\", \".join(sorted(words)))"
   ]
  },
  {
   "cell_type": "code",
   "execution_count": 58,
   "id": "6599d90f-966d-459f-ba23-f436b9d2608a",
   "metadata": {},
   "outputs": [],
   "source": [
    "trouvees={}\n",
    "trouvees[309]=\"sophie yvette jessi\"\n",
    "trouvees[313]=\"gabriel\"\n",
    "trouvees[316]=\"thomas alain mickaël mélanie cédric\"\n",
    "trouvees[325]=\"georges yannick renée geneviève fernand nanou marie-jo jacques franz lucas pierre karim\"\n",
    "trouvees[401]=\"laurent florian léo\"\n",
    "trouvees[403]=\"olivier brigitte\"\n",
    "trouvees[429]=\"jean-louis kiky fath marie caroline andré christelle claudius quentin\"\n",
    "trouvees[507]=\"sohad anissa jeannot roger audrey christian franck sébastien\"\n",
    "trouvees[625]=\"patrick paul victor madeleine denis\"\n",
    "trouvees[1022]=\"madee thierry jeanine\"\n",
    "trouvees[1029]=\"nathalie nicole jean-pierre cécile caro\"\n",
    "trouvees[1106]=\"pascal françoise louis\"\n",
    "trouvees[1107]=\"daniel\"\n",
    "trouvees[1207]=\"lina\"\n",
    "trouvees[1216]=\"jean-victor isabelle mathilde\"\n",
    "trouvees[240213]=\"nicolas\"\n",
    "trouvees[240215]=\"fredo\"\n",
    "trouvees[240316]=\"rachel\"\n",
    "\n",
    "for k,v in trouvees.items():\n",
    "    trouvees[k]=unidecode(v).upper().split(\" \")\n",
    "\n",
    "GAMBOY={}\n",
    "i=0\n",
    "for n in sorted(trouvees.keys()):\n",
    "    if i==0:\n",
    "        GAMBOY[0]=([],trouvees[n],n)\n",
    "    else:\n",
    "        GAMBOY[i]=(GAMBOY[i-1][0]+GAMBOY[i-1][1],trouvees[n],n)\n",
    "    i+=1\n",
    "# print (GAMBOY)"
   ]
  },
  {
   "cell_type": "code",
   "execution_count": 61,
   "id": "5152934c-4a70-4d43-9d7d-a7ba212cb306",
   "metadata": {},
   "outputs": [],
   "source": [
    "g=13\n",
    "oldFounds=GAMBOY[g][0]\n",
    "newFinds=GAMBOY[g][1]\n",
    "reste=list(set(words)-set(oldFounds+newFinds))\n",
    "# print (GAMBOY[g][2])"
   ]
  },
  {
   "cell_type": "code",
   "execution_count": 62,
   "id": "6f33de22-866a-4ffa-825f-fcc06bb38796",
   "metadata": {},
   "outputs": [
    {
     "name": "stdout",
     "output_type": "stream",
     "text": [
      "1207\n",
      "Found\n",
      "ALAIN, ANDRE, ANISSA, AUDREY, BRIGITTE, CARO, CAROLINE, CECILE, CEDRIC, CHRISTELLE, CHRISTIAN, CLAUDIUS, DANIEL, DENIS, FATH, FERNAND, FLORIAN, FRANCK, FRANCOISE, FRANZ, GABRIEL, GENEVIEVE, GEORGES, JACQUES, JEAN-LOUIS, JEAN-PIERRE, JEANINE, JEANNOT, JESSI, KARIM, KIKY, LAURENT, LEO, LOUIS, LUCAS, MADEE, MADELEINE, MARIE, MARIE-JO, MELANIE, MICKAEL, NANOU, NATHALIE, NICOLE, OLIVIER, PASCAL, PATRICK, PAUL, PIERRE, QUENTIN, RENEE, ROGER, SEBASTIEN, SOHAD, SOPHIE, THIERRY, THOMAS, VICTOR, YANNICK, YVETTE\n",
      "\n",
      "New Finds\n",
      "LINA\n",
      "\n",
      "Reste\n",
      "ARLETTE, ARNAUD, BRUNO, CAROLE, CHRISTINE, DOMINIQUE, FREDO, ISABELLE, JEAN-VICTOR, MARGUERITE, MATHILDE, PATSY, STEPHANE\n"
     ]
    }
   ],
   "source": [
    "print (GAMBOY[g][2])\n",
    "print (\"Found\")\n",
    "print (\", \".join(sorted(oldFounds)))\n",
    "print ()\n",
    "print (\"New Finds\")\n",
    "print (\", \".join(sorted(newFinds)))\n",
    "print ()\n",
    "print (\"Reste\")\n",
    "print (\", \".join(sorted(reste)))"
   ]
  },
  {
   "cell_type": "code",
   "execution_count": 37,
   "id": "3892ec19-f1c1-460d-b670-c014f4cd4836",
   "metadata": {},
   "outputs": [],
   "source": [
    "size=27"
   ]
  },
  {
   "cell_type": "code",
   "execution_count": 38,
   "id": "a969d678-756b-4567-909f-9d03eb63e55a",
   "metadata": {},
   "outputs": [
    {
     "data": {
      "text/plain": [
       "(True, 'Fitted the words in 1 attempt(s)')"
      ]
     },
     "execution_count": 38,
     "metadata": {},
     "output_type": "execute_result"
    }
   ],
   "source": [
    "from wordsearch import WordSearch\n",
    "wordsearch = WordSearch(\n",
    "                size,size,words,mask=\"circle\",\n",
    "                output_filestem=\"TintinLaGazelle-Circle{}\".format(size),\n",
    "                allow_backwards_words=True,\n",
    "                )\n",
    "wordsearch.make(nattempts=2000)"
   ]
  },
  {
   "cell_type": "code",
   "execution_count": 39,
   "id": "8b657851-afee-4478-9420-6fd12270c67e",
   "metadata": {},
   "outputs": [
    {
     "name": "stdout",
     "output_type": "stream",
     "text": [
      "                    W Q E E N E R                    \n",
      "              T X L Y E N I L O R A C S              \n",
      "            K I H P T H O M A S C G C S I            \n",
      "        N X B J E A N - P I E R R E E H A U G        \n",
      "      H E R R E I P G Q U E N T I N Z N E L O N      \n",
      "      P N I C O L E M N A I T S I R H C E L O L      \n",
      "    H T A F M A T H I L D E T N E R U A L V C C K    \n",
      "  Y B R U N O P F E J A C Q U E S I N E D L I A I F  \n",
      "  S E J E A N I N E G E I R A M Q W S M A T I E R N  \n",
      "  I M T N L N A N O U P A T S Y D T I U C E S A V O  \n",
      "L U O A T I I C H R I S T E L L E R D Y T T N S G E K\n",
      "E O E R R I A C L E I N A D Y P A I E I K C C E E E C\n",
      "I L L E L I G L E P A U L K H K U R R C O J H B O T N\n",
      "R - K G I N E I A C D V I A D S D E I I M I R A R T A\n",
      "B N C O N A C - R E E K N O Y U U N S F S E I S G E R\n",
      "A A I R A I E R J B N E M Z A G N E R A S T S T E L F\n",
      "G E R M T R D T O O Q I D L R A Z E B A A T T I S R N\n",
      "  J T E H O R E O T N A E A Y D D E C R N E I E D A  \n",
      "  B A L I L I A L I C S M L M O L U N A D V N N T L  \n",
      "  Z P A E F C T Q O O I Y T E L L A S F R Y E H E A  \n",
      "    S N R R R U M P R I V P E D U K E Z E T A A S    \n",
      "      I R A E E H Y O A S - A D A R D C O L K S      \n",
      "      E Y N D I I J T B C S N S N M E N I C I H      \n",
      "        Y Z E A S V C L Y B E A C R N E I N A        \n",
      "            H W H B I I B D N J E A R M A            \n",
      "              F N O V L S D Y U E J L W              \n",
      "                    S O O Z N J F                    \n",
      "JEAN-PIERRE\n",
      "JEAN-VICTOR\n",
      "MARGUERITE\n",
      "CHRISTELLE\n",
      "JEAN-LOUIS\n",
      "MADELEINE\n",
      "GENEVIEVE\n",
      "CHRISTIAN\n",
      "FRANCOISE\n",
      "SEBASTIEN\n",
      "DOMINIQUE\n",
      "CHRISTINE\n",
      "CLAUDIUS\n",
      "CAROLINE\n",
      "MARIE-JO\n",
      "STEPHANE\n",
      "BRIGITTE\n",
      "ISABELLE\n",
      "NATHALIE\n",
      "MATHILDE\n",
      "JEANNOT\n",
      "GABRIEL\n",
      "FLORIAN\n",
      "MELANIE\n",
      "MICKAEL\n",
      "JACQUES\n",
      "GEORGES\n",
      "YANNICK\n",
      "FERNAND\n",
      "JEANINE\n",
      "PATRICK\n",
      "ARLETTE\n",
      "LAURENT\n",
      "OLIVIER\n",
      "THIERRY\n",
      "QUENTIN\n",
      "NICOLAS\n",
      "SOPHIE\n",
      "YVETTE\n",
      "FRANCK\n",
      "PIERRE\n",
      "CEDRIC\n",
      "THOMAS\n",
      "VICTOR\n",
      "ANISSA\n",
      "NICOLE\n",
      "DANIEL\n",
      "CECILE\n",
      "CAROLE\n",
      "ARNAUD\n",
      "PASCAL\n",
      "AUDREY\n",
      "RACHEL\n",
      "JESSI\n",
      "ALAIN\n",
      "LUCAS\n",
      "KARIM\n",
      "ROGER\n",
      "ANDRE\n",
      "FREDO\n",
      "SOHAD\n",
      "LOUIS\n",
      "RENEE\n",
      "FRANZ\n",
      "NANOU\n",
      "MADEE\n",
      "MARIE\n",
      "DENIS\n",
      "BRUNO\n",
      "PATSY\n",
      "CARO\n",
      "LINA\n",
      "PAUL\n",
      "FATH\n",
      "KIKY\n",
      "LEO\n"
     ]
    }
   ],
   "source": [
    "print(wordsearch.wordsearch_text)"
   ]
  },
  {
   "cell_type": "code",
   "execution_count": 40,
   "id": "56fe94f7-c0f3-4261-9cd2-ad2644da2c66",
   "metadata": {},
   "outputs": [],
   "source": [
    "motsMeles=\"\"\"                    W Q E E N E R                    \n",
    "              T X L Y E N I L O R A C S              \n",
    "            K I H P T H O M A S C G C S I            \n",
    "        N X B J E A N - P I E R R E E H A U G        \n",
    "      H E R R E I P G Q U E N T I N Z N E L O N      \n",
    "      P N I C O L E M N A I T S I R H C E L O L      \n",
    "    H T A F M A T H I L D E T N E R U A L V C C K    \n",
    "  Y B R U N O P F E J A C Q U E S I N E D L I A I F  \n",
    "  S E J E A N I N E G E I R A M Q W S M A T I E R N  \n",
    "  I M T N L N A N O U P A T S Y D T I U C E S A V O  \n",
    "L U O A T I I C H R I S T E L L E R D Y T T N S G E K\n",
    "E O E R R I A C L E I N A D Y P A I E I K C C E E E C\n",
    "I L L E L I G L E P A U L K H K U R R C O J H B O T N\n",
    "R - K G I N E I A C D V I A D S D E I I M I R A R T A\n",
    "B N C O N A C - R E E K N O Y U U N S F S E I S G E R\n",
    "A A I R A I E R J B N E M Z A G N E R A S T S T E L F\n",
    "G E R M T R D T O O Q I D L R A Z E B A A T T I S R N\n",
    "  J T E H O R E O T N A E A Y D D E C R N E I E D A  \n",
    "  B A L I L I A L I C S M L M O L U N A D V N N T L  \n",
    "  Z P A E F C T Q O O I Y T E L L A S F R Y E H E A  \n",
    "    S N R R R U M P R I V P E D U K E Z E T A A S    \n",
    "      I R A E E H Y O A S - A D A R D C O L K S      \n",
    "      E Y N D I I J T B C S N S N M E N I C I H      \n",
    "        Y Z E A S V C L Y B E A C R N E I N A        \n",
    "            H W H B I I B D N J E A R M A            \n",
    "              F N O V L S D Y U E J L W              \n",
    "                    S O O Z N J F                    \"\"\""
   ]
  },
  {
   "cell_type": "code",
   "execution_count": 41,
   "id": "b83f1a38-d949-4355-a1ce-c9ba37f4c268",
   "metadata": {},
   "outputs": [],
   "source": [
    "lignesBrutes=motsMeles.split(\"\\n\")\n",
    "lignesMelees=[]\n",
    "for l in lignesBrutes:\n",
    "    ligne=\"\"\n",
    "    for i,c in enumerate(l):\n",
    "        if i%2==0:\n",
    "            ligne+=c\n",
    "    lignesMelees.append(ligne)\n",
    "# lignesMelees"
   ]
  },
  {
   "cell_type": "code",
   "execution_count": 42,
   "id": "74b4d656-14bc-4772-8caf-8b018486bea1",
   "metadata": {},
   "outputs": [],
   "source": [
    "colonnesMelees=[\"\"]*len(lignesMelees)\n",
    "for l in lignesMelees:\n",
    "    for i,c in enumerate(l):\n",
    "        colonnesMelees[i]+=c\n",
    "# colonnesMelees"
   ]
  },
  {
   "cell_type": "code",
   "execution_count": 43,
   "id": "5653f554-786c-4b63-91bb-a2c7bf2231d2",
   "metadata": {},
   "outputs": [],
   "source": [
    "diags1=[\"\"]*size*2\n",
    "for l in range(size):\n",
    "    for c in range(size):\n",
    "        diags1[l+c]+=lignesMelees[l][c]\n",
    "diags1=[s.strip() for s in diags1 if s.strip()!=\"\"]\n",
    "# diags1"
   ]
  },
  {
   "cell_type": "code",
   "execution_count": 44,
   "id": "0a600aec-016d-4ae3-b318-72d0b43d4367",
   "metadata": {},
   "outputs": [],
   "source": [
    "diags2=[\"\"]*size*2\n",
    "for l in range(size):\n",
    "    for c in range(size):\n",
    "        diags2[l-c]+=lignesMelees[l][c]\n",
    "diags2=[s.strip() for s in diags2 if s.strip()!=\"\"]\n",
    "# diags2"
   ]
  },
  {
   "cell_type": "code",
   "execution_count": 45,
   "id": "5329c0d4-f9e4-4f6c-83fd-cef83147c3cb",
   "metadata": {},
   "outputs": [],
   "source": [
    "def chercheMot(mot,lignes,element):\n",
    "    motCherche=mot.upper()\n",
    "    motInverse=motCherche[::-1]\n",
    "    for nL,ligne in enumerate(lignes):\n",
    "        if motCherche in ligne:\n",
    "            print (element,nL+1,motCherche,ligne)\n",
    "        elif motInverse in ligne:\n",
    "            print (element,nL+1,motInverse,ligne)\n",
    "    return"
   ]
  },
  {
   "cell_type": "code",
   "execution_count": 46,
   "id": "a38817ac-7c26-4198-ad18-cca5414d66ae",
   "metadata": {},
   "outputs": [
    {
     "name": "stdout",
     "output_type": "stream",
     "text": [
      "SOPHIE\n",
      "diags1 23 SOPHIE CITCYERDUALESOPHIE\n",
      "YVETTE\n",
      "colonnes 22 ETTEVY    ULLVLTETCJIETTEVYTLCN   \n",
      "JESSI\n",
      "diags2 10 ISSEJ UEEIAETOIOISSEJE\n",
      "GABRIEL\n",
      "colonnes 1 LEIRBAG           LEIRBAG          \n",
      "THOMAS\n",
      "lignes 3 THOMAS       KIHPTHOMASCGCSI      \n",
      "ALAIN\n",
      "diags2 6 NIALA BJNIALAENIELEDAMNM\n",
      "MICKAEL\n",
      "diags1 37 LEAKCIM LEAKCIML\n",
      "MELANIE\n",
      "colonnes 4 MELANIE     HPTRJTAREGORMELANIE    \n",
      "CEDRIC\n",
      "colonnes 7 CEDRIC   KBRCMONNIAGECEDRICREDEH  \n",
      "GEORGES\n",
      "colonnes 25 GEORGES       KIRVGEORGESDTES      \n",
      "YANNICK\n",
      "diags1 25 KCINNAY IESTKCINNAYLYIOJSW\n",
      "RENEE\n",
      "lignes 1 EENER           WQEENER          \n",
      "colonnes 18 RENEE  AGENRRIWTRIRENEEEUAKRMRAJ \n",
      "GENEVIEVE\n",
      "diags2 25 GENEVIEVE ERGENEVIEVEC\n",
      "FERNAND\n",
      "diags1 32 FERNAND NTGTTEDFERNANDO\n",
      "NANOU\n",
      "lignes 10 NANOU  IMTNLNANOUPATSYDTIUCESAVO \n",
      "MARIE-JO\n",
      "diags2 8 MARIE-JO SMARIE-JONSYPASCAL\n",
      "JACQUES\n",
      "lignes 8 JACQUES  YBRUNOPFEJACQUESINEDLIAIF \n",
      "FRANZ\n",
      "colonnes 6 FRANZ    XRIFNALIIINAIROLFRANZ   \n",
      "LUCAS\n",
      "diags1 29 SACUL EEBRESACULDASYIV\n",
      "PIERRE\n",
      "lignes 4 PIERRE     NXBJEAN-PIERREEHAUG    \n",
      "lignes 5 ERREIP    HERREIPGQUENTINZNELON   \n",
      "KARIM\n",
      "diags1 21 MIRAK NOVDMIRAKDOMINIQUENY\n",
      "LAURENT\n",
      "lignes 7 TNERUAL   HTAFMATHILDETNERUALVCCK  \n",
      "FLORIAN\n",
      "colonnes 6 NAIROLF    XRIFNALIIINAIROLFRANZ   \n",
      "LEO\n",
      "colonnes 3 OEL       HBEMOELKCIRTAPS      \n",
      "OLIVIER\n",
      "diags2 15 REIVILO BAREIFREIVILO\n",
      "BRIGITTE\n",
      "diags2 7 ETTIGIRB YETTIGIRBQAMTEDNRRW\n",
      "JEAN-LOUIS\n",
      "colonnes 2 SIUOL-NAEJ        YSIUOL-NAEJBZ       \n",
      "KIKY\n",
      "diags1 19 YKIK GLEANWDLYKIKNOOACRRE\n",
      "FATH\n",
      "lignes 7 HTAF   HTAFMATHILDETNERUALVCCK  \n",
      "MARIE\n",
      "lignes 9 EIRAM  SEJEANINEGEIRAMQWSMATIERN \n",
      "diags2 8 MARIE SMARIE-JONSYPASCAL\n",
      "CAROLINE\n",
      "lignes 2 ENILORAC        TXLYENILORACS       \n",
      "ANDRE\n",
      "colonnes 21 ANDRE   IAEELDACTKOMSSANDREOIIA  \n",
      "CHRISTELLE\n",
      "lignes 11 CHRISTELLE LUOATIICHRISTELLERDYTTNSGEK\n",
      "CLAUDIUS\n",
      "diags1 22 CLAUDIUS LCLAUDIUSYZDACOMEDZ\n",
      "QUENTIN\n",
      "lignes 5 QUENTIN    HERREIPGQUENTINZNELON   \n",
      "SOHAD\n",
      "diags2 17 DAHOS GJAARADAHOS\n",
      "ANISSA\n",
      "diags1 38 ASSINA ASSINAW\n",
      "JEANNOT\n",
      "diags1 35 TONNAEJ FRDNETONNAEJ\n",
      "ROGER\n",
      "colonnes 4 REGOR     HPTRJTAREGORMELANIE    \n",
      "AUDREY\n",
      "diags1 23 YERDUA CITCYERDUALESOPHIE\n",
      "CHRISTIAN\n",
      "lignes 6 NAITSIRHC    PNICOLEMNAITSIRHCELOL   \n",
      "FRANCK\n",
      "colonnes 27 KCNARF           KCNARFN          \n",
      "SEBASTIEN\n",
      "colonnes 24 SEBASTIEN     NLCAEASEBASTIENHASH    \n",
      "PATRICK\n",
      "colonnes 3 KCIRTAP       HBEMOELKCIRTAPS      \n",
      "PAUL\n",
      "lignes 13 PAUL ILLELIGLEPAULKHKURRCOJHBOTN\n",
      "VICTOR\n",
      "colonnes 11 ROTCIV WYTNGMIJGUIIADENQNCOROTCIVS\n",
      "diags2 9 ROTCIV IORLNCROTCIV-NAEJ\n",
      "MADELEINE\n",
      "diags2 6 ENIELEDAM BJNIALAENIELEDAMNM\n",
      "DENIS\n",
      "lignes 8 SINED  YBRUNOPFEJACQUESINEDLIAIF \n",
      "MADEE\n",
      "diags2 5 EEDAM HRELICECEEDAMLUREEA\n",
      "THIERRY\n",
      "colonnes 5 THIERRY    NENAUENTRLINATHIERRYY   \n",
      "JEANINE\n",
      "lignes 9 JEANINE  SEJEANINEGEIRAMQWSMATIERN \n",
      "NATHALIE\n",
      "diags1 36 NATHALIE NATHALIERJF\n",
      "NICOLE\n",
      "lignes 6 NICOLE    PNICOLEMNAITSIRHCELOL   \n",
      "JEAN-PIERRE\n",
      "lignes 4 JEAN-PIERRE     NXBJEAN-PIERREEHAUG    \n",
      "CECILE\n",
      "diags2 5 ELICEC HRELICECEEDAMLUREEA\n",
      "CARO\n",
      "lignes 2 ORAC        TXLYENILORACS       \n",
      "diags2 11 ORAC LOLGNIDELORACBNUF\n",
      "diags2 24 CARO RACHELCAROK\n",
      "PASCAL\n",
      "diags2 8 PASCAL SMARIE-JONSYPASCAL\n",
      "FRANCOISE\n",
      "diags1 26 FRANCOISE FRANCOISEZDMTVATVHF\n",
      "LOUIS\n",
      "colonnes 2 SIUOL        YSIUOL-NAEJBZ       \n",
      "diags2 22 SIUOL SIUOLKF\n",
      "DANIEL\n",
      "lignes 12 LEINAD EOERRIACLEINADYPAIEIKCCEEEC\n",
      "JEAN-VICTOR\n",
      "diags2 9 ROTCIV-NAEJ IORLNCROTCIV-NAEJ\n",
      "ISABELLE\n",
      "diags1 28 ISABELLE OGEHISABELLE-CLIO\n",
      "MATHILDE\n",
      "lignes 7 MATHILDE   HTAFMATHILDETNERUALVCCK  \n",
      "NICOLAS\n",
      "diags2 23 SALOCIN CSALOCIN\n",
      "FREDO\n",
      "diags1 27 FREDO NVSCJMFREDOEPSBCBN\n"
     ]
    }
   ],
   "source": [
    "for motCherche in oldFounds:\n",
    "    print (motCherche)\n",
    "    chercheMot(motCherche,lignesMelees,\"lignes\")\n",
    "    chercheMot(motCherche,colonnesMelees,\"colonnes\")\n",
    "    chercheMot(motCherche,diags1,\"diags1\")\n",
    "    chercheMot(motCherche,diags2,\"diags2\")"
   ]
  },
  {
   "cell_type": "code",
   "execution_count": 47,
   "id": "4c46e7a9-783e-46d6-94d9-813e373efb32",
   "metadata": {},
   "outputs": [
    {
     "name": "stdout",
     "output_type": "stream",
     "text": [
      "RACHEL\n",
      "diags2 24 RACHEL RACHELCAROK\n"
     ]
    }
   ],
   "source": [
    "for motCherche in newFinds:\n",
    "    print (motCherche)\n",
    "    chercheMot(motCherche,lignesMelees,\"lignes\")\n",
    "    chercheMot(motCherche,colonnesMelees,\"colonnes\")\n",
    "    chercheMot(motCherche,diags1,\"diags1\")\n",
    "    chercheMot(motCherche,diags2,\"diags2\")"
   ]
  },
  {
   "cell_type": "code",
   "execution_count": 48,
   "id": "3fe4b367-e152-42c7-b839-669e8a65f5c6",
   "metadata": {},
   "outputs": [
    {
     "name": "stdout",
     "output_type": "stream",
     "text": [
      "STEPHANE\n",
      "diags1 20 STEPHANE OLLESTEPHANEQTLTRAY\n",
      "BRUNO\n",
      "lignes 8 BRUNO  YBRUNOPFEJACQUESINEDLIAIF \n",
      "CHRISTINE\n",
      "colonnes 23 CHRISTINE    GOOCIISNCHRISTINEAKIA   \n",
      "LINA\n",
      "colonnes 5 LINA    NENAUENTRLINATHIERRYY   \n",
      "ARNAUD\n",
      "diags1 30 ARNAUD KEOAITARNAUDNBBLS\n",
      "CAROLE\n",
      "diags2 11 ELORAC LOLGNIDELORACBNUF\n",
      "PATSY\n",
      "lignes 10 PATSY  IMTNLNANOUPATSYDTIUCESAVO \n",
      "MARGUERITE\n",
      "diags1 24 ETIREUGRAM KAIETIREUGRAMIRYIAH\n",
      "DOMINIQUE\n",
      "diags1 21 DOMINIQUE NOVDMIRAKDOMINIQUENY\n",
      "ARLETTE\n",
      "colonnes 26 ETTELRA        FNOEETTELRALA       \n"
     ]
    }
   ],
   "source": [
    "for motCherche in reste:\n",
    "    print (motCherche)\n",
    "    chercheMot(motCherche,lignesMelees,\"lignes\")\n",
    "    chercheMot(motCherche,colonnesMelees,\"colonnes\")\n",
    "    chercheMot(motCherche,diags1,\"diags1\")\n",
    "    chercheMot(motCherche,diags2,\"diags2\")"
   ]
  },
  {
   "cell_type": "code",
   "execution_count": null,
   "id": "427867e4-1b7c-443a-b46e-95976f642f89",
   "metadata": {},
   "outputs": [],
   "source": [
    "     "
   ]
  }
 ],
 "metadata": {
  "kernelspec": {
   "display_name": "Python 3 (ipykernel)",
   "language": "python",
   "name": "python3"
  },
  "language_info": {
   "codemirror_mode": {
    "name": "ipython",
    "version": 3
   },
   "file_extension": ".py",
   "mimetype": "text/x-python",
   "name": "python",
   "nbconvert_exporter": "python",
   "pygments_lexer": "ipython3",
   "version": "3.11.8"
  }
 },
 "nbformat": 4,
 "nbformat_minor": 5
}
