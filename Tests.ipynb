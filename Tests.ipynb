{
 "cells": [
  {
   "cell_type": "code",
   "execution_count": 30,
   "metadata": {
    "collapsed": false
   },
   "outputs": [
    {
     "data": {
      "text/plain": [
       "119"
      ]
     },
     "execution_count": 30,
     "metadata": {},
     "output_type": "execute_result"
    }
   ],
   "source": [
    "import os,glob,fnmatch\n",
    "dossier=\"/Users/gilles/Copy/Corpus 2015-2016/\"\n",
    "dossiersTRS={}\n",
    "inconnusDossier={}\n",
    "nombreBDL=0\n",
    "for root, dirs, files in os.walk(dossier):\n",
    "    dossierGroupe=root.split(\"Corpus 2015-2016/\")[1].split(\"/\")[0]\n",
    "    trs=fnmatch.filter(files, \"*-BDL.xml\")\n",
    "    if trs:\n",
    "        nombreBDL+=1\n",
    "        \n",
    "nombreBDL"
   ]
  },
  {
   "cell_type": "code",
   "execution_count": null,
   "metadata": {
    "collapsed": false
   },
   "outputs": [],
   "source": [
    "import random\n",
    "consonnes=list(u\"ptbldgmnNfsçvzzrc\")\n",
    "for i in range(4):\n",
    "    random.shuffle(consonnes)\n",
    "    print u\"\".join(consonnes)"
   ]
  },
  {
   "cell_type": "code",
   "execution_count": null,
   "metadata": {
    "collapsed": false
   },
   "outputs": [],
   "source": [
    "import random as rd\n",
    "examples=rd.sample(range(32),8)\n",
    "for n,i in enumerate(examples):\n",
    "    print i+1\n",
    "    if (n+1)%2==0: print\n",
    "#for n in range(4):\n",
    "#    for i in range(2): \n",
    "#        print rd.randint(1,32)\n",
    "#    print\n"
   ]
  },
  {
   "cell_type": "code",
   "execution_count": null,
   "metadata": {
    "collapsed": false
   },
   "outputs": [],
   "source": [
    "import pandas as pd\n",
    "#source={\"manger\":{\"prs3\":[\"mange\"],\"inf\":[\"manger\"]},\"asseoir\":{\"prs3\":[\"assoit\",\"assied\"],\"inf\":[\"asseoir\"]}}\n",
    "source=[[\"mange\",\"prs3\",\"manger\",12000],\n",
    "        [\"asseoir\",\"inf\",\"asseoir\",20000],\n",
    "        [\"manger\",\"inf\",\"manger\",50000],\n",
    "        [\"asseoit\",\"prs3\",\"asseoir\",5000],\n",
    "        [\"assied\",\"prs3\",\"asseoir\",7500]\n",
    "        ]\n",
    "table=pd.DataFrame(source,columns=[\"ortho\",\"case\",\"lexeme\",\"fréquence\"])\n",
    "pd.pivot_table(table,index=[\"lexeme\"],columns=[\"case\"],values=[\"ortho\",\"fréquence\"],aggfunc=lambda x: set(x))"
   ]
  },
  {
   "cell_type": "code",
   "execution_count": null,
   "metadata": {
    "collapsed": false
   },
   "outputs": [],
   "source": [
    "import re,codecs,math\n",
    "textFile=\"./test.txt\"\n",
    "with codecs.open(textFile,\"r\",encoding=\"utf8\") as input:\n",
    "    text=input.readlines()\n",
    "    \n",
    "\n",
    "def countWords(text):\n",
    "    wordFreq={}\n",
    "    nbWords=0\n",
    "    for line in text:\n",
    "        chunks=line.split(\" \")\n",
    "        for chunk in chunks:\n",
    "            m=re.findall(u\"\\w+\",chunk,re.UNICODE)\n",
    "            if m:\n",
    "                for element in m:\n",
    "                    word=element.lower()\n",
    "                    if not word in wordFreq:\n",
    "                        wordFreq[word]=0\n",
    "                    wordFreq[word]+=1\n",
    "                    nbWords+=1\n",
    "    return (wordFreq,nbWords)\n",
    "\n",
    "def calculateEntropy(freqDict,total):\n",
    "    entropy=0\n",
    "    nbElements=0\n",
    "    for element in freqDict:\n",
    "        p=float(freqDict[element])/total\n",
    "        entropy-=p*math.log(p,2)\n",
    "        nbElements+=1\n",
    "    if nbElements==total:\n",
    "        return entropy\n",
    "    else:\n",
    "        return calculateEntropy(freqDict,nbElements)\n",
    "(wordFreq,nbWords)=countWords(text)\n",
    "entropy=calculateEntropy(wordFreq,nbWords)\n",
    "print entropy, entropy/math.log(nbWords,2)\n",
    "\n",
    "wordList = ['the', 'the', 'the', 'a', 'a', 'over', 'love', 'one', 'tree']    \n",
    "(wordFreq,nbWords)=countWords(wordList)\n",
    "entropy=calculateEntropy(wordFreq,nbWords)\n",
    "print entropy, entropy/math.log(nbWords,2)\n"
   ]
  },
  {
   "cell_type": "code",
   "execution_count": null,
   "metadata": {
    "collapsed": false
   },
   "outputs": [],
   "source": [
    "#i=0;exec\"print i%3/2*'Fizz'+i%5/4*'Buzz'or-~i;i+=1;\"*100"
   ]
  },
  {
   "cell_type": "code",
   "execution_count": null,
   "metadata": {
    "collapsed": true
   },
   "outputs": [],
   "source": []
  },
  {
   "cell_type": "code",
   "execution_count": null,
   "metadata": {
    "collapsed": true
   },
   "outputs": [],
   "source": []
  },
  {
   "cell_type": "code",
   "execution_count": null,
   "metadata": {
    "collapsed": true
   },
   "outputs": [],
   "source": []
  },
  {
   "cell_type": "code",
   "execution_count": null,
   "metadata": {
    "collapsed": false
   },
   "outputs": [],
   "source": [
    "set([(1,2,3,4),(1,2,3,4),(1,2,3,4),(1,2,3,4),(1,2,3,4)])"
   ]
  },
  {
   "cell_type": "code",
   "execution_count": null,
   "metadata": {
    "collapsed": false
   },
   "outputs": [],
   "source": [
    "quad=[1,2,3,4]\n",
    "tuple(quad)\n"
   ]
  },
  {
   "cell_type": "code",
   "execution_count": null,
   "metadata": {
    "collapsed": false
   },
   "outputs": [],
   "source": [
    "import unicodedata\n",
    "liste=[]\n",
    "s = u\"ɔ̃w̃ɔtɨ\"\n",
    "comb=False\n",
    "prec=u\"\"\n",
    "for char in s:\n",
    "    if unicodedata.combining(char):\n",
    "        liste.append(prec+char)\n",
    "        prec=\"\"\n",
    "    else:\n",
    "        liste.append(prec)\n",
    "        prec=char\n",
    "liste.append(prec)\n",
    "print \" \".join(liste)"
   ]
  },
  {
   "cell_type": "code",
   "execution_count": null,
   "metadata": {
    "collapsed": false,
    "scrolled": true
   },
   "outputs": [],
   "source": [
    "import itertools as it\n",
    "liste=[1,2,3,4,5]\n",
    "list(it.product(liste,liste))"
   ]
  },
  {
   "cell_type": "code",
   "execution_count": null,
   "metadata": {
    "collapsed": false
   },
   "outputs": [],
   "source": [
    "import igraph\n",
    "igraph.draw([(1, 2), (2, 3), (3, 4), (4, 1), (4, 5), (5, 2)])\n"
   ]
  },
  {
   "cell_type": "code",
   "execution_count": null,
   "metadata": {
    "collapsed": false
   },
   "outputs": [],
   "source": [
    "import matplotlib.pyplot as plt"
   ]
  },
  {
   "cell_type": "code",
   "execution_count": null,
   "metadata": {
    "collapsed": false
   },
   "outputs": [],
   "source": [
    "%matplotlib inline"
   ]
  },
  {
   "cell_type": "code",
   "execution_count": null,
   "metadata": {
    "collapsed": false
   },
   "outputs": [],
   "source": [
    "plt.plot(liste)"
   ]
  },
  {
   "cell_type": "code",
   "execution_count": null,
   "metadata": {
    "collapsed": false
   },
   "outputs": [],
   "source": [
    "liste=[u\"_ _ _ α _ _ _ _ _\",\n",
    "       u\"_ _ _ _ _ _ _ β _ _ _ _ _ _ _ _ _ _ _ _\",\n",
    "       u\"_ γ _ _ _ _ _ _ _ _ _\",\n",
    "       u\"_ _ _ _ _ _ _ _ _ _ _ _ _ δ _ _ _\",\n",
    "       u\"_ _ _ _ _ _ _ _ _ _ _ _ _ _ ε _ _ _ _\",\n",
    "       u\"ζ _ _ _ _ _ _ _ _ _ _ _ _\"]\n",
    "\n",
    "for element in liste:\n",
    "    mot=element.replace(\" \",\"\")\n",
    "    print len(mot)\n"
   ]
  },
  {
   "cell_type": "code",
   "execution_count": null,
   "metadata": {
    "collapsed": false
   },
   "outputs": [],
   "source": [
    "liste=[u\"être au creux de la vague\",\n",
    "       u\"extravagant\",\n",
    "       u\"_ γ _ _ _ _ _ _ _ _ _\",\n",
    "       u\"_ _ _ _ _ _ _ _ _ _ _ _ _ δ _ _ _\",\n",
    "       u\"_ _ _ _ _ _ _ _ _ _ _ _ _ _ ε _ _ _ _\",\n",
    "       u\"ζ _ _ _ _ _ _ _ _ _ _ _ _\"]\n",
    "\n",
    "for element in liste:\n",
    "    mot=element.replace(\" \",\"\")\n",
    "    print len(mot)\n"
   ]
  },
  {
   "cell_type": "code",
   "execution_count": null,
   "metadata": {
    "collapsed": false
   },
   "outputs": [],
   "source": [
    "from lxml import etree\n",
    "xmlData=\"\"\"\n",
    "            <Turn>\n",
    "            <Sync />\n",
    "            texte1\n",
    "            <Event />\n",
    "            <disfluence>\n",
    "            blabla1\n",
    "            </disfluence>\n",
    "            <Event />\n",
    "            texte2\n",
    "            </Turn>\n",
    "        \"\"\"\n",
    "root=etree.fromstring(xmlData.replace(\"\\n\",\"\"))"
   ]
  },
  {
   "cell_type": "code",
   "execution_count": null,
   "metadata": {
    "collapsed": false
   },
   "outputs": [],
   "source": [
    "for element in root.xpath(\"//Turn/text()\"):\n",
    "    print element"
   ]
  },
  {
   "cell_type": "code",
   "execution_count": null,
   "metadata": {
    "collapsed": false
   },
   "outputs": [],
   "source": [
    "xmlTest='''\n",
    "<Turn speaker=\"spk1 spk5\" startTime=\"97.746\" endTime=\"99.988\">\n",
    "<Sync time=\"97.746\">\n",
    "<Who nb=\"1\"/>\n",
    "deux trois ou quatre\n",
    "<Who nb=\"2\"/>\n",
    "\n",
    "<Event desc=\"conv\" type=\"noise\" extent=\"instantaneous\"/>\n",
    "\n",
    "</Sync>\n",
    "</Turn>\n",
    "<Turn speaker=\"spk6\" startTime=\"99.988\" endTime=\"102.521\">\n",
    "<Sync time=\"99.988\">\n",
    "\n",
    "<Event desc=\"rire en fond\" type=\"noise\" extent=\"instantaneous\"/>\n",
    "\n",
    "</Sync>\n",
    "</Turn>\n",
    "'''"
   ]
  },
  {
   "cell_type": "code",
   "execution_count": null,
   "metadata": {
    "collapsed": false
   },
   "outputs": [],
   "source": [
    "import re\n",
    "essai = re.sub(r'<Who nb=\"2\"/>(.*?)(</Sync>)',r'<Who nb=\"2\">\\1</Who>\\2',xmlTest,flags=re.DOTALL)\n",
    "#essai = re.search(re.escape('^(<Who nb=\"2\"/>)'),xmlTest,flags=re.MULTILINE)\n",
    "print essai"
   ]
  },
  {
   "cell_type": "code",
   "execution_count": null,
   "metadata": {
    "collapsed": false
   },
   "outputs": [],
   "source": [
    "test='''a\n",
    "b\n",
    "c\n",
    "d\n",
    "'''\n",
    "retest= re.sub(\"(b.*d)\",\"\\1\",test, flags=re.DOTALL)\n",
    "print retest\n"
   ]
  },
  {
   "cell_type": "code",
   "execution_count": null,
   "metadata": {
    "collapsed": false
   },
   "outputs": [],
   "source": [
    "test=[\n",
    "\"b13135\",\n",
    "\"ee7275\",\n",
    "\"ca7074\",\n",
    "\"d1afb0\",\n",
    "\"561216\",\n",
    "\"8b3338\",\n",
    "\"997577\",\n",
    "\"9d4d5a\",\n",
    "\"ef123a\",\n",
    "\"cd1234\",\n",
    "\"b01231\",\n",
    "\"cb3155\",\n",
    "\"871132\",\n",
    "\"e24e79\",\n",
    "\"bc5176\",\n",
    "\"ee8db0\",\n",
    "\"d96e9b\",\n",
    "\"72334e\",\n",
    "\"edb1cf\",\n",
    "\"cd8eb0\",\n",
    "\"6e104a\",\n",
    "\"a71774\",\n",
    "\"ed8fce\",\n",
    "\"c12d93\",\n",
    "\"ad689b\",\n",
    "\"4e3139\",\n",
    "\"ce4fb9\",\n",
    "\"92498a\",\n",
    "\"4f0f4b\",\n",
    "\"741172\",\n",
    "\"753273\",\n",
    "\"c971c6\",\n",
    "\"eeb2ed\",\n",
    "\"d2afd1\",\n",
    "\"ed8eec\",\n",
    "\"d091d0\",\n",
    "\"efd3ef\",\n",
    "\"f8e8f8\",\n",
    "\"cf8fec\",\n",
    "\"501270\",\n",
    "\"8f50b5\",\n",
    "\"332057\",\n",
    "\"693e90\",\n",
    "\"9c69ce\",\n",
    "\"b18ed3\",\n",
    "\"503074\",\n",
    "\"ceb2ee\",\n",
    "\"655874\",\n",
    "\"b08ced\",\n",
    "\"321173\",\n",
    "\"120f1c\",\n",
    "\"6e5ea6\",\n",
    "\"5941c2\",\n",
    "\"9a96ab\",\n",
    "\"372fa8\",\n",
    "\"6a67d9\",\n",
    "\"b1b0ed\",\n",
    "\"8989ce\",\n",
    "\"b0b0d1\",\n",
    "\"e8e8f8\",\n",
    "\"0b0e74\",\n",
    "\"303270\",\n",
    "\"878aee\",\n",
    "\"0c1047\",\n",
    "\"0b25f0\",\n",
    "\"344cf0\",\n",
    "\"0b26d0\",\n",
    "\"333839\",\n",
    "\"0a25b0\",\n",
    "\"cfd4ee\",\n",
    "\"304ccb\",\n",
    "\"0a2a90\",\n",
    "\"364e89\",\n",
    "\"0a51ee\",\n",
    "\"3571f1\",\n",
    "\"0a51d0\",\n",
    "\"3a6ed0\",\n",
    "\"0b316f\",\n",
    "\"3e69b0\",\n",
    "\"88b2ef\",\n",
    "\"0a50b1\",\n",
    "\"0b70f0\",\n",
    "\"3690f2\",\n",
    "\"d8e8f8\",\n",
    "\"096fd0\",\n",
    "\"0b4f90\",\n",
    "\"5caaf0\",\n",
    "\"0a2f4e\",\n",
    "\"1d81d8\",\n",
    "\"448fd1\",\n",
    "\"b0d3ef\",\n",
    "\"0b8fef\",\n",
    "\"1d81c8\",\n",
    "\"88b2cf\",\n",
    "\"0888d8\",\n",
    "\"0971af\",\n",
    "\"1d98df\",\n",
    "\"0888c8\",\n",
    "\"1d82b8\",\n",
    "\"34b2f0\",\n",
    "\"6799b4\",\n",
    "\"c8e8f8\",\n",
    "\"0898d8\",\n",
    "\"366e88\",\n",
    "\"5cacd1\",\n",
    "\"91d2ef\",\n",
    "\"0b4f6b\",\n",
    "\"3f90b1\",\n",
    "\"0888b8\",\n",
    "\"0db0ed\",\n",
    "\"1d98c8\",\n",
    "\"0898c8\",\n",
    "\"0a6f91\",\n",
    "\"18a8d8\",\n",
    "\"1d80a2\",\n",
    "\"08a8d8\",\n",
    "\"71d1ee\",\n",
    "\"0888a8\",\n",
    "\"1d98b8\",\n",
    "\"2fb1d0\",\n",
    "\"08a8c8\",\n",
    "\"0898b8\",\n",
    "\"18b8d8\",\n",
    "\"18a8c8\",\n",
    "\"50d1ee\",\n",
    "\"08b8d8\",\n",
    "\"30d0ee\",\n",
    "\"0eceec\",\n",
    "\"0898a8\",\n",
    "\"1da8b8\",\n",
    "\"08c8d8\",\n",
    "\"08b8c8\",\n",
    "\"08a8b8\",\n",
    "\"18c8d8\",\n",
    "\"18b8c8\",\n",
    "\"1d98a2\",\n",
    "\"4ecbd2\",\n",
    "\"31cfd5\",\n",
    "\"70d0d3\",\n",
    "\"91eff2\",\n",
    "\"b1eff2\",\n",
    "\"678889\",\n",
    "\"098f91\",\n",
    "\"0fedee\",\n",
    "\"31edef\",\n",
    "\"51edf0\",\n",
    "\"71eef1\",\n",
    "\"90d1d2\",\n",
    "\"08d8d8\",\n",
    "\"08c8c8\",\n",
    "\"08b8b8\",\n",
    "\"08a8a8\",\n",
    "\"18d8d8\",\n",
    "\"1fc8c6\",\n",
    "\"1eb8b8\",\n",
    "\"c8f8f8\",\n",
    "\"b1d3d3\",\n",
    "\"c8e8e8\",\n",
    "\"d8f8f8\",\n",
    "\"d8e8e8\",\n",
    "\"e8f8f8\",\n",
    "\"1ea8a4\",\n",
    "\"40b6b3\",\n",
    "\"0b736e\",\n",
    "\"08d8c5\",\n",
    "\"0bc8b8\",\n",
    "\"3b948c\",\n",
    "\"08bca7\",\n",
    "\"0cead5\",\n",
    "\"20d9c4\",\n",
    "\"31ead4\",\n",
    "\"51ead5\",\n",
    "\"09ac92\",\n",
    "\"20bda4\",\n",
    "\"70ead4\",\n",
    "\"68c1b2\",\n",
    "\"0a4b3e\",\n",
    "\"cfd4d3\",\n",
    "\"91ead4\",\n",
    "\"b2ebd4\",\n",
    "\"c8f8e4\",\n",
    "\"d8f8e8\",\n",
    "\"a8c6b2\",\n",
    "\"d3ead6\",\n",
    "\"e8f8e8\",\n",
    "\"cfecb4\",\n",
    "\"e8f8d8\",\n",
    "\"97a97b\",\n",
    "\"e4f8c5\",\n",
    "\"d4eb8d\",\n",
    "\"f8f8c8\",\n",
    "\"e8e8c8\",\n",
    "\"f8f8d8\",\n",
    "\"e8e8d8\",\n",
    "\"f8f8e8\",\n",
    "\"d3ce8f\",\n",
    "\"f5ea8e\",\n",
    "\"f5ecb1\",\n",
    "\"d3cfb2\",\n",
    "\"d3b10e\",\n",
    "\"f4ce16\",\n",
    "\"d3b430\",\n",
    "\"f3d041\",\n",
    "\"d2b551\",\n",
    "\"9a7b28\",\n",
    "\"f3d06a\",\n",
    "\"f3af0d\",\n",
    "\"675833\",\n",
    "\"d2b571\",\n",
    "\"d28f0d\",\n",
    "\"f2b030\",\n",
    "\"f3d190\",\n",
    "\"f8e8c8\",\n",
    "\"f2b051\",\n",
    "\"f2900d\",\n",
    "\"d28f31\",\n",
    "\"d16f0e\",\n",
    "\"f29030\",\n",
    "\"f2b070\",\n",
    "\"f2d2b0\",\n",
    "\"f8e8d8\",\n",
    "\"d08f51\",\n",
    "\"d0af91\",\n",
    "\"f2700d\",\n",
    "\"f19150\",\n",
    "\"d06f31\",\n",
    "\"cf4f0d\",\n",
    "\"f17130\",\n",
    "\"f1b090\",\n",
    "\"cf8f71\",\n",
    "\"f2500d\",\n",
    "\"8b310f\",\n",
    "\"af4f2c\",\n",
    "\"f09170\",\n",
    "\"f0714f\",\n",
    "\"cd6e51\",\n",
    "\"b12f0f\",\n",
    "\"f0320b\",\n",
    "\"d02f0e\",\n",
    "\"ef5130\",\n",
    "\"d14e31\",\n",
    "\"f0d2cf\",\n",
    "\"f0100a\",\n",
    "\"ce100b\",\n",
    "\"f0b1af\",\n",
    "\"b10e0c\",\n",
    "\"8a0d0d\",\n",
    "\"ed3432\",\n",
    "\"ce322f\",\n",
    "\"ee5251\",\n",
    "\"c9504f\",\n",
    "\"ef918f\",\n",
    "\"080000\",\n",
    "\"f8e8e8\",\n",
    "\"f8f8f8\",\n",
    "\"e8e8e8\"\n",
    "]"
   ]
  },
  {
   "cell_type": "code",
   "execution_count": null,
   "metadata": {
    "collapsed": false
   },
   "outputs": [],
   "source": [
    "valeurs={\"0\":0,\"1\":1,\"2\":2,\"3\":3,\"4\":4,\"5\":5,\"6\":6,\"7\":7,\"8\":8,\"9\":9,\"a\":10,\"b\":11,\"c\":12,\"d\":13,\"e\":14,\"f\":15}\n",
    "total=[0,0,0,0,0,0]\n",
    "for element in test:\n",
    "    for i in range(6):\n",
    "        total[i]+=valeurs[element[i]]"
   ]
  },
  {
   "cell_type": "code",
   "execution_count": null,
   "metadata": {
    "collapsed": false,
    "scrolled": true
   },
   "outputs": [],
   "source": [
    "for element in [item for sublist in [[x[i:i+2] for i in range(0, len(x), 2)] for x in test[30:]] for item in sublist]:\n",
    "    print element,"
   ]
  },
  {
   "cell_type": "code",
   "execution_count": null,
   "metadata": {
    "collapsed": false,
    "scrolled": true
   },
   "outputs": [],
   "source": [
    "webcolors.css3_hex_to_names"
   ]
  },
  {
   "cell_type": "code",
   "execution_count": null,
   "metadata": {
    "collapsed": false,
    "scrolled": true
   },
   "outputs": [],
   "source": [
    "for element in sorted(test):\n",
    "    print element"
   ]
  },
  {
   "cell_type": "code",
   "execution_count": null,
   "metadata": {
    "collapsed": false
   },
   "outputs": [],
   "source": [
    "from IPython.lib import passwd\n",
    "passwd()"
   ]
  },
  {
   "cell_type": "code",
   "execution_count": null,
   "metadata": {
    "collapsed": true
   },
   "outputs": [],
   "source": [
    "import itertools\n",
    "def calculation(n):\n",
    "    result=(n[0]+13*n[1]/n[2]+n[3]+12*n[4]-n[5]-11+n[6]*n[7]/n[8]-10)\n",
    "    if result==66:\n",
    "        return n\n",
    "    else:\n",
    "        return []"
   ]
  },
  {
   "cell_type": "code",
   "execution_count": null,
   "metadata": {
    "collapsed": false,
    "scrolled": true
   },
   "outputs": [],
   "source": [
    "num=1\n",
    "for n in itertools.permutations(xrange(1,10)):\n",
    "    if n[1]%n[2]==0 and n[6]*n[7]%n[8]==0:\n",
    "        order=calculation(n)\n",
    "        if order:\n",
    "            print num, order\n",
    "            num+=1"
   ]
  },
  {
   "cell_type": "code",
   "execution_count": null,
   "metadata": {
    "collapsed": true
   },
   "outputs": [],
   "source": []
  }
 ],
 "metadata": {
  "kernelspec": {
   "display_name": "Python 2",
   "language": "python",
   "name": "python2"
  },
  "language_info": {
   "codemirror_mode": {
    "name": "ipython",
    "version": 2
   },
   "file_extension": ".py",
   "mimetype": "text/x-python",
   "name": "python",
   "nbconvert_exporter": "python",
   "pygments_lexer": "ipython2",
   "version": "2.7.10"
  }
 },
 "nbformat": 4,
 "nbformat_minor": 0
}
