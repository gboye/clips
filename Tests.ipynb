{
 "metadata": {
  "name": "",
  "signature": "sha256:a0be3de8fd9038fc62607755a4fa3b13e6dad45d1957e90d8942760357f96de6"
 },
 "nbformat": 3,
 "nbformat_minor": 0,
 "worksheets": [
  {
   "cells": [
    {
     "cell_type": "code",
     "collapsed": false,
     "input": [
      "import unicodedata\n",
      "liste=[]\n",
      "s = u\"\u0254\u0303w\u0303\u0254t\u0268\"\n",
      "comb=False\n",
      "prec=u\"\"\n",
      "for char in s:\n",
      "    if unicodedata.combining(char):\n",
      "        liste.append(prec+char)\n",
      "        prec=\"\"\n",
      "    else:\n",
      "        liste.append(prec)\n",
      "        prec=char\n",
      "liste.append(prec)\n",
      "print \" \".join(liste)"
     ],
     "language": "python",
     "metadata": {},
     "outputs": [
      {
       "output_type": "stream",
       "stream": "stdout",
       "text": [
        " \u0254\u0303  w\u0303  \u0254 t \u0268\n"
       ]
      }
     ],
     "prompt_number": 34
    },
    {
     "cell_type": "code",
     "collapsed": false,
     "input": [],
     "language": "python",
     "metadata": {},
     "outputs": []
    }
   ],
   "metadata": {}
  }
 ]
}