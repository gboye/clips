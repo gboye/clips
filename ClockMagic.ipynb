{
 "cells": [
  {
   "cell_type": "code",
   "execution_count": 256,
   "metadata": {},
   "outputs": [],
   "source": [
    "import random as rd\n",
    "import re"
   ]
  },
  {
   "cell_type": "markdown",
   "metadata": {},
   "source": [
    "# Kruskal Clock Trick\n",
    "\n",
    "1. faire choisir un nombre entre 1 et 12\n",
    "1. compter les lettres en avançant à partir de 1\n",
    "1. recommencer avec le nombre où on est arrivé en comptant à partir du suivant\n",
    "1. recommencer encore\n",
    "1. déclarer que le point où on est arrivé ne peut pas être dans skips\n",
    "1. recommencer à compter avec le nombre en question mais en sautant les nombres supprimés (skips)\n",
    "1. encore une fois.\n",
    "1. donner la position finale"
   ]
  },
  {
   "cell_type": "code",
   "execution_count": 232,
   "metadata": {},
   "outputs": [],
   "source": [
    "enNumbers={1:\"one\",\n",
    "         2:\"two\",\n",
    "         3:\"three\",\n",
    "         4:\"four\",\n",
    "         5:\"five\",\n",
    "         6:\"six\",\n",
    "         7:\"seven\",\n",
    "         8:\"eight\",\n",
    "         9:\"nine\",\n",
    "         10:\"ten\",\n",
    "         11:\"eleven\",\n",
    "         12:\"twelve\"        \n",
    "        }\n",
    "frNumbers={1:\"un\",\n",
    "         2:\"deux\",\n",
    "         3:\"trois\",\n",
    "         4:\"quatre\",\n",
    "         5:\"cinq\",\n",
    "         6:\"six\",\n",
    "         7:\"sept\",\n",
    "         8:\"huit\",\n",
    "         9:\"neuf\",\n",
    "         10:\"dix\",\n",
    "         11:\"onze\",\n",
    "         12:\"douze\"        \n",
    "        }\n",
    "enSkips=[2,4,8,12]\n",
    "#frSkips=[2,5,6,10,11]\n",
    "frSkips=[2,6,10,11]"
   ]
  },
  {
   "cell_type": "code",
   "execution_count": 233,
   "metadata": {},
   "outputs": [],
   "source": [
    "def adjust12(number):\n",
    "    result=number%12\n",
    "    if result==0: \n",
    "        result=12\n",
    "    return result"
   ]
  },
  {
   "cell_type": "code",
   "execution_count": 234,
   "metadata": {},
   "outputs": [],
   "source": [
    "language=\"fr\"\n",
    "if language==\"fr\":\n",
    "    choices=frNumbers\n",
    "    skips=frSkips\n",
    "else:\n",
    "    choices=enNumbers\n",
    "    skips=enSkips\n",
    "    \n",
    "def move1(choice):\n",
    "    return len(choices[choice])\n",
    "\n",
    "def move2(choice):\n",
    "    lMove=0\n",
    "    lPos=choice+1\n",
    "    while True:\n",
    "        lPos=adjust12(lPos)\n",
    "        if lPos not in skips:\n",
    "            lMove+=1\n",
    "        if lMove==len(choices[choice]):\n",
    "            break\n",
    "        lPos+=1\n",
    "    return adjust12(lPos)\n",
    "    "
   ]
  },
  {
   "cell_type": "code",
   "execution_count": 236,
   "metadata": {},
   "outputs": [
    {
     "name": "stdout",
     "output_type": "stream",
     "text": [
      "fr\n",
      "1 \t{1: 2, 2: 6, 3: 9, 4: 4, 5: 1}\n",
      "2 \t{1: 4, 2: 10, 3: 1, 4: 4, 5: 1}\n",
      "3 \t{1: 5, 2: 9, 3: 1, 4: 4, 5: 1}\n",
      "4 \t{1: 6, 2: 9, 3: 1, 4: 4, 5: 1}\n",
      "5 \t{1: 4, 2: 10, 3: 1, 4: 4, 5: 1}\n",
      "6 \t{1: 3, 2: 8, 3: 12, 4: 7, 5: 1}\n",
      "7 \t{1: 4, 2: 10, 3: 1, 4: 4, 5: 1}\n",
      "8 \t{1: 4, 2: 10, 3: 1, 4: 4, 5: 1}\n",
      "9 \t{1: 4, 2: 10, 3: 1, 4: 4, 5: 1}\n",
      "10 \t{1: 3, 2: 8, 3: 12, 4: 7, 5: 1}\n",
      "11 \t{1: 4, 2: 10, 3: 1, 4: 4, 5: 1}\n",
      "12 \t{1: 5, 2: 9, 3: 1, 4: 4, 5: 1}\n",
      "ok 1\n"
     ]
    }
   ],
   "source": [
    "nbTours=2\n",
    "nbAutres=2\n",
    "final=[]\n",
    "print language\n",
    "for i in range(12):\n",
    "    clock={}\n",
    "    choice=i+1\n",
    "    clock[1]=move1(choice)\n",
    "    print choice,\"\\t\",\n",
    "    for n in range(1,nbTours+1):\n",
    "        clock[n+1]=adjust12(move1(clock[n])+clock[n])\n",
    "    for i in range(n+1,n+nbAutres+1):\n",
    "        clock[i+1]=move2(clock[i])\n",
    "    print clock\n",
    "    final.append(clock[max(clock.keys())])\n",
    "if max(final)==min(final):\n",
    "    print \"ok\",min(final)\n",
    "else:\n",
    "    print min(final),max(final)\n"
   ]
  },
  {
   "cell_type": "markdown",
   "metadata": {},
   "source": [
    "# Kruskal Card Trick"
   ]
  },
  {
   "cell_type": "code",
   "execution_count": 374,
   "metadata": {},
   "outputs": [],
   "source": [
    "rd.seed(2464)\n",
    "nbDecks=1\n",
    "faces=u\"A K Q J 2 3 4 5 6 7 8 9 10\".split()\n",
    "colours=u\"♦♥♣♠\"\n",
    "cards=[(f+c).ljust(3,' ') for f in faces for c in colours]\n",
    "deck=cards[:]*nbDecks\n",
    "    "
   ]
  },
  {
   "cell_type": "code",
   "execution_count": 375,
   "metadata": {},
   "outputs": [],
   "source": [
    "def getCard(lPos):\n",
    "    lCard=deck[lPos]\n",
    "    m=re.search(ur\"(\\d+)\",lCard)\n",
    "    if m:\n",
    "        card=int(m.group(1))\n",
    "    elif lCard[0]==\"A\":\n",
    "        card=1\n",
    "    else:\n",
    "        card=5\n",
    "    return card"
   ]
  },
  {
   "cell_type": "code",
   "execution_count": 376,
   "metadata": {},
   "outputs": [],
   "source": [
    "def monteCarlo(verbose=False):\n",
    "    results=[]\n",
    "    rd.shuffle(deck)\n",
    "    if verbose:\n",
    "        for nCard,card in enumerate(deck):\n",
    "            if nCard%10==0 and nCard<50:\n",
    "                print\n",
    "                print\n",
    "            print \"%s \"%card,\n",
    "        print\n",
    "        print\n",
    "    for i in range(10):\n",
    "        cPos=i\n",
    "        nPos=i\n",
    "        while True:\n",
    "    #         print cPos,deck[cPos],\n",
    "            nPos=cPos+getCard(cPos)\n",
    "            if nPos>=len(deck):\n",
    "                break\n",
    "            else:\n",
    "                cPos=nPos\n",
    "        if verbose: print i+1,cPos,deck[cPos]\n",
    "        results.append(cPos)\n",
    "    if max(results)==min(results):\n",
    "        return 1\n",
    "    else:\n",
    "        distribution=dict((x,results.count(x)) for x in set(results))\n",
    "        if verbose:\n",
    "            print distribution\n",
    "        result=sum([(float(i)/10)**2 for i in distribution.values()])\n",
    "        return result"
   ]
  },
  {
   "cell_type": "code",
   "execution_count": 377,
   "metadata": {},
   "outputs": [
    {
     "name": "stdout",
     "output_type": "stream",
     "text": [
      "84.412\n",
      "58.8\n"
     ]
    }
   ],
   "source": [
    "nbTries=1000\n",
    "nbSuccess=0\n",
    "completeSuccess=0\n",
    "for i in range(nbTries):\n",
    "    increment=monteCarlo()\n",
    "    nbSuccess+=increment\n",
    "    if increment==1:\n",
    "        completeSuccess+=1\n",
    "print 100*float(nbSuccess)/nbTries\n",
    "print 100*float(completeSuccess)/nbTries"
   ]
  },
  {
   "cell_type": "code",
   "execution_count": null,
   "metadata": {},
   "outputs": [],
   "source": []
  },
  {
   "cell_type": "code",
   "execution_count": null,
   "metadata": {},
   "outputs": [],
   "source": []
  }
 ],
 "metadata": {
  "kernelspec": {
   "display_name": "Python 2",
   "language": "python",
   "name": "python2"
  },
  "language_info": {
   "codemirror_mode": {
    "name": "ipython",
    "version": 2
   },
   "file_extension": ".py",
   "mimetype": "text/x-python",
   "name": "python",
   "nbconvert_exporter": "python",
   "pygments_lexer": "ipython2",
   "version": "2.7.15"
  }
 },
 "nbformat": 4,
 "nbformat_minor": 2
}
