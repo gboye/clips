{
 "cells": [
  {
   "cell_type": "code",
   "execution_count": 8,
   "metadata": {
    "collapsed": false
   },
   "outputs": [
    {
     "name": "stdout",
     "output_type": "stream",
     "text": [
      "\\feature{ind}{prs}{1sg} & \\feature{ind}{pst}{1sg} & \\emph{be} & \\emph{were}  \\\\\n",
      "\\feature{ind}{prs}{2} & \\feature{ind}{pst}{2} & \\emph{be} & \\emph{were}  \\\\\n",
      "\\feature{ind}{prs}{3sg} & \\feature{ind}{pst}{3sg} & \\emph{be} & \\emph{were}  \\\\\n",
      "\\feature{ind}{prs}{1pl} & \\feature{pst}{prs}{1pl} & \\emph{be} & \\emph{were}  \\\\\n",
      "\\feature{ind}{prs}{3pl} & \\feature{pst}{prs}{3pl} & \\emph{be} & \\emph{were}  \\\\\n",
      "\n"
     ]
    }
   ],
   "source": [
    "#LaTeX table transpose\n",
    "#Peter Raffensperger\n",
    "#9 Jan 2012\n",
    "\n",
    "import numpy\n",
    "\n",
    "x = r\"\"\"\n",
    "\\feature{ind}{prs}{1sg} & \\feature{ind}{prs}{2} & \\feature{ind}{prs}{3sg} & \\feature{ind}{prs}{1pl} & \\feature{ind}{prs}{3pl} \\\\\n",
    "\\feature{ind}{pst}{1sg} & \\feature{ind}{pst}{2} & \\feature{ind}{pst}{3sg} & \\feature{pst}{prs}{1pl} & \\feature{pst}{prs}{3pl} \\\\\n",
    "\\emph{be} & \\emph{be} & \\emph{be} & \\emph{be} & \\emph{be} \\\\\n",
    "\\emph{were} & \\emph{were} & \\emph{were} & \\emph{were} & \\emph{were} \\\\\n",
    "\"\"\"\n",
    "\n",
    "x = x.replace(r'\\hline', '')\n",
    "x = x.replace(r'\\toprule', '')\n",
    "x = x.replace(r'\\midrule', '')\n",
    "x = x.replace(r'\\bottomrule', '')\n",
    "tableRows = x.split(r'\\\\')\n",
    "table = None\n",
    "for i, t in enumerate(tableRows):\n",
    "\tif t != '\\n':\n",
    "\t\tif table is None:\n",
    "\t\t\ttable = numpy.array(t.split('&'))\n",
    "\t\telse:\n",
    "\t\t\ttable = numpy.vstack((table, numpy.array(t.split('&'))))\n",
    "\n",
    "tableTrans = table.T.tolist()\n",
    "\n",
    "tNew = ''\n",
    "for row in tableTrans:\n",
    "\tfor col in row:\n",
    "\t\ttNew += col.strip() + ' & '\n",
    "\ttNew = tNew[:-2] + r' \\\\' + '\\n'\n",
    "print tNew"
   ]
  },
  {
   "cell_type": "code",
   "execution_count": null,
   "metadata": {
    "collapsed": true
   },
   "outputs": [],
   "source": []
  }
 ],
 "metadata": {
  "kernelspec": {
   "display_name": "Python 2",
   "language": "python",
   "name": "python2"
  },
  "language_info": {
   "codemirror_mode": {
    "name": "ipython",
    "version": 2
   },
   "file_extension": ".py",
   "mimetype": "text/x-python",
   "name": "python",
   "nbconvert_exporter": "python",
   "pygments_lexer": "ipython2",
   "version": "2.7.9"
  }
 },
 "nbformat": 4,
 "nbformat_minor": 0
}
