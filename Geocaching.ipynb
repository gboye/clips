{
 "cells": [
  {
   "cell_type": "code",
   "execution_count": 1,
   "metadata": {
    "collapsed": true
   },
   "outputs": [],
   "source": [
    "import string"
   ]
  },
  {
   "cell_type": "code",
   "execution_count": 9,
   "metadata": {
    "collapsed": true
   },
   "outputs": [],
   "source": [
    "plaques=[\"acn 621\",\"nbb 453\",\"uaw 806\",\"edi 319\"]"
   ]
  },
  {
   "cell_type": "code",
   "execution_count": 12,
   "metadata": {
    "collapsed": false
   },
   "outputs": [
    {
     "name": "stdout",
     "output_type": "stream",
     "text": [
      "g e o r g e c a c h e r\n"
     ]
    }
   ],
   "source": [
    "for plaque in plaques:\n",
    "    (chaine,numeros)=plaque.split(\" \")\n",
    "    nums = [int(n) for n in numeros]\n",
    "    for n,lettre in enumerate(chaine):\n",
    "#        print n, lettre\n",
    "        nLettre=(int(nums[n])+string.ascii_lowercase.index(lettre))%26\n",
    "        print string.ascii_lowercase[nLettre],"
   ]
  }
 ],
 "metadata": {
  "kernelspec": {
   "display_name": "Python 2",
   "language": "python",
   "name": "python2"
  },
  "language_info": {
   "codemirror_mode": {
    "name": "ipython",
    "version": 2
   },
   "file_extension": ".py",
   "mimetype": "text/x-python",
   "name": "python",
   "nbconvert_exporter": "python",
   "pygments_lexer": "ipython2",
   "version": "2.7.11"
  }
 },
 "nbformat": 4,
 "nbformat_minor": 0
}
