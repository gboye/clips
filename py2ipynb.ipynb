{
 "metadata": {
  "signature": "sha256:90591865ddb3842418d94d806a0b4a190572bbd1a9caaa566a313ded707f41e9"
 },
 "nbformat": 3,
 "nbformat_minor": 0,
 "worksheets": [
  {
   "cells": [
    {
     "cell_type": "code",
     "collapsed": false,
     "input": [
      "%load \"py2ipynb.py\""
     ],
     "language": "python",
     "metadata": {},
     "outputs": [],
     "prompt_number": 13
    },
    {
     "cell_type": "code",
     "collapsed": false,
     "input": [
      "\n",
      "\n",
      "# In[9]:\n",
      "\n",
      "import IPython.nbformat.current as nbf\n",
      "import optparse\n",
      "\n",
      "\n",
      "# In[10]:\n",
      "\n",
      "try:\n",
      "    __IPYTHON__\n",
      "    ipython=True\n",
      "except NameError:\n",
      "    ipython=False\n",
      "\n",
      "\n",
      "# In[11]:\n",
      "\n",
      "if ipython:\n",
      "    pyFile=\"PDM.py\"\n",
      "else:\n",
      "    parser=optparse.OptionParser()\n",
      "    (options, args)=parser.parse_args()\n",
      "    if args:\n",
      "        pyFile=args[0]\n",
      "ipynbFile=pyFile.replace(\".py\",\".ipynb\")\n",
      "\n",
      "\n",
      "# In[12]:\n",
      "\n",
      "nb = nbf.read(open(pyFile, 'r'), 'py')\n",
      "nbf.write(nb, open(ipynbFile, 'w'), 'ipynb')\n",
      "\n",
      "\n",
      "# In[ ]:\n",
      "\n",
      "\n",
      "\n"
     ],
     "language": "python",
     "metadata": {},
     "outputs": []
    },
    {
     "cell_type": "code",
     "collapsed": false,
     "input": [],
     "language": "python",
     "metadata": {},
     "outputs": []
    }
   ],
   "metadata": {}
  }
 ]
}